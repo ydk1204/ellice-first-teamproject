{
  "nbformat": 4,
  "nbformat_minor": 0,
  "metadata": {
    "colab": {
      "name": "kinolights_TV_EDA",
      "provenance": [],
      "collapsed_sections": [],
      "mount_file_id": "1KSk80LTtEfRXxGh-_0_yhfDkAcKP3Uaa",
      "authorship_tag": "ABX9TyMDHRhUbKTS5e4Fc35wntUp",
      "include_colab_link": true
    },
    "kernelspec": {
      "name": "python3",
      "display_name": "Python 3"
    },
    "language_info": {
      "name": "python"
    },
    "accelerator": "GPU"
  },
  "cells": [
    {
      "cell_type": "markdown",
      "metadata": {
        "id": "view-in-github",
        "colab_type": "text"
      },
      "source": [
        "<a href=\"https://colab.research.google.com/github/world970511/elice_OTT/blob/master/eda/kinolights_TV_EDA.ipynb\" target=\"_parent\"><img src=\"https://colab.research.google.com/assets/colab-badge.svg\" alt=\"Open In Colab\"/></a>"
      ]
    },
    {
      "cell_type": "markdown",
      "source": [
        "\n",
        "#**OTT 서비스 (TV) 분석**"
      ],
      "metadata": {
        "id": "Yj4cO1WoGJ02"
      }
    },
    {
      "cell_type": "code",
      "execution_count": 26,
      "metadata": {
        "id": "1EzInUZhkBhR"
      },
      "outputs": [],
      "source": [
        "import pandas as pd\n",
        "import numpy as np\n",
        "import re\n",
        "import urllib.request"
      ]
    },
    {
      "cell_type": "code",
      "source": [
        "!pip install plotly"
      ],
      "metadata": {
        "id": "xGjm0YrwWqfJ",
        "colab": {
          "base_uri": "https://localhost:8080/"
        },
        "outputId": "553ab9c9-c2e6-4fca-cc35-7597e2df50d8"
      },
      "execution_count": 27,
      "outputs": [
        {
          "output_type": "stream",
          "name": "stdout",
          "text": [
            "Requirement already satisfied: plotly in /usr/local/lib/python3.7/dist-packages (4.4.1)\n",
            "Requirement already satisfied: retrying>=1.3.3 in /usr/local/lib/python3.7/dist-packages (from plotly) (1.3.3)\n",
            "Requirement already satisfied: six in /usr/local/lib/python3.7/dist-packages (from plotly) (1.15.0)\n"
          ]
        }
      ]
    },
    {
      "cell_type": "markdown",
      "source": [
        "##**데이터 전처리**"
      ],
      "metadata": {
        "id": "kmS-lO-kGXV7"
      }
    },
    {
      "cell_type": "code",
      "source": [
        "#데이터 다운로드\n",
        "urllib.request.urlretrieve(\"https://raw.githubusercontent.com/world970511/elice_OTT/master/dataset/kinolight_all_data.csv\",\n",
        "                        filename=\"OTT.csv\")\n",
        "data = pd.read_csv('OTT.csv',encoding='utf-8')\n",
        "tv_data=data.loc[data.kind == 'TV'] # kind가 tv인 것만 사용\n",
        "tv_data.info"
      ],
      "metadata": {
        "id": "ddc2h_f7Gek9",
        "colab": {
          "base_uri": "https://localhost:8080/"
        },
        "outputId": "c2d3ba11-46ea-4aae-d9c6-1c1917a4abec"
      },
      "execution_count": 28,
      "outputs": [
        {
          "output_type": "execute_result",
          "data": {
            "text/plain": [
              "<bound method DataFrame.info of                                     title  ...          provider\n",
              "0                  고요의 바다(The Silent Sea)  ...          ['넷플릭스']\n",
              "2                           설강화(Snowdrop)  ...          ['디즈니+']\n",
              "7             그 해 우리는(Our Beloved Summer)  ...   ['넷플릭스', '웨이브']\n",
              "9           불가살(Bulgasal: Immortal Souls)  ...    ['넷플릭스', '티빙']\n",
              "12              옷소매 붉은 끝동(The Red Sleeve)  ...  ['웨이브', '쿠팡플레이']\n",
              "...                                   ...  ...               ...\n",
              "27311  미니의 리본 가게 시즌 3(Minnie's Bow-Toons)  ...          ['디즈니+']\n",
              "27312         만능 수리공 매니 시즌 1(Handy Manny)  ...          ['디즈니+']\n",
              "27313         만능 수리공 매니 시즌 2(Handy Manny)  ...          ['디즈니+']\n",
              "27314          아기를 부탁해! 토츠 시즌 2(T.O.T.S.)  ...          ['디즈니+']\n",
              "27315            실험실의 비밀친구 시즌 3(Lab Rats)  ...          ['디즈니+']\n",
              "\n",
              "[11428 rows x 10 columns]>"
            ]
          },
          "metadata": {},
          "execution_count": 28
        }
      ]
    },
    {
      "cell_type": "code",
      "source": [
        "#중복제거 및 기타 제거\n",
        "li=['genre','country','cast','director','provider',]\n",
        "\n",
        "for i in li:\n",
        "  tv_data[i]=tv_data[i].apply(lambda x:re.sub(r'\\([^)]*\\)', '',x.replace('[','').replace(']','').replace(\"'\",'').replace(\"'\",'')))\n",
        "  tv_data[i]=tv_data[i].apply(lambda x:re.sub(r' ', '',x))\n",
        "  tv_data[i]=tv_data[i].apply(lambda x: ','.join(set(x.strip().split(','))))\n",
        "\n",
        "tv_data.head(5)"
      ],
      "metadata": {
        "id": "oYCga7FSLE88",
        "colab": {
          "base_uri": "https://localhost:8080/",
          "height": 642
        },
        "outputId": "098dc661-71c2-4664-94f8-7d1fcdaf73c9"
      },
      "execution_count": 29,
      "outputs": [
        {
          "output_type": "stream",
          "name": "stderr",
          "text": [
            "/usr/local/lib/python3.7/dist-packages/ipykernel_launcher.py:5: SettingWithCopyWarning:\n",
            "\n",
            "\n",
            "A value is trying to be set on a copy of a slice from a DataFrame.\n",
            "Try using .loc[row_indexer,col_indexer] = value instead\n",
            "\n",
            "See the caveats in the documentation: https://pandas.pydata.org/pandas-docs/stable/user_guide/indexing.html#returning-a-view-versus-a-copy\n",
            "\n",
            "/usr/local/lib/python3.7/dist-packages/ipykernel_launcher.py:6: SettingWithCopyWarning:\n",
            "\n",
            "\n",
            "A value is trying to be set on a copy of a slice from a DataFrame.\n",
            "Try using .loc[row_indexer,col_indexer] = value instead\n",
            "\n",
            "See the caveats in the documentation: https://pandas.pydata.org/pandas-docs/stable/user_guide/indexing.html#returning-a-view-versus-a-copy\n",
            "\n",
            "/usr/local/lib/python3.7/dist-packages/ipykernel_launcher.py:7: SettingWithCopyWarning:\n",
            "\n",
            "\n",
            "A value is trying to be set on a copy of a slice from a DataFrame.\n",
            "Try using .loc[row_indexer,col_indexer] = value instead\n",
            "\n",
            "See the caveats in the documentation: https://pandas.pydata.org/pandas-docs/stable/user_guide/indexing.html#returning-a-view-versus-a-copy\n",
            "\n"
          ]
        },
        {
          "output_type": "execute_result",
          "data": {
            "text/html": [
              "\n",
              "  <div id=\"df-160d77de-8fba-4137-9210-a842a436a459\">\n",
              "    <div class=\"colab-df-container\">\n",
              "      <div>\n",
              "<style scoped>\n",
              "    .dataframe tbody tr th:only-of-type {\n",
              "        vertical-align: middle;\n",
              "    }\n",
              "\n",
              "    .dataframe tbody tr th {\n",
              "        vertical-align: top;\n",
              "    }\n",
              "\n",
              "    .dataframe thead th {\n",
              "        text-align: right;\n",
              "    }\n",
              "</style>\n",
              "<table border=\"1\" class=\"dataframe\">\n",
              "  <thead>\n",
              "    <tr style=\"text-align: right;\">\n",
              "      <th></th>\n",
              "      <th>title</th>\n",
              "      <th>year</th>\n",
              "      <th>kind</th>\n",
              "      <th>KMRB</th>\n",
              "      <th>genre</th>\n",
              "      <th>country</th>\n",
              "      <th>cast</th>\n",
              "      <th>director</th>\n",
              "      <th>runtime(min)</th>\n",
              "      <th>provider</th>\n",
              "    </tr>\n",
              "  </thead>\n",
              "  <tbody>\n",
              "    <tr>\n",
              "      <th>0</th>\n",
              "      <td>고요의 바다(The Silent Sea)</td>\n",
              "      <td>2021.0</td>\n",
              "      <td>TV</td>\n",
              "      <td>15세이상관람가</td>\n",
              "      <td>스릴러,SF</td>\n",
              "      <td>한국</td>\n",
              "      <td>이준,공유,이무생,이성욱,배두나,허성태,김선영</td>\n",
              "      <td>최항용</td>\n",
              "      <td>NaN</td>\n",
              "      <td>넷플릭스</td>\n",
              "    </tr>\n",
              "    <tr>\n",
              "      <th>2</th>\n",
              "      <td>설강화(Snowdrop)</td>\n",
              "      <td>2021.0</td>\n",
              "      <td>TV</td>\n",
              "      <td>15세이상관람가</td>\n",
              "      <td>드라마</td>\n",
              "      <td>한국</td>\n",
              "      <td>김혜윤,윤세아,장승조,정유진,정해인,지수,유인나</td>\n",
              "      <td>조현탁</td>\n",
              "      <td>NaN</td>\n",
              "      <td>디즈니+</td>\n",
              "    </tr>\n",
              "    <tr>\n",
              "      <th>7</th>\n",
              "      <td>그 해 우리는(Our Beloved Summer)</td>\n",
              "      <td>2021.0</td>\n",
              "      <td>TV</td>\n",
              "      <td>15세이상관람가</td>\n",
              "      <td>멜로/로맨스</td>\n",
              "      <td>한국</td>\n",
              "      <td>김성철,노정의,조복래,박진주,최우식,김다미</td>\n",
              "      <td>김윤진,이단</td>\n",
              "      <td>NaN</td>\n",
              "      <td>웨이브,넷플릭스</td>\n",
              "    </tr>\n",
              "    <tr>\n",
              "      <th>9</th>\n",
              "      <td>불가살(Bulgasal: Immortal Souls)</td>\n",
              "      <td>2021.0</td>\n",
              "      <td>TV</td>\n",
              "      <td>15세이상관람가</td>\n",
              "      <td>드라마</td>\n",
              "      <td>한국</td>\n",
              "      <td>이준,권나라,이진욱,공승연,박명신,김우석,정진영</td>\n",
              "      <td>장영우</td>\n",
              "      <td>NaN</td>\n",
              "      <td>티빙,넷플릭스</td>\n",
              "    </tr>\n",
              "    <tr>\n",
              "      <th>12</th>\n",
              "      <td>옷소매 붉은 끝동(The Red Sleeve)</td>\n",
              "      <td>2021.0</td>\n",
              "      <td>TV</td>\n",
              "      <td>15세이상관람가</td>\n",
              "      <td>드라마</td>\n",
              "      <td>한국</td>\n",
              "      <td>장혜진,이덕화,이세영,장희진,준호,강훈,박지영</td>\n",
              "      <td>정지인</td>\n",
              "      <td>NaN</td>\n",
              "      <td>쿠팡플레이,웨이브</td>\n",
              "    </tr>\n",
              "  </tbody>\n",
              "</table>\n",
              "</div>\n",
              "      <button class=\"colab-df-convert\" onclick=\"convertToInteractive('df-160d77de-8fba-4137-9210-a842a436a459')\"\n",
              "              title=\"Convert this dataframe to an interactive table.\"\n",
              "              style=\"display:none;\">\n",
              "        \n",
              "  <svg xmlns=\"http://www.w3.org/2000/svg\" height=\"24px\"viewBox=\"0 0 24 24\"\n",
              "       width=\"24px\">\n",
              "    <path d=\"M0 0h24v24H0V0z\" fill=\"none\"/>\n",
              "    <path d=\"M18.56 5.44l.94 2.06.94-2.06 2.06-.94-2.06-.94-.94-2.06-.94 2.06-2.06.94zm-11 1L8.5 8.5l.94-2.06 2.06-.94-2.06-.94L8.5 2.5l-.94 2.06-2.06.94zm10 10l.94 2.06.94-2.06 2.06-.94-2.06-.94-.94-2.06-.94 2.06-2.06.94z\"/><path d=\"M17.41 7.96l-1.37-1.37c-.4-.4-.92-.59-1.43-.59-.52 0-1.04.2-1.43.59L10.3 9.45l-7.72 7.72c-.78.78-.78 2.05 0 2.83L4 21.41c.39.39.9.59 1.41.59.51 0 1.02-.2 1.41-.59l7.78-7.78 2.81-2.81c.8-.78.8-2.07 0-2.86zM5.41 20L4 18.59l7.72-7.72 1.47 1.35L5.41 20z\"/>\n",
              "  </svg>\n",
              "      </button>\n",
              "      \n",
              "  <style>\n",
              "    .colab-df-container {\n",
              "      display:flex;\n",
              "      flex-wrap:wrap;\n",
              "      gap: 12px;\n",
              "    }\n",
              "\n",
              "    .colab-df-convert {\n",
              "      background-color: #E8F0FE;\n",
              "      border: none;\n",
              "      border-radius: 50%;\n",
              "      cursor: pointer;\n",
              "      display: none;\n",
              "      fill: #1967D2;\n",
              "      height: 32px;\n",
              "      padding: 0 0 0 0;\n",
              "      width: 32px;\n",
              "    }\n",
              "\n",
              "    .colab-df-convert:hover {\n",
              "      background-color: #E2EBFA;\n",
              "      box-shadow: 0px 1px 2px rgba(60, 64, 67, 0.3), 0px 1px 3px 1px rgba(60, 64, 67, 0.15);\n",
              "      fill: #174EA6;\n",
              "    }\n",
              "\n",
              "    [theme=dark] .colab-df-convert {\n",
              "      background-color: #3B4455;\n",
              "      fill: #D2E3FC;\n",
              "    }\n",
              "\n",
              "    [theme=dark] .colab-df-convert:hover {\n",
              "      background-color: #434B5C;\n",
              "      box-shadow: 0px 1px 3px 1px rgba(0, 0, 0, 0.15);\n",
              "      filter: drop-shadow(0px 1px 2px rgba(0, 0, 0, 0.3));\n",
              "      fill: #FFFFFF;\n",
              "    }\n",
              "  </style>\n",
              "\n",
              "      <script>\n",
              "        const buttonEl =\n",
              "          document.querySelector('#df-160d77de-8fba-4137-9210-a842a436a459 button.colab-df-convert');\n",
              "        buttonEl.style.display =\n",
              "          google.colab.kernel.accessAllowed ? 'block' : 'none';\n",
              "\n",
              "        async function convertToInteractive(key) {\n",
              "          const element = document.querySelector('#df-160d77de-8fba-4137-9210-a842a436a459');\n",
              "          const dataTable =\n",
              "            await google.colab.kernel.invokeFunction('convertToInteractive',\n",
              "                                                     [key], {});\n",
              "          if (!dataTable) return;\n",
              "\n",
              "          const docLinkHtml = 'Like what you see? Visit the ' +\n",
              "            '<a target=\"_blank\" href=https://colab.research.google.com/notebooks/data_table.ipynb>data table notebook</a>'\n",
              "            + ' to learn more about interactive tables.';\n",
              "          element.innerHTML = '';\n",
              "          dataTable['output_type'] = 'display_data';\n",
              "          await google.colab.output.renderOutput(dataTable, element);\n",
              "          const docLink = document.createElement('div');\n",
              "          docLink.innerHTML = docLinkHtml;\n",
              "          element.appendChild(docLink);\n",
              "        }\n",
              "      </script>\n",
              "    </div>\n",
              "  </div>\n",
              "  "
            ],
            "text/plain": [
              "                            title    year kind  ... director runtime(min)   provider\n",
              "0          고요의 바다(The Silent Sea)  2021.0   TV  ...      최항용          NaN       넷플릭스\n",
              "2                   설강화(Snowdrop)  2021.0   TV  ...      조현탁          NaN       디즈니+\n",
              "7     그 해 우리는(Our Beloved Summer)  2021.0   TV  ...   김윤진,이단          NaN   웨이브,넷플릭스\n",
              "9   불가살(Bulgasal: Immortal Souls)  2021.0   TV  ...      장영우          NaN    티빙,넷플릭스\n",
              "12      옷소매 붉은 끝동(The Red Sleeve)  2021.0   TV  ...      정지인          NaN  쿠팡플레이,웨이브\n",
              "\n",
              "[5 rows x 10 columns]"
            ]
          },
          "metadata": {},
          "execution_count": 29
        }
      ]
    },
    {
      "cell_type": "code",
      "source": [
        "#불필요한 행 제거\n",
        "tv_data= tv_data[tv_data['title']!='title']\n",
        "\n",
        "#년도 정수형으로 변경\n",
        "tv_data['year']=tv_data['year'].astype('float').astype('Int64')\n",
        "\n",
        "#제작미정,시사/교양,기타(장르가 아니라 country로 가있음;;) 정리\n",
        "# 제작미정인 경우 풀릴 예정인 곳과 아닌 곳이 있고 양이 너무 많아서 그냥 장르로 변경함\n",
        "def r_ch(s,i):\n",
        "  li=s.split(',')\n",
        "  if i in li: \n",
        "    li.remove(i)\n",
        "  return ','.join (li)\n",
        "\n",
        "\n",
        "def add_ch(s,i):\n",
        "  li=s.split(',')\n",
        "  if i not in li: li+=[i]\n",
        "  return ','.join (li)\n",
        "\n",
        "li=['미정','시사/교양','기타']\n",
        "for i in li:\n",
        "    d=tv_data.loc[tv_data[\"country\"].str.contains(i)]\n",
        "    tv_data=tv_data.loc[tv_data[\"country\"].str.contains(i)==False]\n",
        "\n",
        "    d['country']=d['country'].apply(lambda x:r_ch(x,i))\n",
        "    d['genre']=d['genre'].apply(lambda x:add_ch(x,i))\n",
        "\n",
        "    tv_data=pd.concat([tv_data,d])\n",
        "\n",
        "tv_data"
      ],
      "metadata": {
        "id": "cMaLNrWNLFDy",
        "colab": {
          "base_uri": "https://localhost:8080/",
          "height": 914
        },
        "outputId": "4697d56c-cb23-4acc-8581-530cafe9860e"
      },
      "execution_count": 30,
      "outputs": [
        {
          "output_type": "stream",
          "name": "stderr",
          "text": [
            "/usr/local/lib/python3.7/dist-packages/ipykernel_launcher.py:26: SettingWithCopyWarning:\n",
            "\n",
            "\n",
            "A value is trying to be set on a copy of a slice from a DataFrame.\n",
            "Try using .loc[row_indexer,col_indexer] = value instead\n",
            "\n",
            "See the caveats in the documentation: https://pandas.pydata.org/pandas-docs/stable/user_guide/indexing.html#returning-a-view-versus-a-copy\n",
            "\n",
            "/usr/local/lib/python3.7/dist-packages/ipykernel_launcher.py:27: SettingWithCopyWarning:\n",
            "\n",
            "\n",
            "A value is trying to be set on a copy of a slice from a DataFrame.\n",
            "Try using .loc[row_indexer,col_indexer] = value instead\n",
            "\n",
            "See the caveats in the documentation: https://pandas.pydata.org/pandas-docs/stable/user_guide/indexing.html#returning-a-view-versus-a-copy\n",
            "\n"
          ]
        },
        {
          "output_type": "execute_result",
          "data": {
            "text/html": [
              "\n",
              "  <div id=\"df-26364106-8d1a-4e0a-9b9a-939964d3eb9f\">\n",
              "    <div class=\"colab-df-container\">\n",
              "      <div>\n",
              "<style scoped>\n",
              "    .dataframe tbody tr th:only-of-type {\n",
              "        vertical-align: middle;\n",
              "    }\n",
              "\n",
              "    .dataframe tbody tr th {\n",
              "        vertical-align: top;\n",
              "    }\n",
              "\n",
              "    .dataframe thead th {\n",
              "        text-align: right;\n",
              "    }\n",
              "</style>\n",
              "<table border=\"1\" class=\"dataframe\">\n",
              "  <thead>\n",
              "    <tr style=\"text-align: right;\">\n",
              "      <th></th>\n",
              "      <th>title</th>\n",
              "      <th>year</th>\n",
              "      <th>kind</th>\n",
              "      <th>KMRB</th>\n",
              "      <th>genre</th>\n",
              "      <th>country</th>\n",
              "      <th>cast</th>\n",
              "      <th>director</th>\n",
              "      <th>runtime(min)</th>\n",
              "      <th>provider</th>\n",
              "    </tr>\n",
              "  </thead>\n",
              "  <tbody>\n",
              "    <tr>\n",
              "      <th>0</th>\n",
              "      <td>고요의 바다(The Silent Sea)</td>\n",
              "      <td>2021</td>\n",
              "      <td>TV</td>\n",
              "      <td>15세이상관람가</td>\n",
              "      <td>스릴러,SF</td>\n",
              "      <td>한국</td>\n",
              "      <td>이준,공유,이무생,이성욱,배두나,허성태,김선영</td>\n",
              "      <td>최항용</td>\n",
              "      <td>NaN</td>\n",
              "      <td>넷플릭스</td>\n",
              "    </tr>\n",
              "    <tr>\n",
              "      <th>2</th>\n",
              "      <td>설강화(Snowdrop)</td>\n",
              "      <td>2021</td>\n",
              "      <td>TV</td>\n",
              "      <td>15세이상관람가</td>\n",
              "      <td>드라마</td>\n",
              "      <td>한국</td>\n",
              "      <td>김혜윤,윤세아,장승조,정유진,정해인,지수,유인나</td>\n",
              "      <td>조현탁</td>\n",
              "      <td>NaN</td>\n",
              "      <td>디즈니+</td>\n",
              "    </tr>\n",
              "    <tr>\n",
              "      <th>7</th>\n",
              "      <td>그 해 우리는(Our Beloved Summer)</td>\n",
              "      <td>2021</td>\n",
              "      <td>TV</td>\n",
              "      <td>15세이상관람가</td>\n",
              "      <td>멜로/로맨스</td>\n",
              "      <td>한국</td>\n",
              "      <td>김성철,노정의,조복래,박진주,최우식,김다미</td>\n",
              "      <td>김윤진,이단</td>\n",
              "      <td>NaN</td>\n",
              "      <td>웨이브,넷플릭스</td>\n",
              "    </tr>\n",
              "    <tr>\n",
              "      <th>9</th>\n",
              "      <td>불가살(Bulgasal: Immortal Souls)</td>\n",
              "      <td>2021</td>\n",
              "      <td>TV</td>\n",
              "      <td>15세이상관람가</td>\n",
              "      <td>드라마</td>\n",
              "      <td>한국</td>\n",
              "      <td>이준,권나라,이진욱,공승연,박명신,김우석,정진영</td>\n",
              "      <td>장영우</td>\n",
              "      <td>NaN</td>\n",
              "      <td>티빙,넷플릭스</td>\n",
              "    </tr>\n",
              "    <tr>\n",
              "      <th>12</th>\n",
              "      <td>옷소매 붉은 끝동(The Red Sleeve)</td>\n",
              "      <td>2021</td>\n",
              "      <td>TV</td>\n",
              "      <td>15세이상관람가</td>\n",
              "      <td>드라마</td>\n",
              "      <td>한국</td>\n",
              "      <td>장혜진,이덕화,이세영,장희진,준호,강훈,박지영</td>\n",
              "      <td>정지인</td>\n",
              "      <td>NaN</td>\n",
              "      <td>쿠팡플레이,웨이브</td>\n",
              "    </tr>\n",
              "    <tr>\n",
              "      <th>...</th>\n",
              "      <td>...</td>\n",
              "      <td>...</td>\n",
              "      <td>...</td>\n",
              "      <td>...</td>\n",
              "      <td>...</td>\n",
              "      <td>...</td>\n",
              "      <td>...</td>\n",
              "      <td>...</td>\n",
              "      <td>...</td>\n",
              "      <td>...</td>\n",
              "    </tr>\n",
              "    <tr>\n",
              "      <th>23867</th>\n",
              "      <td>삼총사 시즌 3(The Musketeers Season 3)</td>\n",
              "      <td>2016</td>\n",
              "      <td>TV</td>\n",
              "      <td>NaN</td>\n",
              "      <td>어드벤처,드라마,기타</td>\n",
              "      <td>영국</td>\n",
              "      <td></td>\n",
              "      <td></td>\n",
              "      <td>NaN</td>\n",
              "      <td>웨이브</td>\n",
              "    </tr>\n",
              "    <tr>\n",
              "      <th>25022</th>\n",
              "      <td>JOB룡 이십끼()</td>\n",
              "      <td>2020</td>\n",
              "      <td>TV</td>\n",
              "      <td>NaN</td>\n",
              "      <td>예능,기타</td>\n",
              "      <td>한국</td>\n",
              "      <td>유민상</td>\n",
              "      <td></td>\n",
              "      <td>NaN</td>\n",
              "      <td>왓챠,웨이브</td>\n",
              "    </tr>\n",
              "    <tr>\n",
              "      <th>26598</th>\n",
              "      <td>빌로우 덱: 지중해의 요티 시즌 2(Below Deck Mediterranean)</td>\n",
              "      <td>2017</td>\n",
              "      <td>TV</td>\n",
              "      <td>NaN</td>\n",
              "      <td>예능,기타</td>\n",
              "      <td>미국</td>\n",
              "      <td></td>\n",
              "      <td></td>\n",
              "      <td>NaN</td>\n",
              "      <td>넷플릭스</td>\n",
              "    </tr>\n",
              "    <tr>\n",
              "      <th>23607</th>\n",
              "      <td>쉘위워크(Shall We Walk?)</td>\n",
              "      <td>2017</td>\n",
              "      <td>TV</td>\n",
              "      <td>NaN</td>\n",
              "      <td>예능,시사/교양,기타</td>\n",
              "      <td>한국</td>\n",
              "      <td>이하늬,이제훈</td>\n",
              "      <td></td>\n",
              "      <td>NaN</td>\n",
              "      <td>티빙</td>\n",
              "    </tr>\n",
              "    <tr>\n",
              "      <th>23686</th>\n",
              "      <td>TV정보쇼 오!아시스()</td>\n",
              "      <td>2018</td>\n",
              "      <td>TV</td>\n",
              "      <td>NaN</td>\n",
              "      <td>예능,시사/교양,기타</td>\n",
              "      <td>한국</td>\n",
              "      <td>신현준,이지애</td>\n",
              "      <td></td>\n",
              "      <td>NaN</td>\n",
              "      <td>티빙</td>\n",
              "    </tr>\n",
              "  </tbody>\n",
              "</table>\n",
              "<p>11428 rows × 10 columns</p>\n",
              "</div>\n",
              "      <button class=\"colab-df-convert\" onclick=\"convertToInteractive('df-26364106-8d1a-4e0a-9b9a-939964d3eb9f')\"\n",
              "              title=\"Convert this dataframe to an interactive table.\"\n",
              "              style=\"display:none;\">\n",
              "        \n",
              "  <svg xmlns=\"http://www.w3.org/2000/svg\" height=\"24px\"viewBox=\"0 0 24 24\"\n",
              "       width=\"24px\">\n",
              "    <path d=\"M0 0h24v24H0V0z\" fill=\"none\"/>\n",
              "    <path d=\"M18.56 5.44l.94 2.06.94-2.06 2.06-.94-2.06-.94-.94-2.06-.94 2.06-2.06.94zm-11 1L8.5 8.5l.94-2.06 2.06-.94-2.06-.94L8.5 2.5l-.94 2.06-2.06.94zm10 10l.94 2.06.94-2.06 2.06-.94-2.06-.94-.94-2.06-.94 2.06-2.06.94z\"/><path d=\"M17.41 7.96l-1.37-1.37c-.4-.4-.92-.59-1.43-.59-.52 0-1.04.2-1.43.59L10.3 9.45l-7.72 7.72c-.78.78-.78 2.05 0 2.83L4 21.41c.39.39.9.59 1.41.59.51 0 1.02-.2 1.41-.59l7.78-7.78 2.81-2.81c.8-.78.8-2.07 0-2.86zM5.41 20L4 18.59l7.72-7.72 1.47 1.35L5.41 20z\"/>\n",
              "  </svg>\n",
              "      </button>\n",
              "      \n",
              "  <style>\n",
              "    .colab-df-container {\n",
              "      display:flex;\n",
              "      flex-wrap:wrap;\n",
              "      gap: 12px;\n",
              "    }\n",
              "\n",
              "    .colab-df-convert {\n",
              "      background-color: #E8F0FE;\n",
              "      border: none;\n",
              "      border-radius: 50%;\n",
              "      cursor: pointer;\n",
              "      display: none;\n",
              "      fill: #1967D2;\n",
              "      height: 32px;\n",
              "      padding: 0 0 0 0;\n",
              "      width: 32px;\n",
              "    }\n",
              "\n",
              "    .colab-df-convert:hover {\n",
              "      background-color: #E2EBFA;\n",
              "      box-shadow: 0px 1px 2px rgba(60, 64, 67, 0.3), 0px 1px 3px 1px rgba(60, 64, 67, 0.15);\n",
              "      fill: #174EA6;\n",
              "    }\n",
              "\n",
              "    [theme=dark] .colab-df-convert {\n",
              "      background-color: #3B4455;\n",
              "      fill: #D2E3FC;\n",
              "    }\n",
              "\n",
              "    [theme=dark] .colab-df-convert:hover {\n",
              "      background-color: #434B5C;\n",
              "      box-shadow: 0px 1px 3px 1px rgba(0, 0, 0, 0.15);\n",
              "      filter: drop-shadow(0px 1px 2px rgba(0, 0, 0, 0.3));\n",
              "      fill: #FFFFFF;\n",
              "    }\n",
              "  </style>\n",
              "\n",
              "      <script>\n",
              "        const buttonEl =\n",
              "          document.querySelector('#df-26364106-8d1a-4e0a-9b9a-939964d3eb9f button.colab-df-convert');\n",
              "        buttonEl.style.display =\n",
              "          google.colab.kernel.accessAllowed ? 'block' : 'none';\n",
              "\n",
              "        async function convertToInteractive(key) {\n",
              "          const element = document.querySelector('#df-26364106-8d1a-4e0a-9b9a-939964d3eb9f');\n",
              "          const dataTable =\n",
              "            await google.colab.kernel.invokeFunction('convertToInteractive',\n",
              "                                                     [key], {});\n",
              "          if (!dataTable) return;\n",
              "\n",
              "          const docLinkHtml = 'Like what you see? Visit the ' +\n",
              "            '<a target=\"_blank\" href=https://colab.research.google.com/notebooks/data_table.ipynb>data table notebook</a>'\n",
              "            + ' to learn more about interactive tables.';\n",
              "          element.innerHTML = '';\n",
              "          dataTable['output_type'] = 'display_data';\n",
              "          await google.colab.output.renderOutput(dataTable, element);\n",
              "          const docLink = document.createElement('div');\n",
              "          docLink.innerHTML = docLinkHtml;\n",
              "          element.appendChild(docLink);\n",
              "        }\n",
              "      </script>\n",
              "    </div>\n",
              "  </div>\n",
              "  "
            ],
            "text/plain": [
              "                                               title  ...   provider\n",
              "0                             고요의 바다(The Silent Sea)  ...       넷플릭스\n",
              "2                                      설강화(Snowdrop)  ...       디즈니+\n",
              "7                        그 해 우리는(Our Beloved Summer)  ...   웨이브,넷플릭스\n",
              "9                      불가살(Bulgasal: Immortal Souls)  ...    티빙,넷플릭스\n",
              "12                         옷소매 붉은 끝동(The Red Sleeve)  ...  쿠팡플레이,웨이브\n",
              "...                                              ...  ...        ...\n",
              "23867              삼총사 시즌 3(The Musketeers Season 3)  ...        웨이브\n",
              "25022                                     JOB룡 이십끼()  ...     왓챠,웨이브\n",
              "26598  빌로우 덱: 지중해의 요티 시즌 2(Below Deck Mediterranean)  ...       넷플릭스\n",
              "23607                           쉘위워크(Shall We Walk?)  ...         티빙\n",
              "23686                                  TV정보쇼 오!아시스()  ...         티빙\n",
              "\n",
              "[11428 rows x 10 columns]"
            ]
          },
          "metadata": {},
          "execution_count": 30
        }
      ]
    },
    {
      "cell_type": "markdown",
      "source": [
        "##**데이터셋**\n",
        "- 키노라이츠(https://m.kinolights.com/) 12월 28일 기준 인기순으로 크롤링한 데이터(tv쇼만)\n",
        "- title, year, kind, KMRB, genre, country, cast, director, runtime(min), provider 으로 구성\n",
        "-provider: '쿠팡플레이', '왓챠', '라프텔', '아마존프라임비디오', '티빙', '웨이브', '넷플릭스', '네이버시리즈온', '디즈니+', 'AppleTV+', 'seezn'\n",
        "- 총 11428개 데이터\n"
      ],
      "metadata": {
        "id": "3BAzbaQmZYYw"
      }
    },
    {
      "cell_type": "code",
      "source": [
        "tv_data.info()\n",
        "#info"
      ],
      "metadata": {
        "id": "sWMaewV6dHJ5",
        "colab": {
          "base_uri": "https://localhost:8080/"
        },
        "outputId": "f9e9a26a-62e5-4e87-86e0-da642a46292b"
      },
      "execution_count": 31,
      "outputs": [
        {
          "output_type": "stream",
          "name": "stdout",
          "text": [
            "<class 'pandas.core.frame.DataFrame'>\n",
            "Int64Index: 11428 entries, 0 to 23686\n",
            "Data columns (total 10 columns):\n",
            " #   Column        Non-Null Count  Dtype \n",
            "---  ------        --------------  ----- \n",
            " 0   title         11428 non-null  object\n",
            " 1   year          11410 non-null  Int64 \n",
            " 2   kind          11428 non-null  object\n",
            " 3   KMRB          10783 non-null  object\n",
            " 4   genre         11428 non-null  object\n",
            " 5   country       11428 non-null  object\n",
            " 6   cast          11428 non-null  object\n",
            " 7   director      11428 non-null  object\n",
            " 8   runtime(min)  1084 non-null   object\n",
            " 9   provider      11428 non-null  object\n",
            "dtypes: Int64(1), object(9)\n",
            "memory usage: 993.3+ KB\n"
          ]
        }
      ]
    },
    {
      "cell_type": "code",
      "source": [
        "tv_data.tail()"
      ],
      "metadata": {
        "id": "Xs6l3kTVkHrz",
        "colab": {
          "base_uri": "https://localhost:8080/",
          "height": 206
        },
        "outputId": "0f47ad70-e557-4d31-be65-3e51fed7ef17"
      },
      "execution_count": 32,
      "outputs": [
        {
          "output_type": "execute_result",
          "data": {
            "text/html": [
              "\n",
              "  <div id=\"df-942ec09c-5c0f-4150-b6bf-64dabbc31eb7\">\n",
              "    <div class=\"colab-df-container\">\n",
              "      <div>\n",
              "<style scoped>\n",
              "    .dataframe tbody tr th:only-of-type {\n",
              "        vertical-align: middle;\n",
              "    }\n",
              "\n",
              "    .dataframe tbody tr th {\n",
              "        vertical-align: top;\n",
              "    }\n",
              "\n",
              "    .dataframe thead th {\n",
              "        text-align: right;\n",
              "    }\n",
              "</style>\n",
              "<table border=\"1\" class=\"dataframe\">\n",
              "  <thead>\n",
              "    <tr style=\"text-align: right;\">\n",
              "      <th></th>\n",
              "      <th>title</th>\n",
              "      <th>year</th>\n",
              "      <th>kind</th>\n",
              "      <th>KMRB</th>\n",
              "      <th>genre</th>\n",
              "      <th>country</th>\n",
              "      <th>cast</th>\n",
              "      <th>director</th>\n",
              "      <th>runtime(min)</th>\n",
              "      <th>provider</th>\n",
              "    </tr>\n",
              "  </thead>\n",
              "  <tbody>\n",
              "    <tr>\n",
              "      <th>23867</th>\n",
              "      <td>삼총사 시즌 3(The Musketeers Season 3)</td>\n",
              "      <td>2016</td>\n",
              "      <td>TV</td>\n",
              "      <td>NaN</td>\n",
              "      <td>어드벤처,드라마,기타</td>\n",
              "      <td>영국</td>\n",
              "      <td></td>\n",
              "      <td></td>\n",
              "      <td>NaN</td>\n",
              "      <td>웨이브</td>\n",
              "    </tr>\n",
              "    <tr>\n",
              "      <th>25022</th>\n",
              "      <td>JOB룡 이십끼()</td>\n",
              "      <td>2020</td>\n",
              "      <td>TV</td>\n",
              "      <td>NaN</td>\n",
              "      <td>예능,기타</td>\n",
              "      <td>한국</td>\n",
              "      <td>유민상</td>\n",
              "      <td></td>\n",
              "      <td>NaN</td>\n",
              "      <td>왓챠,웨이브</td>\n",
              "    </tr>\n",
              "    <tr>\n",
              "      <th>26598</th>\n",
              "      <td>빌로우 덱: 지중해의 요티 시즌 2(Below Deck Mediterranean)</td>\n",
              "      <td>2017</td>\n",
              "      <td>TV</td>\n",
              "      <td>NaN</td>\n",
              "      <td>예능,기타</td>\n",
              "      <td>미국</td>\n",
              "      <td></td>\n",
              "      <td></td>\n",
              "      <td>NaN</td>\n",
              "      <td>넷플릭스</td>\n",
              "    </tr>\n",
              "    <tr>\n",
              "      <th>23607</th>\n",
              "      <td>쉘위워크(Shall We Walk?)</td>\n",
              "      <td>2017</td>\n",
              "      <td>TV</td>\n",
              "      <td>NaN</td>\n",
              "      <td>예능,시사/교양,기타</td>\n",
              "      <td>한국</td>\n",
              "      <td>이하늬,이제훈</td>\n",
              "      <td></td>\n",
              "      <td>NaN</td>\n",
              "      <td>티빙</td>\n",
              "    </tr>\n",
              "    <tr>\n",
              "      <th>23686</th>\n",
              "      <td>TV정보쇼 오!아시스()</td>\n",
              "      <td>2018</td>\n",
              "      <td>TV</td>\n",
              "      <td>NaN</td>\n",
              "      <td>예능,시사/교양,기타</td>\n",
              "      <td>한국</td>\n",
              "      <td>신현준,이지애</td>\n",
              "      <td></td>\n",
              "      <td>NaN</td>\n",
              "      <td>티빙</td>\n",
              "    </tr>\n",
              "  </tbody>\n",
              "</table>\n",
              "</div>\n",
              "      <button class=\"colab-df-convert\" onclick=\"convertToInteractive('df-942ec09c-5c0f-4150-b6bf-64dabbc31eb7')\"\n",
              "              title=\"Convert this dataframe to an interactive table.\"\n",
              "              style=\"display:none;\">\n",
              "        \n",
              "  <svg xmlns=\"http://www.w3.org/2000/svg\" height=\"24px\"viewBox=\"0 0 24 24\"\n",
              "       width=\"24px\">\n",
              "    <path d=\"M0 0h24v24H0V0z\" fill=\"none\"/>\n",
              "    <path d=\"M18.56 5.44l.94 2.06.94-2.06 2.06-.94-2.06-.94-.94-2.06-.94 2.06-2.06.94zm-11 1L8.5 8.5l.94-2.06 2.06-.94-2.06-.94L8.5 2.5l-.94 2.06-2.06.94zm10 10l.94 2.06.94-2.06 2.06-.94-2.06-.94-.94-2.06-.94 2.06-2.06.94z\"/><path d=\"M17.41 7.96l-1.37-1.37c-.4-.4-.92-.59-1.43-.59-.52 0-1.04.2-1.43.59L10.3 9.45l-7.72 7.72c-.78.78-.78 2.05 0 2.83L4 21.41c.39.39.9.59 1.41.59.51 0 1.02-.2 1.41-.59l7.78-7.78 2.81-2.81c.8-.78.8-2.07 0-2.86zM5.41 20L4 18.59l7.72-7.72 1.47 1.35L5.41 20z\"/>\n",
              "  </svg>\n",
              "      </button>\n",
              "      \n",
              "  <style>\n",
              "    .colab-df-container {\n",
              "      display:flex;\n",
              "      flex-wrap:wrap;\n",
              "      gap: 12px;\n",
              "    }\n",
              "\n",
              "    .colab-df-convert {\n",
              "      background-color: #E8F0FE;\n",
              "      border: none;\n",
              "      border-radius: 50%;\n",
              "      cursor: pointer;\n",
              "      display: none;\n",
              "      fill: #1967D2;\n",
              "      height: 32px;\n",
              "      padding: 0 0 0 0;\n",
              "      width: 32px;\n",
              "    }\n",
              "\n",
              "    .colab-df-convert:hover {\n",
              "      background-color: #E2EBFA;\n",
              "      box-shadow: 0px 1px 2px rgba(60, 64, 67, 0.3), 0px 1px 3px 1px rgba(60, 64, 67, 0.15);\n",
              "      fill: #174EA6;\n",
              "    }\n",
              "\n",
              "    [theme=dark] .colab-df-convert {\n",
              "      background-color: #3B4455;\n",
              "      fill: #D2E3FC;\n",
              "    }\n",
              "\n",
              "    [theme=dark] .colab-df-convert:hover {\n",
              "      background-color: #434B5C;\n",
              "      box-shadow: 0px 1px 3px 1px rgba(0, 0, 0, 0.15);\n",
              "      filter: drop-shadow(0px 1px 2px rgba(0, 0, 0, 0.3));\n",
              "      fill: #FFFFFF;\n",
              "    }\n",
              "  </style>\n",
              "\n",
              "      <script>\n",
              "        const buttonEl =\n",
              "          document.querySelector('#df-942ec09c-5c0f-4150-b6bf-64dabbc31eb7 button.colab-df-convert');\n",
              "        buttonEl.style.display =\n",
              "          google.colab.kernel.accessAllowed ? 'block' : 'none';\n",
              "\n",
              "        async function convertToInteractive(key) {\n",
              "          const element = document.querySelector('#df-942ec09c-5c0f-4150-b6bf-64dabbc31eb7');\n",
              "          const dataTable =\n",
              "            await google.colab.kernel.invokeFunction('convertToInteractive',\n",
              "                                                     [key], {});\n",
              "          if (!dataTable) return;\n",
              "\n",
              "          const docLinkHtml = 'Like what you see? Visit the ' +\n",
              "            '<a target=\"_blank\" href=https://colab.research.google.com/notebooks/data_table.ipynb>data table notebook</a>'\n",
              "            + ' to learn more about interactive tables.';\n",
              "          element.innerHTML = '';\n",
              "          dataTable['output_type'] = 'display_data';\n",
              "          await google.colab.output.renderOutput(dataTable, element);\n",
              "          const docLink = document.createElement('div');\n",
              "          docLink.innerHTML = docLinkHtml;\n",
              "          element.appendChild(docLink);\n",
              "        }\n",
              "      </script>\n",
              "    </div>\n",
              "  </div>\n",
              "  "
            ],
            "text/plain": [
              "                                               title  ...  provider\n",
              "23867              삼총사 시즌 3(The Musketeers Season 3)  ...       웨이브\n",
              "25022                                     JOB룡 이십끼()  ...    왓챠,웨이브\n",
              "26598  빌로우 덱: 지중해의 요티 시즌 2(Below Deck Mediterranean)  ...      넷플릭스\n",
              "23607                           쉘위워크(Shall We Walk?)  ...        티빙\n",
              "23686                                  TV정보쇼 오!아시스()  ...        티빙\n",
              "\n",
              "[5 rows x 10 columns]"
            ]
          },
          "metadata": {},
          "execution_count": 32
        }
      ]
    },
    {
      "cell_type": "code",
      "source": [
        "#데이터에 적힌 provider 개수\n",
        "\n",
        "provider_list=[]\n",
        "li=tv_data['provider'].apply(lambda x: x.split(','))\n",
        "for i in li:\n",
        "    if i not in provider_list:\n",
        "      provider_list+=i\n",
        "provider_list=list(set(provider_list))\n",
        "print(provider_list)"
      ],
      "metadata": {
        "id": "4z4lL9HQkwbo",
        "colab": {
          "base_uri": "https://localhost:8080/"
        },
        "outputId": "ec820d63-68e0-4c2b-c09a-e12d29c924e9"
      },
      "execution_count": 33,
      "outputs": [
        {
          "output_type": "stream",
          "name": "stdout",
          "text": [
            "['쿠팡플레이', '티빙', '웨이브', 'AppleTV+', '네이버시리즈온', '아마존프라임비디오', '라프텔', '넷플릭스', 'seezn', '왓챠', '디즈니+']\n"
          ]
        }
      ]
    },
    {
      "cell_type": "markdown",
      "source": [
        "##**분석**"
      ],
      "metadata": {
        "id": "UA2ftXrPkRR4"
      }
    },
    {
      "cell_type": "markdown",
      "source": [
        "###**각 플랫폼 당 tv콘텐츠 개수**"
      ],
      "metadata": {
        "id": "0l8pDiGrh4V3"
      }
    },
    {
      "cell_type": "code",
      "source": [
        "#독점 및 오리지널 표시\n",
        "\n",
        "tv_data['provider']=tv_data['provider'].apply(lambda x: x.split(','))#provider 리스트 전환\n",
        "tv_data.loc[:,'origin']=tv_data['provider'].apply(lambda x: True if len(x)==1 else False)#독점 여부\n",
        "tv_data['provider']=tv_data['provider'].apply(lambda x: ','.join(x))#provider 다시 문자열 전환"
      ],
      "metadata": {
        "id": "nAXv0MwG6WxH"
      },
      "execution_count": 34,
      "outputs": []
    },
    {
      "cell_type": "code",
      "source": [
        "tv_data.info"
      ],
      "metadata": {
        "id": "a0V6g4p2ak_a",
        "colab": {
          "base_uri": "https://localhost:8080/"
        },
        "outputId": "6fa9044f-237a-4f81-c511-e566c659c8fb"
      },
      "execution_count": 35,
      "outputs": [
        {
          "output_type": "execute_result",
          "data": {
            "text/plain": [
              "<bound method DataFrame.info of                                                title  year  ...   provider origin\n",
              "0                             고요의 바다(The Silent Sea)  2021  ...       넷플릭스   True\n",
              "2                                      설강화(Snowdrop)  2021  ...       디즈니+   True\n",
              "7                        그 해 우리는(Our Beloved Summer)  2021  ...   웨이브,넷플릭스  False\n",
              "9                      불가살(Bulgasal: Immortal Souls)  2021  ...    티빙,넷플릭스  False\n",
              "12                         옷소매 붉은 끝동(The Red Sleeve)  2021  ...  쿠팡플레이,웨이브  False\n",
              "...                                              ...   ...  ...        ...    ...\n",
              "23867              삼총사 시즌 3(The Musketeers Season 3)  2016  ...        웨이브   True\n",
              "25022                                     JOB룡 이십끼()  2020  ...     왓챠,웨이브  False\n",
              "26598  빌로우 덱: 지중해의 요티 시즌 2(Below Deck Mediterranean)  2017  ...       넷플릭스   True\n",
              "23607                           쉘위워크(Shall We Walk?)  2017  ...         티빙   True\n",
              "23686                                  TV정보쇼 오!아시스()  2018  ...         티빙   True\n",
              "\n",
              "[11428 rows x 11 columns]>"
            ]
          },
          "metadata": {},
          "execution_count": 35
        }
      ]
    },
    {
      "cell_type": "code",
      "source": [
        "#개별 플랫폼 관련 데이터 전체 저장\n",
        "for i in provider_list:\n",
        "  tv_data.loc[tv_data[\"provider\"].str.contains(i)].to_csv('/content/drive/MyDrive/project/엘리스 OTT 분석/data/'+i+'_all.csv',mode='w', index=False)"
      ],
      "metadata": {
        "id": "oNkX66DtiCg-"
      },
      "execution_count": 36,
      "outputs": []
    },
    {
      "cell_type": "code",
      "source": [
        "#시각화 라이브러리 호출\n",
        "import plotly.express as px\n",
        "\n",
        "#신규 데이터프레임\n",
        "df= pd.DataFrame(columns=['provider','독점/오리지널','count','percent'])\n",
        "for i in provider_list:\n",
        "  d=tv_data.loc[tv_data[\"provider\"].str.contains(i)]\n",
        "  df.loc[len(df)]=[i,False,len(d[d['origin']==False]),len(d[d['origin']==False])*100/len(d)]\n",
        "  df.loc[len(df)]=[i,True,len(d[d['origin']==True]),len(d[d['origin']==True])*100/len(d)]\n",
        "\n",
        "#시각화 \n",
        "fig = px.bar(df, x=\"provider\", y=\"count\",hover_data=['percent'], color=\"독점/오리지널\", title=\"독점/오리지널 표기\")\n",
        "fig.show()"
      ],
      "metadata": {
        "id": "jlFyreoAchi8",
        "colab": {
          "base_uri": "https://localhost:8080/",
          "height": 542
        },
        "outputId": "112e0e1f-dda0-4b56-bc89-8cfdff636a1c"
      },
      "execution_count": 37,
      "outputs": [
        {
          "output_type": "display_data",
          "data": {
            "text/html": [
              "<html>\n",
              "<head><meta charset=\"utf-8\" /></head>\n",
              "<body>\n",
              "    <div>\n",
              "            <script src=\"https://cdnjs.cloudflare.com/ajax/libs/mathjax/2.7.5/MathJax.js?config=TeX-AMS-MML_SVG\"></script><script type=\"text/javascript\">if (window.MathJax) {MathJax.Hub.Config({SVG: {font: \"STIX-Web\"}});}</script>\n",
              "                <script type=\"text/javascript\">window.PlotlyConfig = {MathJaxConfig: 'local'};</script>\n",
              "        <script src=\"https://cdn.plot.ly/plotly-latest.min.js\"></script>    \n",
              "            <div id=\"1edc518b-61b8-41af-9e11-8f3e41e5e5cc\" class=\"plotly-graph-div\" style=\"height:525px; width:100%;\"></div>\n",
              "            <script type=\"text/javascript\">\n",
              "                \n",
              "                    window.PLOTLYENV=window.PLOTLYENV || {};\n",
              "                    \n",
              "                if (document.getElementById(\"1edc518b-61b8-41af-9e11-8f3e41e5e5cc\")) {\n",
              "                    Plotly.newPlot(\n",
              "                        '1edc518b-61b8-41af-9e11-8f3e41e5e5cc',\n",
              "                        [{\"alignmentgroup\": \"True\", \"customdata\": [[81.17647058823529], [63.186972957255016], [66.72305461575641], [0.0], [0.0], [22.22222222222222], [79.06614785992218], [18.80916030534351], [94.7242206235012], [75.10917030567686], [13.88888888888889]], \"hoverlabel\": {\"namelength\": 0}, \"hovertemplate\": \"\\ub3c5\\uc810/\\uc624\\ub9ac\\uc9c0\\ub110=False<br>provider=%{x}<br>count=%{y}<br>percent=%{customdata[0]}\", \"legendgroup\": \"\\ub3c5\\uc810/\\uc624\\ub9ac\\uc9c0\\ub110=False\", \"marker\": {\"color\": \"#636efa\"}, \"name\": \"\\ub3c5\\uc810/\\uc624\\ub9ac\\uc9c0\\ub110=False\", \"offsetgroup\": \"\\ub3c5\\uc810/\\uc624\\ub9ac\\uc9c0\\ub110=False\", \"orientation\": \"v\", \"showlegend\": true, \"textposition\": \"auto\", \"type\": \"bar\", \"x\": [\"\\ucfe0\\ud321\\ud50c\\ub808\\uc774\", \"\\ud2f0\\ube59\", \"\\uc6e8\\uc774\\ube0c\", \"AppleTV+\", \"\\ub124\\uc774\\ubc84\\uc2dc\\ub9ac\\uc988\\uc628\", \"\\uc544\\ub9c8\\uc874\\ud504\\ub77c\\uc784\\ube44\\ub514\\uc624\", \"\\ub77c\\ud504\\ud154\", \"\\ub137\\ud50c\\ub9ad\\uc2a4\", \"seezn\", \"\\uc653\\ucc60\", \"\\ub514\\uc988\\ub2c8+\"], \"xaxis\": \"x\", \"y\": [483, 2173, 2761, 0, 0, 62, 1016, 616, 395, 3096, 100], \"yaxis\": \"y\"}, {\"alignmentgroup\": \"True\", \"customdata\": [[18.823529411764707], [36.813027042744984], [33.2769453842436], [100.0], [100.0], [77.77777777777777], [20.93385214007782], [81.19083969465649], [5.275779376498801], [24.890829694323145], [86.11111111111111]], \"hoverlabel\": {\"namelength\": 0}, \"hovertemplate\": \"\\ub3c5\\uc810/\\uc624\\ub9ac\\uc9c0\\ub110=True<br>provider=%{x}<br>count=%{y}<br>percent=%{customdata[0]}\", \"legendgroup\": \"\\ub3c5\\uc810/\\uc624\\ub9ac\\uc9c0\\ub110=True\", \"marker\": {\"color\": \"#EF553B\"}, \"name\": \"\\ub3c5\\uc810/\\uc624\\ub9ac\\uc9c0\\ub110=True\", \"offsetgroup\": \"\\ub3c5\\uc810/\\uc624\\ub9ac\\uc9c0\\ub110=True\", \"orientation\": \"v\", \"showlegend\": true, \"textposition\": \"auto\", \"type\": \"bar\", \"x\": [\"\\ucfe0\\ud321\\ud50c\\ub808\\uc774\", \"\\ud2f0\\ube59\", \"\\uc6e8\\uc774\\ube0c\", \"AppleTV+\", \"\\ub124\\uc774\\ubc84\\uc2dc\\ub9ac\\uc988\\uc628\", \"\\uc544\\ub9c8\\uc874\\ud504\\ub77c\\uc784\\ube44\\ub514\\uc624\", \"\\ub77c\\ud504\\ud154\", \"\\ub137\\ud50c\\ub9ad\\uc2a4\", \"seezn\", \"\\uc653\\ucc60\", \"\\ub514\\uc988\\ub2c8+\"], \"xaxis\": \"x\", \"y\": [112, 1266, 1377, 40, 4, 217, 269, 2659, 22, 1026, 620], \"yaxis\": \"y\"}],\n",
              "                        {\"barmode\": \"relative\", \"legend\": {\"tracegroupgap\": 0}, \"template\": {\"data\": {\"bar\": [{\"error_x\": {\"color\": \"#2a3f5f\"}, \"error_y\": {\"color\": \"#2a3f5f\"}, \"marker\": {\"line\": {\"color\": \"#E5ECF6\", \"width\": 0.5}}, \"type\": \"bar\"}], \"barpolar\": [{\"marker\": {\"line\": {\"color\": \"#E5ECF6\", \"width\": 0.5}}, \"type\": \"barpolar\"}], \"carpet\": [{\"aaxis\": {\"endlinecolor\": \"#2a3f5f\", \"gridcolor\": \"white\", \"linecolor\": \"white\", \"minorgridcolor\": \"white\", \"startlinecolor\": \"#2a3f5f\"}, \"baxis\": {\"endlinecolor\": \"#2a3f5f\", \"gridcolor\": \"white\", \"linecolor\": \"white\", \"minorgridcolor\": \"white\", \"startlinecolor\": \"#2a3f5f\"}, \"type\": \"carpet\"}], \"choropleth\": [{\"colorbar\": {\"outlinewidth\": 0, \"ticks\": \"\"}, \"type\": \"choropleth\"}], \"contour\": [{\"colorbar\": {\"outlinewidth\": 0, \"ticks\": \"\"}, \"colorscale\": [[0.0, \"#0d0887\"], [0.1111111111111111, \"#46039f\"], [0.2222222222222222, \"#7201a8\"], [0.3333333333333333, \"#9c179e\"], [0.4444444444444444, \"#bd3786\"], [0.5555555555555556, \"#d8576b\"], [0.6666666666666666, \"#ed7953\"], [0.7777777777777778, \"#fb9f3a\"], [0.8888888888888888, \"#fdca26\"], [1.0, \"#f0f921\"]], \"type\": \"contour\"}], \"contourcarpet\": [{\"colorbar\": {\"outlinewidth\": 0, \"ticks\": \"\"}, \"type\": \"contourcarpet\"}], \"heatmap\": [{\"colorbar\": {\"outlinewidth\": 0, \"ticks\": \"\"}, \"colorscale\": [[0.0, \"#0d0887\"], [0.1111111111111111, \"#46039f\"], [0.2222222222222222, \"#7201a8\"], [0.3333333333333333, \"#9c179e\"], [0.4444444444444444, \"#bd3786\"], [0.5555555555555556, \"#d8576b\"], [0.6666666666666666, \"#ed7953\"], [0.7777777777777778, \"#fb9f3a\"], [0.8888888888888888, \"#fdca26\"], [1.0, \"#f0f921\"]], \"type\": \"heatmap\"}], \"heatmapgl\": [{\"colorbar\": {\"outlinewidth\": 0, \"ticks\": \"\"}, \"colorscale\": [[0.0, \"#0d0887\"], [0.1111111111111111, \"#46039f\"], [0.2222222222222222, \"#7201a8\"], [0.3333333333333333, \"#9c179e\"], [0.4444444444444444, \"#bd3786\"], [0.5555555555555556, \"#d8576b\"], [0.6666666666666666, \"#ed7953\"], [0.7777777777777778, \"#fb9f3a\"], [0.8888888888888888, \"#fdca26\"], [1.0, \"#f0f921\"]], \"type\": \"heatmapgl\"}], \"histogram\": [{\"marker\": {\"colorbar\": {\"outlinewidth\": 0, \"ticks\": \"\"}}, \"type\": \"histogram\"}], \"histogram2d\": [{\"colorbar\": {\"outlinewidth\": 0, \"ticks\": \"\"}, \"colorscale\": [[0.0, \"#0d0887\"], [0.1111111111111111, \"#46039f\"], [0.2222222222222222, \"#7201a8\"], [0.3333333333333333, \"#9c179e\"], [0.4444444444444444, \"#bd3786\"], [0.5555555555555556, \"#d8576b\"], [0.6666666666666666, \"#ed7953\"], [0.7777777777777778, \"#fb9f3a\"], [0.8888888888888888, \"#fdca26\"], [1.0, \"#f0f921\"]], \"type\": \"histogram2d\"}], \"histogram2dcontour\": [{\"colorbar\": {\"outlinewidth\": 0, \"ticks\": \"\"}, \"colorscale\": [[0.0, \"#0d0887\"], [0.1111111111111111, \"#46039f\"], [0.2222222222222222, \"#7201a8\"], [0.3333333333333333, \"#9c179e\"], [0.4444444444444444, \"#bd3786\"], [0.5555555555555556, \"#d8576b\"], [0.6666666666666666, \"#ed7953\"], [0.7777777777777778, \"#fb9f3a\"], [0.8888888888888888, \"#fdca26\"], [1.0, \"#f0f921\"]], \"type\": \"histogram2dcontour\"}], \"mesh3d\": [{\"colorbar\": {\"outlinewidth\": 0, \"ticks\": \"\"}, \"type\": \"mesh3d\"}], \"parcoords\": [{\"line\": {\"colorbar\": {\"outlinewidth\": 0, \"ticks\": \"\"}}, \"type\": \"parcoords\"}], \"pie\": [{\"automargin\": true, \"type\": \"pie\"}], \"scatter\": [{\"marker\": {\"colorbar\": {\"outlinewidth\": 0, \"ticks\": \"\"}}, \"type\": \"scatter\"}], \"scatter3d\": [{\"line\": {\"colorbar\": {\"outlinewidth\": 0, \"ticks\": \"\"}}, \"marker\": {\"colorbar\": {\"outlinewidth\": 0, \"ticks\": \"\"}}, \"type\": \"scatter3d\"}], \"scattercarpet\": [{\"marker\": {\"colorbar\": {\"outlinewidth\": 0, \"ticks\": \"\"}}, \"type\": \"scattercarpet\"}], \"scattergeo\": [{\"marker\": {\"colorbar\": {\"outlinewidth\": 0, \"ticks\": \"\"}}, \"type\": \"scattergeo\"}], \"scattergl\": [{\"marker\": {\"colorbar\": {\"outlinewidth\": 0, \"ticks\": \"\"}}, \"type\": \"scattergl\"}], \"scattermapbox\": [{\"marker\": {\"colorbar\": {\"outlinewidth\": 0, \"ticks\": \"\"}}, \"type\": \"scattermapbox\"}], \"scatterpolar\": [{\"marker\": {\"colorbar\": {\"outlinewidth\": 0, \"ticks\": \"\"}}, \"type\": \"scatterpolar\"}], \"scatterpolargl\": [{\"marker\": {\"colorbar\": {\"outlinewidth\": 0, \"ticks\": \"\"}}, \"type\": \"scatterpolargl\"}], \"scatterternary\": [{\"marker\": {\"colorbar\": {\"outlinewidth\": 0, \"ticks\": \"\"}}, \"type\": \"scatterternary\"}], \"surface\": [{\"colorbar\": {\"outlinewidth\": 0, \"ticks\": \"\"}, \"colorscale\": [[0.0, \"#0d0887\"], [0.1111111111111111, \"#46039f\"], [0.2222222222222222, \"#7201a8\"], [0.3333333333333333, \"#9c179e\"], [0.4444444444444444, \"#bd3786\"], [0.5555555555555556, \"#d8576b\"], [0.6666666666666666, \"#ed7953\"], [0.7777777777777778, \"#fb9f3a\"], [0.8888888888888888, \"#fdca26\"], [1.0, \"#f0f921\"]], \"type\": \"surface\"}], \"table\": [{\"cells\": {\"fill\": {\"color\": \"#EBF0F8\"}, \"line\": {\"color\": \"white\"}}, \"header\": {\"fill\": {\"color\": \"#C8D4E3\"}, \"line\": {\"color\": \"white\"}}, \"type\": \"table\"}]}, \"layout\": {\"annotationdefaults\": {\"arrowcolor\": \"#2a3f5f\", \"arrowhead\": 0, \"arrowwidth\": 1}, \"coloraxis\": {\"colorbar\": {\"outlinewidth\": 0, \"ticks\": \"\"}}, \"colorscale\": {\"diverging\": [[0, \"#8e0152\"], [0.1, \"#c51b7d\"], [0.2, \"#de77ae\"], [0.3, \"#f1b6da\"], [0.4, \"#fde0ef\"], [0.5, \"#f7f7f7\"], [0.6, \"#e6f5d0\"], [0.7, \"#b8e186\"], [0.8, \"#7fbc41\"], [0.9, \"#4d9221\"], [1, \"#276419\"]], \"sequential\": [[0.0, \"#0d0887\"], [0.1111111111111111, \"#46039f\"], [0.2222222222222222, \"#7201a8\"], [0.3333333333333333, \"#9c179e\"], [0.4444444444444444, \"#bd3786\"], [0.5555555555555556, \"#d8576b\"], [0.6666666666666666, \"#ed7953\"], [0.7777777777777778, \"#fb9f3a\"], [0.8888888888888888, \"#fdca26\"], [1.0, \"#f0f921\"]], \"sequentialminus\": [[0.0, \"#0d0887\"], [0.1111111111111111, \"#46039f\"], [0.2222222222222222, \"#7201a8\"], [0.3333333333333333, \"#9c179e\"], [0.4444444444444444, \"#bd3786\"], [0.5555555555555556, \"#d8576b\"], [0.6666666666666666, \"#ed7953\"], [0.7777777777777778, \"#fb9f3a\"], [0.8888888888888888, \"#fdca26\"], [1.0, \"#f0f921\"]]}, \"colorway\": [\"#636efa\", \"#EF553B\", \"#00cc96\", \"#ab63fa\", \"#FFA15A\", \"#19d3f3\", \"#FF6692\", \"#B6E880\", \"#FF97FF\", \"#FECB52\"], \"font\": {\"color\": \"#2a3f5f\"}, \"geo\": {\"bgcolor\": \"white\", \"lakecolor\": \"white\", \"landcolor\": \"#E5ECF6\", \"showlakes\": true, \"showland\": true, \"subunitcolor\": \"white\"}, \"hoverlabel\": {\"align\": \"left\"}, \"hovermode\": \"closest\", \"mapbox\": {\"style\": \"light\"}, \"paper_bgcolor\": \"white\", \"plot_bgcolor\": \"#E5ECF6\", \"polar\": {\"angularaxis\": {\"gridcolor\": \"white\", \"linecolor\": \"white\", \"ticks\": \"\"}, \"bgcolor\": \"#E5ECF6\", \"radialaxis\": {\"gridcolor\": \"white\", \"linecolor\": \"white\", \"ticks\": \"\"}}, \"scene\": {\"xaxis\": {\"backgroundcolor\": \"#E5ECF6\", \"gridcolor\": \"white\", \"gridwidth\": 2, \"linecolor\": \"white\", \"showbackground\": true, \"ticks\": \"\", \"zerolinecolor\": \"white\"}, \"yaxis\": {\"backgroundcolor\": \"#E5ECF6\", \"gridcolor\": \"white\", \"gridwidth\": 2, \"linecolor\": \"white\", \"showbackground\": true, \"ticks\": \"\", \"zerolinecolor\": \"white\"}, \"zaxis\": {\"backgroundcolor\": \"#E5ECF6\", \"gridcolor\": \"white\", \"gridwidth\": 2, \"linecolor\": \"white\", \"showbackground\": true, \"ticks\": \"\", \"zerolinecolor\": \"white\"}}, \"shapedefaults\": {\"line\": {\"color\": \"#2a3f5f\"}}, \"ternary\": {\"aaxis\": {\"gridcolor\": \"white\", \"linecolor\": \"white\", \"ticks\": \"\"}, \"baxis\": {\"gridcolor\": \"white\", \"linecolor\": \"white\", \"ticks\": \"\"}, \"bgcolor\": \"#E5ECF6\", \"caxis\": {\"gridcolor\": \"white\", \"linecolor\": \"white\", \"ticks\": \"\"}}, \"title\": {\"x\": 0.05}, \"xaxis\": {\"automargin\": true, \"gridcolor\": \"white\", \"linecolor\": \"white\", \"ticks\": \"\", \"title\": {\"standoff\": 15}, \"zerolinecolor\": \"white\", \"zerolinewidth\": 2}, \"yaxis\": {\"automargin\": true, \"gridcolor\": \"white\", \"linecolor\": \"white\", \"ticks\": \"\", \"title\": {\"standoff\": 15}, \"zerolinecolor\": \"white\", \"zerolinewidth\": 2}}}, \"title\": {\"text\": \"\\ub3c5\\uc810/\\uc624\\ub9ac\\uc9c0\\ub110 \\ud45c\\uae30\"}, \"xaxis\": {\"anchor\": \"y\", \"domain\": [0.0, 1.0], \"title\": {\"text\": \"provider\"}}, \"yaxis\": {\"anchor\": \"x\", \"domain\": [0.0, 1.0], \"title\": {\"text\": \"count\"}}},\n",
              "                        {\"responsive\": true}\n",
              "                    ).then(function(){\n",
              "                            \n",
              "var gd = document.getElementById('1edc518b-61b8-41af-9e11-8f3e41e5e5cc');\n",
              "var x = new MutationObserver(function (mutations, observer) {{\n",
              "        var display = window.getComputedStyle(gd).display;\n",
              "        if (!display || display === 'none') {{\n",
              "            console.log([gd, 'removed!']);\n",
              "            Plotly.purge(gd);\n",
              "            observer.disconnect();\n",
              "        }}\n",
              "}});\n",
              "\n",
              "// Listen for the removal of the full notebook cells\n",
              "var notebookContainer = gd.closest('#notebook-container');\n",
              "if (notebookContainer) {{\n",
              "    x.observe(notebookContainer, {childList: true});\n",
              "}}\n",
              "\n",
              "// Listen for the clearing of the current output cell\n",
              "var outputEl = gd.closest('.output');\n",
              "if (outputEl) {{\n",
              "    x.observe(outputEl, {childList: true});\n",
              "}}\n",
              "\n",
              "                        })\n",
              "                };\n",
              "                \n",
              "            </script>\n",
              "        </div>\n",
              "</body>\n",
              "</html>"
            ]
          },
          "metadata": {}
        }
      ]
    },
    {
      "cell_type": "markdown",
      "source": [
        "###**각 플랫폼 별 KMRB(관람가)**\n",
        "- 전 연령대 관람가능 콘텐츠/성인용 콘텐츠의 양 파악"
      ],
      "metadata": {
        "id": "gTaysqdz69Bi"
      }
    },
    {
      "cell_type": "code",
      "source": [
        "#KMRB가 NaN인 항목 제거\n",
        "kmrb=tv_data\n",
        "print('제거 이전:',len(kmrb))\n",
        "kmrb = kmrb.dropna(subset = ['KMRB'], how = 'any', axis=0)\n",
        "print('제거 이후:',len(kmrb))"
      ],
      "metadata": {
        "id": "42Jb7nYJ7Njy",
        "colab": {
          "base_uri": "https://localhost:8080/"
        },
        "outputId": "f8cc8b6d-abb6-4beb-84ed-a551cd130873"
      },
      "execution_count": 38,
      "outputs": [
        {
          "output_type": "stream",
          "name": "stdout",
          "text": [
            "제거 이전: 11428\n",
            "제거 이후: 10783\n"
          ]
        }
      ]
    },
    {
      "cell_type": "code",
      "source": [
        "#kmrb 리스트\n",
        "kmrb_list=[]\n",
        "li=kmrb['KMRB']\n",
        "for i in li:\n",
        "    if i not in kmrb_list:\n",
        "      kmrb_list.append(i)\n",
        "kmrb_list=list(set(kmrb_list))\n",
        "print(kmrb_list)"
      ],
      "metadata": {
        "id": "Qn13Lf3F_fPa",
        "colab": {
          "base_uri": "https://localhost:8080/"
        },
        "outputId": "28e9af56-dd26-4bf5-9392-85f0e0e37fa7"
      },
      "execution_count": 39,
      "outputs": [
        {
          "output_type": "stream",
          "name": "stdout",
          "text": [
            "['전체관람가', '15세이상관람가', '청소년관람불가', '12세이상관람가']\n"
          ]
        }
      ]
    },
    {
      "cell_type": "code",
      "source": [
        "#시각화 라이브러리 호출\n",
        "import plotly.express as px\n",
        "\n",
        "#신규 데이터프레임\n",
        "df2= pd.DataFrame(columns=['provider','관람가','count','percent'])\n",
        "\n",
        "for i in provider_list:\n",
        "  d=kmrb.loc[kmrb[\"provider\"].str.contains(i)]\n",
        "  for i2 in kmrb_list:\n",
        "      df2.loc[len(df2)]=[i,i2,len(d[d['KMRB']==i2]),len(d[d['KMRB']==i2])*100/len(d)]\n",
        "\n",
        "#시각화 \n",
        "fig = px.bar(df2, x=\"provider\", y=\"count\",hover_data=['percent'], color=\"관람가\", title=\"콘텐츠 관람가\")\n",
        "fig.show()"
      ],
      "metadata": {
        "id": "HTlqC-FeBXV7",
        "colab": {
          "base_uri": "https://localhost:8080/",
          "height": 542
        },
        "outputId": "0f036818-7b89-41a0-8bf8-c428616fd37b"
      },
      "execution_count": 40,
      "outputs": [
        {
          "output_type": "display_data",
          "data": {
            "text/html": [
              "<html>\n",
              "<head><meta charset=\"utf-8\" /></head>\n",
              "<body>\n",
              "    <div>\n",
              "            <script src=\"https://cdnjs.cloudflare.com/ajax/libs/mathjax/2.7.5/MathJax.js?config=TeX-AMS-MML_SVG\"></script><script type=\"text/javascript\">if (window.MathJax) {MathJax.Hub.Config({SVG: {font: \"STIX-Web\"}});}</script>\n",
              "                <script type=\"text/javascript\">window.PlotlyConfig = {MathJaxConfig: 'local'};</script>\n",
              "        <script src=\"https://cdn.plot.ly/plotly-latest.min.js\"></script>    \n",
              "            <div id=\"be71f06a-b76e-4fc0-a498-c336c9a729ed\" class=\"plotly-graph-div\" style=\"height:525px; width:100%;\"></div>\n",
              "            <script type=\"text/javascript\">\n",
              "                \n",
              "                    window.PLOTLYENV=window.PLOTLYENV || {};\n",
              "                    \n",
              "                if (document.getElementById(\"be71f06a-b76e-4fc0-a498-c336c9a729ed\")) {\n",
              "                    Plotly.newPlot(\n",
              "                        'be71f06a-b76e-4fc0-a498-c336c9a729ed',\n",
              "                        [{\"alignmentgroup\": \"True\", \"customdata\": [[27.81954887218045], [8.88614625115705], [6.954743032472513], [5.714285714285714], [0.0], [0.8403361344537815], [23.04], [14.990803188228082], [3.350515463917526], [22.869955156950674], [38.611111111111114]], \"hoverlabel\": {\"namelength\": 0}, \"hovertemplate\": \"\\uad00\\ub78c\\uac00=\\uc804\\uccb4\\uad00\\ub78c\\uac00<br>provider=%{x}<br>count=%{y}<br>percent=%{customdata[0]}\", \"legendgroup\": \"\\uad00\\ub78c\\uac00=\\uc804\\uccb4\\uad00\\ub78c\\uac00\", \"marker\": {\"color\": \"#636efa\"}, \"name\": \"\\uad00\\ub78c\\uac00=\\uc804\\uccb4\\uad00\\ub78c\\uac00\", \"offsetgroup\": \"\\uad00\\ub78c\\uac00=\\uc804\\uccb4\\uad00\\ub78c\\uac00\", \"orientation\": \"v\", \"showlegend\": true, \"textposition\": \"auto\", \"type\": \"bar\", \"x\": [\"\\ucfe0\\ud321\\ud50c\\ub808\\uc774\", \"\\ud2f0\\ube59\", \"\\uc6e8\\uc774\\ube0c\", \"AppleTV+\", \"\\ub124\\uc774\\ubc84\\uc2dc\\ub9ac\\uc988\\uc628\", \"\\uc544\\ub9c8\\uc874\\ud504\\ub77c\\uc784\\ube44\\ub514\\uc624\", \"\\ub77c\\ud504\\ud154\", \"\\ub137\\ud50c\\ub9ad\\uc2a4\", \"seezn\", \"\\uc653\\ucc60\", \"\\ub514\\uc988\\ub2c8+\"], \"xaxis\": \"x\", \"y\": [148, 288, 272, 2, 0, 1, 288, 489, 13, 918, 278], \"yaxis\": \"y\"}, {\"alignmentgroup\": \"True\", \"customdata\": [[50.18796992481203], [76.05677260104906], [75.37714139606238], [51.42857142857143], [100.0], [27.73109243697479], [48.88], [34.05885959534028], [83.76288659793815], [59.36721474838067], [37.5]], \"hoverlabel\": {\"namelength\": 0}, \"hovertemplate\": \"\\uad00\\ub78c\\uac00=15\\uc138\\uc774\\uc0c1\\uad00\\ub78c\\uac00<br>provider=%{x}<br>count=%{y}<br>percent=%{customdata[0]}\", \"legendgroup\": \"\\uad00\\ub78c\\uac00=15\\uc138\\uc774\\uc0c1\\uad00\\ub78c\\uac00\", \"marker\": {\"color\": \"#EF553B\"}, \"name\": \"\\uad00\\ub78c\\uac00=15\\uc138\\uc774\\uc0c1\\uad00\\ub78c\\uac00\", \"offsetgroup\": \"\\uad00\\ub78c\\uac00=15\\uc138\\uc774\\uc0c1\\uad00\\ub78c\\uac00\", \"orientation\": \"v\", \"showlegend\": true, \"textposition\": \"auto\", \"type\": \"bar\", \"x\": [\"\\ucfe0\\ud321\\ud50c\\ub808\\uc774\", \"\\ud2f0\\ube59\", \"\\uc6e8\\uc774\\ube0c\", \"AppleTV+\", \"\\ub124\\uc774\\ubc84\\uc2dc\\ub9ac\\uc988\\uc628\", \"\\uc544\\ub9c8\\uc874\\ud504\\ub77c\\uc784\\ube44\\ub514\\uc624\", \"\\ub77c\\ud504\\ud154\", \"\\ub137\\ud50c\\ub9ad\\uc2a4\", \"seezn\", \"\\uc653\\ucc60\", \"\\ub514\\uc988\\ub2c8+\"], \"xaxis\": \"x\", \"y\": [267, 2465, 2948, 18, 4, 33, 611, 1111, 325, 2383, 270], \"yaxis\": \"y\"}, {\"alignmentgroup\": \"True\", \"customdata\": [[14.285714285714286], [6.695464362850972], [10.534390181539248], [20.0], [0.0], [70.58823529411765], [15.84], [40.772532188841204], [6.701030927835052], [10.538116591928251], [12.083333333333334]], \"hoverlabel\": {\"namelength\": 0}, \"hovertemplate\": \"\\uad00\\ub78c\\uac00=\\uccad\\uc18c\\ub144\\uad00\\ub78c\\ubd88\\uac00<br>provider=%{x}<br>count=%{y}<br>percent=%{customdata[0]}\", \"legendgroup\": \"\\uad00\\ub78c\\uac00=\\uccad\\uc18c\\ub144\\uad00\\ub78c\\ubd88\\uac00\", \"marker\": {\"color\": \"#00cc96\"}, \"name\": \"\\uad00\\ub78c\\uac00=\\uccad\\uc18c\\ub144\\uad00\\ub78c\\ubd88\\uac00\", \"offsetgroup\": \"\\uad00\\ub78c\\uac00=\\uccad\\uc18c\\ub144\\uad00\\ub78c\\ubd88\\uac00\", \"orientation\": \"v\", \"showlegend\": true, \"textposition\": \"auto\", \"type\": \"bar\", \"x\": [\"\\ucfe0\\ud321\\ud50c\\ub808\\uc774\", \"\\ud2f0\\ube59\", \"\\uc6e8\\uc774\\ube0c\", \"AppleTV+\", \"\\ub124\\uc774\\ubc84\\uc2dc\\ub9ac\\uc988\\uc628\", \"\\uc544\\ub9c8\\uc874\\ud504\\ub77c\\uc784\\ube44\\ub514\\uc624\", \"\\ub77c\\ud504\\ud154\", \"\\ub137\\ud50c\\ub9ad\\uc2a4\", \"seezn\", \"\\uc653\\ucc60\", \"\\ub514\\uc988\\ub2c8+\"], \"xaxis\": \"x\", \"y\": [76, 217, 412, 7, 0, 84, 198, 1330, 26, 423, 87], \"yaxis\": \"y\"}, {\"alignmentgroup\": \"True\", \"customdata\": [[7.706766917293233], [8.36161678494292], [7.13372538992585], [22.857142857142858], [0.0], [0.8403361344537815], [12.24], [10.177805027590436], [6.185567010309279], [7.224713502740409], [11.805555555555555]], \"hoverlabel\": {\"namelength\": 0}, \"hovertemplate\": \"\\uad00\\ub78c\\uac00=12\\uc138\\uc774\\uc0c1\\uad00\\ub78c\\uac00<br>provider=%{x}<br>count=%{y}<br>percent=%{customdata[0]}\", \"legendgroup\": \"\\uad00\\ub78c\\uac00=12\\uc138\\uc774\\uc0c1\\uad00\\ub78c\\uac00\", \"marker\": {\"color\": \"#ab63fa\"}, \"name\": \"\\uad00\\ub78c\\uac00=12\\uc138\\uc774\\uc0c1\\uad00\\ub78c\\uac00\", \"offsetgroup\": \"\\uad00\\ub78c\\uac00=12\\uc138\\uc774\\uc0c1\\uad00\\ub78c\\uac00\", \"orientation\": \"v\", \"showlegend\": true, \"textposition\": \"auto\", \"type\": \"bar\", \"x\": [\"\\ucfe0\\ud321\\ud50c\\ub808\\uc774\", \"\\ud2f0\\ube59\", \"\\uc6e8\\uc774\\ube0c\", \"AppleTV+\", \"\\ub124\\uc774\\ubc84\\uc2dc\\ub9ac\\uc988\\uc628\", \"\\uc544\\ub9c8\\uc874\\ud504\\ub77c\\uc784\\ube44\\ub514\\uc624\", \"\\ub77c\\ud504\\ud154\", \"\\ub137\\ud50c\\ub9ad\\uc2a4\", \"seezn\", \"\\uc653\\ucc60\", \"\\ub514\\uc988\\ub2c8+\"], \"xaxis\": \"x\", \"y\": [41, 271, 279, 8, 0, 1, 153, 332, 24, 290, 85], \"yaxis\": \"y\"}],\n",
              "                        {\"barmode\": \"relative\", \"legend\": {\"tracegroupgap\": 0}, \"template\": {\"data\": {\"bar\": [{\"error_x\": {\"color\": \"#2a3f5f\"}, \"error_y\": {\"color\": \"#2a3f5f\"}, \"marker\": {\"line\": {\"color\": \"#E5ECF6\", \"width\": 0.5}}, \"type\": \"bar\"}], \"barpolar\": [{\"marker\": {\"line\": {\"color\": \"#E5ECF6\", \"width\": 0.5}}, \"type\": \"barpolar\"}], \"carpet\": [{\"aaxis\": {\"endlinecolor\": \"#2a3f5f\", \"gridcolor\": \"white\", \"linecolor\": \"white\", \"minorgridcolor\": \"white\", \"startlinecolor\": \"#2a3f5f\"}, \"baxis\": {\"endlinecolor\": \"#2a3f5f\", \"gridcolor\": \"white\", \"linecolor\": \"white\", \"minorgridcolor\": \"white\", \"startlinecolor\": \"#2a3f5f\"}, \"type\": \"carpet\"}], \"choropleth\": [{\"colorbar\": {\"outlinewidth\": 0, \"ticks\": \"\"}, \"type\": \"choropleth\"}], \"contour\": [{\"colorbar\": {\"outlinewidth\": 0, \"ticks\": \"\"}, \"colorscale\": [[0.0, \"#0d0887\"], [0.1111111111111111, \"#46039f\"], [0.2222222222222222, \"#7201a8\"], [0.3333333333333333, \"#9c179e\"], [0.4444444444444444, \"#bd3786\"], [0.5555555555555556, \"#d8576b\"], [0.6666666666666666, \"#ed7953\"], [0.7777777777777778, \"#fb9f3a\"], [0.8888888888888888, \"#fdca26\"], [1.0, \"#f0f921\"]], \"type\": \"contour\"}], \"contourcarpet\": [{\"colorbar\": {\"outlinewidth\": 0, \"ticks\": \"\"}, \"type\": \"contourcarpet\"}], \"heatmap\": [{\"colorbar\": {\"outlinewidth\": 0, \"ticks\": \"\"}, \"colorscale\": [[0.0, \"#0d0887\"], [0.1111111111111111, \"#46039f\"], [0.2222222222222222, \"#7201a8\"], [0.3333333333333333, \"#9c179e\"], [0.4444444444444444, \"#bd3786\"], [0.5555555555555556, \"#d8576b\"], [0.6666666666666666, \"#ed7953\"], [0.7777777777777778, \"#fb9f3a\"], [0.8888888888888888, \"#fdca26\"], [1.0, \"#f0f921\"]], \"type\": \"heatmap\"}], \"heatmapgl\": [{\"colorbar\": {\"outlinewidth\": 0, \"ticks\": \"\"}, \"colorscale\": [[0.0, \"#0d0887\"], [0.1111111111111111, \"#46039f\"], [0.2222222222222222, \"#7201a8\"], [0.3333333333333333, \"#9c179e\"], [0.4444444444444444, \"#bd3786\"], [0.5555555555555556, \"#d8576b\"], [0.6666666666666666, \"#ed7953\"], [0.7777777777777778, \"#fb9f3a\"], [0.8888888888888888, \"#fdca26\"], [1.0, \"#f0f921\"]], \"type\": \"heatmapgl\"}], \"histogram\": [{\"marker\": {\"colorbar\": {\"outlinewidth\": 0, \"ticks\": \"\"}}, \"type\": \"histogram\"}], \"histogram2d\": [{\"colorbar\": {\"outlinewidth\": 0, \"ticks\": \"\"}, \"colorscale\": [[0.0, \"#0d0887\"], [0.1111111111111111, \"#46039f\"], [0.2222222222222222, \"#7201a8\"], [0.3333333333333333, \"#9c179e\"], [0.4444444444444444, \"#bd3786\"], [0.5555555555555556, \"#d8576b\"], [0.6666666666666666, \"#ed7953\"], [0.7777777777777778, \"#fb9f3a\"], [0.8888888888888888, \"#fdca26\"], [1.0, \"#f0f921\"]], \"type\": \"histogram2d\"}], \"histogram2dcontour\": [{\"colorbar\": {\"outlinewidth\": 0, \"ticks\": \"\"}, \"colorscale\": [[0.0, \"#0d0887\"], [0.1111111111111111, \"#46039f\"], [0.2222222222222222, \"#7201a8\"], [0.3333333333333333, \"#9c179e\"], [0.4444444444444444, \"#bd3786\"], [0.5555555555555556, \"#d8576b\"], [0.6666666666666666, \"#ed7953\"], [0.7777777777777778, \"#fb9f3a\"], [0.8888888888888888, \"#fdca26\"], [1.0, \"#f0f921\"]], \"type\": \"histogram2dcontour\"}], \"mesh3d\": [{\"colorbar\": {\"outlinewidth\": 0, \"ticks\": \"\"}, \"type\": \"mesh3d\"}], \"parcoords\": [{\"line\": {\"colorbar\": {\"outlinewidth\": 0, \"ticks\": \"\"}}, \"type\": \"parcoords\"}], \"pie\": [{\"automargin\": true, \"type\": \"pie\"}], \"scatter\": [{\"marker\": {\"colorbar\": {\"outlinewidth\": 0, \"ticks\": \"\"}}, \"type\": \"scatter\"}], \"scatter3d\": [{\"line\": {\"colorbar\": {\"outlinewidth\": 0, \"ticks\": \"\"}}, \"marker\": {\"colorbar\": {\"outlinewidth\": 0, \"ticks\": \"\"}}, \"type\": \"scatter3d\"}], \"scattercarpet\": [{\"marker\": {\"colorbar\": {\"outlinewidth\": 0, \"ticks\": \"\"}}, \"type\": \"scattercarpet\"}], \"scattergeo\": [{\"marker\": {\"colorbar\": {\"outlinewidth\": 0, \"ticks\": \"\"}}, \"type\": \"scattergeo\"}], \"scattergl\": [{\"marker\": {\"colorbar\": {\"outlinewidth\": 0, \"ticks\": \"\"}}, \"type\": \"scattergl\"}], \"scattermapbox\": [{\"marker\": {\"colorbar\": {\"outlinewidth\": 0, \"ticks\": \"\"}}, \"type\": \"scattermapbox\"}], \"scatterpolar\": [{\"marker\": {\"colorbar\": {\"outlinewidth\": 0, \"ticks\": \"\"}}, \"type\": \"scatterpolar\"}], \"scatterpolargl\": [{\"marker\": {\"colorbar\": {\"outlinewidth\": 0, \"ticks\": \"\"}}, \"type\": \"scatterpolargl\"}], \"scatterternary\": [{\"marker\": {\"colorbar\": {\"outlinewidth\": 0, \"ticks\": \"\"}}, \"type\": \"scatterternary\"}], \"surface\": [{\"colorbar\": {\"outlinewidth\": 0, \"ticks\": \"\"}, \"colorscale\": [[0.0, \"#0d0887\"], [0.1111111111111111, \"#46039f\"], [0.2222222222222222, \"#7201a8\"], [0.3333333333333333, \"#9c179e\"], [0.4444444444444444, \"#bd3786\"], [0.5555555555555556, \"#d8576b\"], [0.6666666666666666, \"#ed7953\"], [0.7777777777777778, \"#fb9f3a\"], [0.8888888888888888, \"#fdca26\"], [1.0, \"#f0f921\"]], \"type\": \"surface\"}], \"table\": [{\"cells\": {\"fill\": {\"color\": \"#EBF0F8\"}, \"line\": {\"color\": \"white\"}}, \"header\": {\"fill\": {\"color\": \"#C8D4E3\"}, \"line\": {\"color\": \"white\"}}, \"type\": \"table\"}]}, \"layout\": {\"annotationdefaults\": {\"arrowcolor\": \"#2a3f5f\", \"arrowhead\": 0, \"arrowwidth\": 1}, \"coloraxis\": {\"colorbar\": {\"outlinewidth\": 0, \"ticks\": \"\"}}, \"colorscale\": {\"diverging\": [[0, \"#8e0152\"], [0.1, \"#c51b7d\"], [0.2, \"#de77ae\"], [0.3, \"#f1b6da\"], [0.4, \"#fde0ef\"], [0.5, \"#f7f7f7\"], [0.6, \"#e6f5d0\"], [0.7, \"#b8e186\"], [0.8, \"#7fbc41\"], [0.9, \"#4d9221\"], [1, \"#276419\"]], \"sequential\": [[0.0, \"#0d0887\"], [0.1111111111111111, \"#46039f\"], [0.2222222222222222, \"#7201a8\"], [0.3333333333333333, \"#9c179e\"], [0.4444444444444444, \"#bd3786\"], [0.5555555555555556, \"#d8576b\"], [0.6666666666666666, \"#ed7953\"], [0.7777777777777778, \"#fb9f3a\"], [0.8888888888888888, \"#fdca26\"], [1.0, \"#f0f921\"]], \"sequentialminus\": [[0.0, \"#0d0887\"], [0.1111111111111111, \"#46039f\"], [0.2222222222222222, \"#7201a8\"], [0.3333333333333333, \"#9c179e\"], [0.4444444444444444, \"#bd3786\"], [0.5555555555555556, \"#d8576b\"], [0.6666666666666666, \"#ed7953\"], [0.7777777777777778, \"#fb9f3a\"], [0.8888888888888888, \"#fdca26\"], [1.0, \"#f0f921\"]]}, \"colorway\": [\"#636efa\", \"#EF553B\", \"#00cc96\", \"#ab63fa\", \"#FFA15A\", \"#19d3f3\", \"#FF6692\", \"#B6E880\", \"#FF97FF\", \"#FECB52\"], \"font\": {\"color\": \"#2a3f5f\"}, \"geo\": {\"bgcolor\": \"white\", \"lakecolor\": \"white\", \"landcolor\": \"#E5ECF6\", \"showlakes\": true, \"showland\": true, \"subunitcolor\": \"white\"}, \"hoverlabel\": {\"align\": \"left\"}, \"hovermode\": \"closest\", \"mapbox\": {\"style\": \"light\"}, \"paper_bgcolor\": \"white\", \"plot_bgcolor\": \"#E5ECF6\", \"polar\": {\"angularaxis\": {\"gridcolor\": \"white\", \"linecolor\": \"white\", \"ticks\": \"\"}, \"bgcolor\": \"#E5ECF6\", \"radialaxis\": {\"gridcolor\": \"white\", \"linecolor\": \"white\", \"ticks\": \"\"}}, \"scene\": {\"xaxis\": {\"backgroundcolor\": \"#E5ECF6\", \"gridcolor\": \"white\", \"gridwidth\": 2, \"linecolor\": \"white\", \"showbackground\": true, \"ticks\": \"\", \"zerolinecolor\": \"white\"}, \"yaxis\": {\"backgroundcolor\": \"#E5ECF6\", \"gridcolor\": \"white\", \"gridwidth\": 2, \"linecolor\": \"white\", \"showbackground\": true, \"ticks\": \"\", \"zerolinecolor\": \"white\"}, \"zaxis\": {\"backgroundcolor\": \"#E5ECF6\", \"gridcolor\": \"white\", \"gridwidth\": 2, \"linecolor\": \"white\", \"showbackground\": true, \"ticks\": \"\", \"zerolinecolor\": \"white\"}}, \"shapedefaults\": {\"line\": {\"color\": \"#2a3f5f\"}}, \"ternary\": {\"aaxis\": {\"gridcolor\": \"white\", \"linecolor\": \"white\", \"ticks\": \"\"}, \"baxis\": {\"gridcolor\": \"white\", \"linecolor\": \"white\", \"ticks\": \"\"}, \"bgcolor\": \"#E5ECF6\", \"caxis\": {\"gridcolor\": \"white\", \"linecolor\": \"white\", \"ticks\": \"\"}}, \"title\": {\"x\": 0.05}, \"xaxis\": {\"automargin\": true, \"gridcolor\": \"white\", \"linecolor\": \"white\", \"ticks\": \"\", \"title\": {\"standoff\": 15}, \"zerolinecolor\": \"white\", \"zerolinewidth\": 2}, \"yaxis\": {\"automargin\": true, \"gridcolor\": \"white\", \"linecolor\": \"white\", \"ticks\": \"\", \"title\": {\"standoff\": 15}, \"zerolinecolor\": \"white\", \"zerolinewidth\": 2}}}, \"title\": {\"text\": \"\\ucf58\\ud150\\uce20 \\uad00\\ub78c\\uac00\"}, \"xaxis\": {\"anchor\": \"y\", \"domain\": [0.0, 1.0], \"title\": {\"text\": \"provider\"}}, \"yaxis\": {\"anchor\": \"x\", \"domain\": [0.0, 1.0], \"title\": {\"text\": \"count\"}}},\n",
              "                        {\"responsive\": true}\n",
              "                    ).then(function(){\n",
              "                            \n",
              "var gd = document.getElementById('be71f06a-b76e-4fc0-a498-c336c9a729ed');\n",
              "var x = new MutationObserver(function (mutations, observer) {{\n",
              "        var display = window.getComputedStyle(gd).display;\n",
              "        if (!display || display === 'none') {{\n",
              "            console.log([gd, 'removed!']);\n",
              "            Plotly.purge(gd);\n",
              "            observer.disconnect();\n",
              "        }}\n",
              "}});\n",
              "\n",
              "// Listen for the removal of the full notebook cells\n",
              "var notebookContainer = gd.closest('#notebook-container');\n",
              "if (notebookContainer) {{\n",
              "    x.observe(notebookContainer, {childList: true});\n",
              "}}\n",
              "\n",
              "// Listen for the clearing of the current output cell\n",
              "var outputEl = gd.closest('.output');\n",
              "if (outputEl) {{\n",
              "    x.observe(outputEl, {childList: true});\n",
              "}}\n",
              "\n",
              "                        })\n",
              "                };\n",
              "                \n",
              "            </script>\n",
              "        </div>\n",
              "</body>\n",
              "</html>"
            ]
          },
          "metadata": {}
        }
      ]
    },
    {
      "cell_type": "markdown",
      "source": [
        "###**각 플랫폼 별 콘텐츠 제작 년도**\n",
        "- 2021을 기준으로 최신 콘텐츠가 많은지 오래된 콘텐츠가 많은지 파악"
      ],
      "metadata": {
        "id": "VRh4rYdUkN5F"
      }
    },
    {
      "cell_type": "code",
      "source": [
        "#year가 NaN인 항목 제거\n",
        "year_d=tv_data\n",
        "print('제거 이전:',len(year_d))\n",
        "year_d = year_d.dropna(subset = ['year'], how = 'any', axis=0)\n",
        "print('제거 이후:',len(year_d))"
      ],
      "metadata": {
        "colab": {
          "base_uri": "https://localhost:8080/"
        },
        "id": "l9ojAqseHbPe",
        "outputId": "0c627688-e3e6-42ef-d563-9a437d547d64"
      },
      "execution_count": 41,
      "outputs": [
        {
          "output_type": "stream",
          "name": "stdout",
          "text": [
            "제거 이전: 11428\n",
            "제거 이후: 11410\n"
          ]
        }
      ]
    },
    {
      "cell_type": "code",
      "source": [
        "#시각화 라이브러리 호출\n",
        "import plotly.express as px\n",
        "\n",
        "#신규 데이터프레임\n",
        "df3= pd.DataFrame(columns=['provider','제작년도','count','percent'])\n",
        "\n",
        "for i in provider_list:\n",
        "  d=year_d.loc[year_d[\"provider\"].str.contains(i)]\n",
        "  df3.loc[len(df3)]=[i,'2021 이전',len(d[d['year']<2021]),len(d[d['year']<2021])*100/len(d)]\n",
        "  df3.loc[len(df3)]=[i,'2021 이후',len(d[d['year']>=2021]),len(d[d['year']>=2021])*100/len(d)]\n",
        "\n",
        "#시각화 \n",
        "fig = px.bar(df3, x=\"provider\", y=\"count\",hover_data=['percent'], color=\"제작년도\", title=\"근 1년 내 콘텐츠 비율\")\n",
        "fig.show()"
      ],
      "metadata": {
        "colab": {
          "base_uri": "https://localhost:8080/",
          "height": 542
        },
        "id": "oOwRqLb1IVig",
        "outputId": "907f279b-be76-464d-aaf3-c05b794d789c"
      },
      "execution_count": 42,
      "outputs": [
        {
          "output_type": "display_data",
          "data": {
            "text/html": [
              "<html>\n",
              "<head><meta charset=\"utf-8\" /></head>\n",
              "<body>\n",
              "    <div>\n",
              "            <script src=\"https://cdnjs.cloudflare.com/ajax/libs/mathjax/2.7.5/MathJax.js?config=TeX-AMS-MML_SVG\"></script><script type=\"text/javascript\">if (window.MathJax) {MathJax.Hub.Config({SVG: {font: \"STIX-Web\"}});}</script>\n",
              "                <script type=\"text/javascript\">window.PlotlyConfig = {MathJaxConfig: 'local'};</script>\n",
              "        <script src=\"https://cdn.plot.ly/plotly-latest.min.js\"></script>    \n",
              "            <div id=\"cf11e2ea-6b6b-48e9-beaf-d4559c14535b\" class=\"plotly-graph-div\" style=\"height:525px; width:100%;\"></div>\n",
              "            <script type=\"text/javascript\">\n",
              "                \n",
              "                    window.PLOTLYENV=window.PLOTLYENV || {};\n",
              "                    \n",
              "                if (document.getElementById(\"cf11e2ea-6b6b-48e9-beaf-d4559c14535b\")) {\n",
              "                    Plotly.newPlot(\n",
              "                        'cf11e2ea-6b6b-48e9-beaf-d4559c14535b',\n",
              "                        [{\"alignmentgroup\": \"True\", \"customdata\": [[92.43697478991596], [87.62015729682493], [92.69649334945586], [37.5], [100.0], [96.0431654676259], [87.98751950078002], [86.71350030543678], [65.46762589928058], [91.50279193979121], [93.7413073713491]], \"hoverlabel\": {\"namelength\": 0}, \"hovertemplate\": \"\\uc81c\\uc791\\ub144\\ub3c4=2021 \\uc774\\uc804<br>provider=%{x}<br>count=%{y}<br>percent=%{customdata[0]}\", \"legendgroup\": \"\\uc81c\\uc791\\ub144\\ub3c4=2021 \\uc774\\uc804\", \"marker\": {\"color\": \"#636efa\"}, \"name\": \"\\uc81c\\uc791\\ub144\\ub3c4=2021 \\uc774\\uc804\", \"offsetgroup\": \"\\uc81c\\uc791\\ub144\\ub3c4=2021 \\uc774\\uc804\", \"orientation\": \"v\", \"showlegend\": true, \"textposition\": \"auto\", \"type\": \"bar\", \"x\": [\"\\ucfe0\\ud321\\ud50c\\ub808\\uc774\", \"\\ud2f0\\ube59\", \"\\uc6e8\\uc774\\ube0c\", \"AppleTV+\", \"\\ub124\\uc774\\ubc84\\uc2dc\\ub9ac\\uc988\\uc628\", \"\\uc544\\ub9c8\\uc874\\ud504\\ub77c\\uc784\\ube44\\ub514\\uc624\", \"\\ub77c\\ud504\\ud154\", \"\\ub137\\ud50c\\ub9ad\\uc2a4\", \"seezn\", \"\\uc653\\ucc60\", \"\\ub514\\uc988\\ub2c8+\"], \"xaxis\": \"x\", \"y\": [550, 3008, 3833, 15, 4, 267, 1128, 2839, 273, 3769, 674], \"yaxis\": \"y\"}, {\"alignmentgroup\": \"True\", \"customdata\": [[7.563025210084033], [12.379842703175065], [7.3035066505441355], [62.5], [0.0], [3.9568345323741005], [12.012480499219969], [13.286499694563226], [34.53237410071942], [8.497208060208788], [6.258692628650904]], \"hoverlabel\": {\"namelength\": 0}, \"hovertemplate\": \"\\uc81c\\uc791\\ub144\\ub3c4=2021 \\uc774\\ud6c4<br>provider=%{x}<br>count=%{y}<br>percent=%{customdata[0]}\", \"legendgroup\": \"\\uc81c\\uc791\\ub144\\ub3c4=2021 \\uc774\\ud6c4\", \"marker\": {\"color\": \"#EF553B\"}, \"name\": \"\\uc81c\\uc791\\ub144\\ub3c4=2021 \\uc774\\ud6c4\", \"offsetgroup\": \"\\uc81c\\uc791\\ub144\\ub3c4=2021 \\uc774\\ud6c4\", \"orientation\": \"v\", \"showlegend\": true, \"textposition\": \"auto\", \"type\": \"bar\", \"x\": [\"\\ucfe0\\ud321\\ud50c\\ub808\\uc774\", \"\\ud2f0\\ube59\", \"\\uc6e8\\uc774\\ube0c\", \"AppleTV+\", \"\\ub124\\uc774\\ubc84\\uc2dc\\ub9ac\\uc988\\uc628\", \"\\uc544\\ub9c8\\uc874\\ud504\\ub77c\\uc784\\ube44\\ub514\\uc624\", \"\\ub77c\\ud504\\ud154\", \"\\ub137\\ud50c\\ub9ad\\uc2a4\", \"seezn\", \"\\uc653\\ucc60\", \"\\ub514\\uc988\\ub2c8+\"], \"xaxis\": \"x\", \"y\": [45, 425, 302, 25, 0, 11, 154, 435, 144, 350, 45], \"yaxis\": \"y\"}],\n",
              "                        {\"barmode\": \"relative\", \"legend\": {\"tracegroupgap\": 0}, \"template\": {\"data\": {\"bar\": [{\"error_x\": {\"color\": \"#2a3f5f\"}, \"error_y\": {\"color\": \"#2a3f5f\"}, \"marker\": {\"line\": {\"color\": \"#E5ECF6\", \"width\": 0.5}}, \"type\": \"bar\"}], \"barpolar\": [{\"marker\": {\"line\": {\"color\": \"#E5ECF6\", \"width\": 0.5}}, \"type\": \"barpolar\"}], \"carpet\": [{\"aaxis\": {\"endlinecolor\": \"#2a3f5f\", \"gridcolor\": \"white\", \"linecolor\": \"white\", \"minorgridcolor\": \"white\", \"startlinecolor\": \"#2a3f5f\"}, \"baxis\": {\"endlinecolor\": \"#2a3f5f\", \"gridcolor\": \"white\", \"linecolor\": \"white\", \"minorgridcolor\": \"white\", \"startlinecolor\": \"#2a3f5f\"}, \"type\": \"carpet\"}], \"choropleth\": [{\"colorbar\": {\"outlinewidth\": 0, \"ticks\": \"\"}, \"type\": \"choropleth\"}], \"contour\": [{\"colorbar\": {\"outlinewidth\": 0, \"ticks\": \"\"}, \"colorscale\": [[0.0, \"#0d0887\"], [0.1111111111111111, \"#46039f\"], [0.2222222222222222, \"#7201a8\"], [0.3333333333333333, \"#9c179e\"], [0.4444444444444444, \"#bd3786\"], [0.5555555555555556, \"#d8576b\"], [0.6666666666666666, \"#ed7953\"], [0.7777777777777778, \"#fb9f3a\"], [0.8888888888888888, \"#fdca26\"], [1.0, \"#f0f921\"]], \"type\": \"contour\"}], \"contourcarpet\": [{\"colorbar\": {\"outlinewidth\": 0, \"ticks\": \"\"}, \"type\": \"contourcarpet\"}], \"heatmap\": [{\"colorbar\": {\"outlinewidth\": 0, \"ticks\": \"\"}, \"colorscale\": [[0.0, \"#0d0887\"], [0.1111111111111111, \"#46039f\"], [0.2222222222222222, \"#7201a8\"], [0.3333333333333333, \"#9c179e\"], [0.4444444444444444, \"#bd3786\"], [0.5555555555555556, \"#d8576b\"], [0.6666666666666666, \"#ed7953\"], [0.7777777777777778, \"#fb9f3a\"], [0.8888888888888888, \"#fdca26\"], [1.0, \"#f0f921\"]], \"type\": \"heatmap\"}], \"heatmapgl\": [{\"colorbar\": {\"outlinewidth\": 0, \"ticks\": \"\"}, \"colorscale\": [[0.0, \"#0d0887\"], [0.1111111111111111, \"#46039f\"], [0.2222222222222222, \"#7201a8\"], [0.3333333333333333, \"#9c179e\"], [0.4444444444444444, \"#bd3786\"], [0.5555555555555556, \"#d8576b\"], [0.6666666666666666, \"#ed7953\"], [0.7777777777777778, \"#fb9f3a\"], [0.8888888888888888, \"#fdca26\"], [1.0, \"#f0f921\"]], \"type\": \"heatmapgl\"}], \"histogram\": [{\"marker\": {\"colorbar\": {\"outlinewidth\": 0, \"ticks\": \"\"}}, \"type\": \"histogram\"}], \"histogram2d\": [{\"colorbar\": {\"outlinewidth\": 0, \"ticks\": \"\"}, \"colorscale\": [[0.0, \"#0d0887\"], [0.1111111111111111, \"#46039f\"], [0.2222222222222222, \"#7201a8\"], [0.3333333333333333, \"#9c179e\"], [0.4444444444444444, \"#bd3786\"], [0.5555555555555556, \"#d8576b\"], [0.6666666666666666, \"#ed7953\"], [0.7777777777777778, \"#fb9f3a\"], [0.8888888888888888, \"#fdca26\"], [1.0, \"#f0f921\"]], \"type\": \"histogram2d\"}], \"histogram2dcontour\": [{\"colorbar\": {\"outlinewidth\": 0, \"ticks\": \"\"}, \"colorscale\": [[0.0, \"#0d0887\"], [0.1111111111111111, \"#46039f\"], [0.2222222222222222, \"#7201a8\"], [0.3333333333333333, \"#9c179e\"], [0.4444444444444444, \"#bd3786\"], [0.5555555555555556, \"#d8576b\"], [0.6666666666666666, \"#ed7953\"], [0.7777777777777778, \"#fb9f3a\"], [0.8888888888888888, \"#fdca26\"], [1.0, \"#f0f921\"]], \"type\": \"histogram2dcontour\"}], \"mesh3d\": [{\"colorbar\": {\"outlinewidth\": 0, \"ticks\": \"\"}, \"type\": \"mesh3d\"}], \"parcoords\": [{\"line\": {\"colorbar\": {\"outlinewidth\": 0, \"ticks\": \"\"}}, \"type\": \"parcoords\"}], \"pie\": [{\"automargin\": true, \"type\": \"pie\"}], \"scatter\": [{\"marker\": {\"colorbar\": {\"outlinewidth\": 0, \"ticks\": \"\"}}, \"type\": \"scatter\"}], \"scatter3d\": [{\"line\": {\"colorbar\": {\"outlinewidth\": 0, \"ticks\": \"\"}}, \"marker\": {\"colorbar\": {\"outlinewidth\": 0, \"ticks\": \"\"}}, \"type\": \"scatter3d\"}], \"scattercarpet\": [{\"marker\": {\"colorbar\": {\"outlinewidth\": 0, \"ticks\": \"\"}}, \"type\": \"scattercarpet\"}], \"scattergeo\": [{\"marker\": {\"colorbar\": {\"outlinewidth\": 0, \"ticks\": \"\"}}, \"type\": \"scattergeo\"}], \"scattergl\": [{\"marker\": {\"colorbar\": {\"outlinewidth\": 0, \"ticks\": \"\"}}, \"type\": \"scattergl\"}], \"scattermapbox\": [{\"marker\": {\"colorbar\": {\"outlinewidth\": 0, \"ticks\": \"\"}}, \"type\": \"scattermapbox\"}], \"scatterpolar\": [{\"marker\": {\"colorbar\": {\"outlinewidth\": 0, \"ticks\": \"\"}}, \"type\": \"scatterpolar\"}], \"scatterpolargl\": [{\"marker\": {\"colorbar\": {\"outlinewidth\": 0, \"ticks\": \"\"}}, \"type\": \"scatterpolargl\"}], \"scatterternary\": [{\"marker\": {\"colorbar\": {\"outlinewidth\": 0, \"ticks\": \"\"}}, \"type\": \"scatterternary\"}], \"surface\": [{\"colorbar\": {\"outlinewidth\": 0, \"ticks\": \"\"}, \"colorscale\": [[0.0, \"#0d0887\"], [0.1111111111111111, \"#46039f\"], [0.2222222222222222, \"#7201a8\"], [0.3333333333333333, \"#9c179e\"], [0.4444444444444444, \"#bd3786\"], [0.5555555555555556, \"#d8576b\"], [0.6666666666666666, \"#ed7953\"], [0.7777777777777778, \"#fb9f3a\"], [0.8888888888888888, \"#fdca26\"], [1.0, \"#f0f921\"]], \"type\": \"surface\"}], \"table\": [{\"cells\": {\"fill\": {\"color\": \"#EBF0F8\"}, \"line\": {\"color\": \"white\"}}, \"header\": {\"fill\": {\"color\": \"#C8D4E3\"}, \"line\": {\"color\": \"white\"}}, \"type\": \"table\"}]}, \"layout\": {\"annotationdefaults\": {\"arrowcolor\": \"#2a3f5f\", \"arrowhead\": 0, \"arrowwidth\": 1}, \"coloraxis\": {\"colorbar\": {\"outlinewidth\": 0, \"ticks\": \"\"}}, \"colorscale\": {\"diverging\": [[0, \"#8e0152\"], [0.1, \"#c51b7d\"], [0.2, \"#de77ae\"], [0.3, \"#f1b6da\"], [0.4, \"#fde0ef\"], [0.5, \"#f7f7f7\"], [0.6, \"#e6f5d0\"], [0.7, \"#b8e186\"], [0.8, \"#7fbc41\"], [0.9, \"#4d9221\"], [1, \"#276419\"]], \"sequential\": [[0.0, \"#0d0887\"], [0.1111111111111111, \"#46039f\"], [0.2222222222222222, \"#7201a8\"], [0.3333333333333333, \"#9c179e\"], [0.4444444444444444, \"#bd3786\"], [0.5555555555555556, \"#d8576b\"], [0.6666666666666666, \"#ed7953\"], [0.7777777777777778, \"#fb9f3a\"], [0.8888888888888888, \"#fdca26\"], [1.0, \"#f0f921\"]], \"sequentialminus\": [[0.0, \"#0d0887\"], [0.1111111111111111, \"#46039f\"], [0.2222222222222222, \"#7201a8\"], [0.3333333333333333, \"#9c179e\"], [0.4444444444444444, \"#bd3786\"], [0.5555555555555556, \"#d8576b\"], [0.6666666666666666, \"#ed7953\"], [0.7777777777777778, \"#fb9f3a\"], [0.8888888888888888, \"#fdca26\"], [1.0, \"#f0f921\"]]}, \"colorway\": [\"#636efa\", \"#EF553B\", \"#00cc96\", \"#ab63fa\", \"#FFA15A\", \"#19d3f3\", \"#FF6692\", \"#B6E880\", \"#FF97FF\", \"#FECB52\"], \"font\": {\"color\": \"#2a3f5f\"}, \"geo\": {\"bgcolor\": \"white\", \"lakecolor\": \"white\", \"landcolor\": \"#E5ECF6\", \"showlakes\": true, \"showland\": true, \"subunitcolor\": \"white\"}, \"hoverlabel\": {\"align\": \"left\"}, \"hovermode\": \"closest\", \"mapbox\": {\"style\": \"light\"}, \"paper_bgcolor\": \"white\", \"plot_bgcolor\": \"#E5ECF6\", \"polar\": {\"angularaxis\": {\"gridcolor\": \"white\", \"linecolor\": \"white\", \"ticks\": \"\"}, \"bgcolor\": \"#E5ECF6\", \"radialaxis\": {\"gridcolor\": \"white\", \"linecolor\": \"white\", \"ticks\": \"\"}}, \"scene\": {\"xaxis\": {\"backgroundcolor\": \"#E5ECF6\", \"gridcolor\": \"white\", \"gridwidth\": 2, \"linecolor\": \"white\", \"showbackground\": true, \"ticks\": \"\", \"zerolinecolor\": \"white\"}, \"yaxis\": {\"backgroundcolor\": \"#E5ECF6\", \"gridcolor\": \"white\", \"gridwidth\": 2, \"linecolor\": \"white\", \"showbackground\": true, \"ticks\": \"\", \"zerolinecolor\": \"white\"}, \"zaxis\": {\"backgroundcolor\": \"#E5ECF6\", \"gridcolor\": \"white\", \"gridwidth\": 2, \"linecolor\": \"white\", \"showbackground\": true, \"ticks\": \"\", \"zerolinecolor\": \"white\"}}, \"shapedefaults\": {\"line\": {\"color\": \"#2a3f5f\"}}, \"ternary\": {\"aaxis\": {\"gridcolor\": \"white\", \"linecolor\": \"white\", \"ticks\": \"\"}, \"baxis\": {\"gridcolor\": \"white\", \"linecolor\": \"white\", \"ticks\": \"\"}, \"bgcolor\": \"#E5ECF6\", \"caxis\": {\"gridcolor\": \"white\", \"linecolor\": \"white\", \"ticks\": \"\"}}, \"title\": {\"x\": 0.05}, \"xaxis\": {\"automargin\": true, \"gridcolor\": \"white\", \"linecolor\": \"white\", \"ticks\": \"\", \"title\": {\"standoff\": 15}, \"zerolinecolor\": \"white\", \"zerolinewidth\": 2}, \"yaxis\": {\"automargin\": true, \"gridcolor\": \"white\", \"linecolor\": \"white\", \"ticks\": \"\", \"title\": {\"standoff\": 15}, \"zerolinecolor\": \"white\", \"zerolinewidth\": 2}}}, \"title\": {\"text\": \"\\uadfc 1\\ub144 \\ub0b4 \\ucf58\\ud150\\uce20 \\ube44\\uc728\"}, \"xaxis\": {\"anchor\": \"y\", \"domain\": [0.0, 1.0], \"title\": {\"text\": \"provider\"}}, \"yaxis\": {\"anchor\": \"x\", \"domain\": [0.0, 1.0], \"title\": {\"text\": \"count\"}}},\n",
              "                        {\"responsive\": true}\n",
              "                    ).then(function(){\n",
              "                            \n",
              "var gd = document.getElementById('cf11e2ea-6b6b-48e9-beaf-d4559c14535b');\n",
              "var x = new MutationObserver(function (mutations, observer) {{\n",
              "        var display = window.getComputedStyle(gd).display;\n",
              "        if (!display || display === 'none') {{\n",
              "            console.log([gd, 'removed!']);\n",
              "            Plotly.purge(gd);\n",
              "            observer.disconnect();\n",
              "        }}\n",
              "}});\n",
              "\n",
              "// Listen for the removal of the full notebook cells\n",
              "var notebookContainer = gd.closest('#notebook-container');\n",
              "if (notebookContainer) {{\n",
              "    x.observe(notebookContainer, {childList: true});\n",
              "}}\n",
              "\n",
              "// Listen for the clearing of the current output cell\n",
              "var outputEl = gd.closest('.output');\n",
              "if (outputEl) {{\n",
              "    x.observe(outputEl, {childList: true});\n",
              "}}\n",
              "\n",
              "                        })\n",
              "                };\n",
              "                \n",
              "            </script>\n",
              "        </div>\n",
              "</body>\n",
              "</html>"
            ]
          },
          "metadata": {}
        }
      ]
    },
    {
      "cell_type": "markdown",
      "source": [
        "###**플랫폼 별 콘텐츠 제작 국가**\n",
        "- 해외/국내 콘텐츠 비율 파악"
      ],
      "metadata": {
        "id": "w54YJpco8WkC"
      }
    },
    {
      "cell_type": "code",
      "source": [
        "#country가 NaN인 항목 제거\n",
        "country=tv_data\n",
        "print('제거 이전:',len(country))\n",
        "country = country.dropna(subset = ['country'], how = 'any', axis=0)\n",
        "print('제거 이후:',len(country))"
      ],
      "metadata": {
        "colab": {
          "base_uri": "https://localhost:8080/"
        },
        "id": "m3gYLPnadNVi",
        "outputId": "9c9d1527-0604-4827-a2ea-7d8f4ec521c0"
      },
      "execution_count": 43,
      "outputs": [
        {
          "output_type": "stream",
          "name": "stdout",
          "text": [
            "제거 이전: 11428\n",
            "제거 이후: 11428\n"
          ]
        }
      ]
    },
    {
      "cell_type": "code",
      "source": [
        "#데이터에 적힌 country 목록\n",
        "\n",
        "country_list=[]\n",
        "li=country['country'].apply(lambda x: x.split(','))\n",
        "for i in li:\n",
        "    if i not in country_list:\n",
        "      country_list+=i\n",
        "country_list=list(set(country_list))\n",
        "country_list.remove('')\n",
        "print(country_list)"
      ],
      "metadata": {
        "colab": {
          "base_uri": "https://localhost:8080/"
        },
        "id": "ZunzBBy_KpMf",
        "outputId": "f72df1ac-461b-460b-8f67-f9a95bcb67cc"
      },
      "execution_count": 44,
      "outputs": [
        {
          "output_type": "stream",
          "name": "stdout",
          "text": [
            "['노르웨이', '대만', '일본', '영국', '벨기에', '아르헨티나', '크로아티아', '과테말라', '스페인', '독일', '세네갈', '프랑스', '홍콩', '스웨덴', '브라질', '러시아', '네덜란드', '이탈리아', '스위스', '터키', '그리스', '레바논', '루마니아', '칠레', '폴란드', '남아프리카공화국', '오스트리아', '포르투갈', '멕시코', '이스라엘', '이집트', '콜롬비아', '아이슬란드', '덴마크', '아일랜드', '룩셈부르크', '말레이시아', '나이지리아', '미국', '싱가포르', '베트남', '필리핀', '뉴질랜드', '체코', '사우디아라비아', '인도', '호주', '캐나다', '요르단', '한국', '핀란드', '우크라이나', '아랍에미리트연합', '키즈', '북한', '헝가리', '태국', '중국']\n"
          ]
        }
      ]
    },
    {
      "cell_type": "code",
      "source": [
        "#국내/해외로 구분\n",
        "\n",
        "#시각화 라이브러리 호출\n",
        "import plotly.express as px\n",
        "\n",
        "#신규 데이터프레임\n",
        "df4= pd.DataFrame(columns=['provider','국내/해외','count','percent'])\n",
        "for i in provider_list:\n",
        "  d=tv_data.loc[tv_data['provider'].str.contains(i)]\n",
        "  ko=len(d[d['country'].str.contains('한국')])\n",
        "  n_ko=len(d[d['country'].str.contains('한국')==False])\n",
        "  df4.loc[len(df4)]=[i,'국내',ko,ko*100/len(d)]\n",
        "  df4.loc[len(df4)]=[i,'해외',n_ko,n_ko*100/len(d)]\n",
        "\n",
        "#시각화 \n",
        "fig = px.bar(df4, x=\"provider\", y=\"count\",hover_data=['percent'], color=\"국내/해외\", title=\"국내/해외\")\n",
        "fig.show()"
      ],
      "metadata": {
        "colab": {
          "base_uri": "https://localhost:8080/",
          "height": 542
        },
        "id": "bekvOtCedkNg",
        "outputId": "427effb7-0d62-450a-ab00-bba4e8bb4347"
      },
      "execution_count": 45,
      "outputs": [
        {
          "output_type": "display_data",
          "data": {
            "text/html": [
              "<html>\n",
              "<head><meta charset=\"utf-8\" /></head>\n",
              "<body>\n",
              "    <div>\n",
              "            <script src=\"https://cdnjs.cloudflare.com/ajax/libs/mathjax/2.7.5/MathJax.js?config=TeX-AMS-MML_SVG\"></script><script type=\"text/javascript\">if (window.MathJax) {MathJax.Hub.Config({SVG: {font: \"STIX-Web\"}});}</script>\n",
              "                <script type=\"text/javascript\">window.PlotlyConfig = {MathJaxConfig: 'local'};</script>\n",
              "        <script src=\"https://cdn.plot.ly/plotly-latest.min.js\"></script>    \n",
              "            <div id=\"7c0a60e7-2e13-44e8-ad91-ca0f86d662c2\" class=\"plotly-graph-div\" style=\"height:525px; width:100%;\"></div>\n",
              "            <script type=\"text/javascript\">\n",
              "                \n",
              "                    window.PLOTLYENV=window.PLOTLYENV || {};\n",
              "                    \n",
              "                if (document.getElementById(\"7c0a60e7-2e13-44e8-ad91-ca0f86d662c2\")) {\n",
              "                    Plotly.newPlot(\n",
              "                        '7c0a60e7-2e13-44e8-ad91-ca0f86d662c2',\n",
              "                        [{\"alignmentgroup\": \"True\", \"customdata\": [[42.18487394957983], [54.027333527188134], [40.38182696955051], [2.5], [100.0], [0.0], [11.206225680933851], [9.740458015267176], [66.66666666666667], [41.70305676855895], [3.3333333333333335]], \"hoverlabel\": {\"namelength\": 0}, \"hovertemplate\": \"\\uad6d\\ub0b4/\\ud574\\uc678=\\uad6d\\ub0b4<br>provider=%{x}<br>count=%{y}<br>percent=%{customdata[0]}\", \"legendgroup\": \"\\uad6d\\ub0b4/\\ud574\\uc678=\\uad6d\\ub0b4\", \"marker\": {\"color\": \"#636efa\"}, \"name\": \"\\uad6d\\ub0b4/\\ud574\\uc678=\\uad6d\\ub0b4\", \"offsetgroup\": \"\\uad6d\\ub0b4/\\ud574\\uc678=\\uad6d\\ub0b4\", \"orientation\": \"v\", \"showlegend\": true, \"textposition\": \"auto\", \"type\": \"bar\", \"x\": [\"\\ucfe0\\ud321\\ud50c\\ub808\\uc774\", \"\\ud2f0\\ube59\", \"\\uc6e8\\uc774\\ube0c\", \"AppleTV+\", \"\\ub124\\uc774\\ubc84\\uc2dc\\ub9ac\\uc988\\uc628\", \"\\uc544\\ub9c8\\uc874\\ud504\\ub77c\\uc784\\ube44\\ub514\\uc624\", \"\\ub77c\\ud504\\ud154\", \"\\ub137\\ud50c\\ub9ad\\uc2a4\", \"seezn\", \"\\uc653\\ucc60\", \"\\ub514\\uc988\\ub2c8+\"], \"xaxis\": \"x\", \"y\": [251, 1858, 1671, 1, 4, 0, 144, 319, 278, 1719, 24], \"yaxis\": \"y\"}, {\"alignmentgroup\": \"True\", \"customdata\": [[57.81512605042017], [45.972666472811866], [59.61817303044949], [97.5], [0.0], [100.0], [88.79377431906615], [90.25954198473282], [33.333333333333336], [58.29694323144105], [96.66666666666667]], \"hoverlabel\": {\"namelength\": 0}, \"hovertemplate\": \"\\uad6d\\ub0b4/\\ud574\\uc678=\\ud574\\uc678<br>provider=%{x}<br>count=%{y}<br>percent=%{customdata[0]}\", \"legendgroup\": \"\\uad6d\\ub0b4/\\ud574\\uc678=\\ud574\\uc678\", \"marker\": {\"color\": \"#EF553B\"}, \"name\": \"\\uad6d\\ub0b4/\\ud574\\uc678=\\ud574\\uc678\", \"offsetgroup\": \"\\uad6d\\ub0b4/\\ud574\\uc678=\\ud574\\uc678\", \"orientation\": \"v\", \"showlegend\": true, \"textposition\": \"auto\", \"type\": \"bar\", \"x\": [\"\\ucfe0\\ud321\\ud50c\\ub808\\uc774\", \"\\ud2f0\\ube59\", \"\\uc6e8\\uc774\\ube0c\", \"AppleTV+\", \"\\ub124\\uc774\\ubc84\\uc2dc\\ub9ac\\uc988\\uc628\", \"\\uc544\\ub9c8\\uc874\\ud504\\ub77c\\uc784\\ube44\\ub514\\uc624\", \"\\ub77c\\ud504\\ud154\", \"\\ub137\\ud50c\\ub9ad\\uc2a4\", \"seezn\", \"\\uc653\\ucc60\", \"\\ub514\\uc988\\ub2c8+\"], \"xaxis\": \"x\", \"y\": [344, 1581, 2467, 39, 0, 279, 1141, 2956, 139, 2403, 696], \"yaxis\": \"y\"}],\n",
              "                        {\"barmode\": \"relative\", \"legend\": {\"tracegroupgap\": 0}, \"template\": {\"data\": {\"bar\": [{\"error_x\": {\"color\": \"#2a3f5f\"}, \"error_y\": {\"color\": \"#2a3f5f\"}, \"marker\": {\"line\": {\"color\": \"#E5ECF6\", \"width\": 0.5}}, \"type\": \"bar\"}], \"barpolar\": [{\"marker\": {\"line\": {\"color\": \"#E5ECF6\", \"width\": 0.5}}, \"type\": \"barpolar\"}], \"carpet\": [{\"aaxis\": {\"endlinecolor\": \"#2a3f5f\", \"gridcolor\": \"white\", \"linecolor\": \"white\", \"minorgridcolor\": \"white\", \"startlinecolor\": \"#2a3f5f\"}, \"baxis\": {\"endlinecolor\": \"#2a3f5f\", \"gridcolor\": \"white\", \"linecolor\": \"white\", \"minorgridcolor\": \"white\", \"startlinecolor\": \"#2a3f5f\"}, \"type\": \"carpet\"}], \"choropleth\": [{\"colorbar\": {\"outlinewidth\": 0, \"ticks\": \"\"}, \"type\": \"choropleth\"}], \"contour\": [{\"colorbar\": {\"outlinewidth\": 0, \"ticks\": \"\"}, \"colorscale\": [[0.0, \"#0d0887\"], [0.1111111111111111, \"#46039f\"], [0.2222222222222222, \"#7201a8\"], [0.3333333333333333, \"#9c179e\"], [0.4444444444444444, \"#bd3786\"], [0.5555555555555556, \"#d8576b\"], [0.6666666666666666, \"#ed7953\"], [0.7777777777777778, \"#fb9f3a\"], [0.8888888888888888, \"#fdca26\"], [1.0, \"#f0f921\"]], \"type\": \"contour\"}], \"contourcarpet\": [{\"colorbar\": {\"outlinewidth\": 0, \"ticks\": \"\"}, \"type\": \"contourcarpet\"}], \"heatmap\": [{\"colorbar\": {\"outlinewidth\": 0, \"ticks\": \"\"}, \"colorscale\": [[0.0, \"#0d0887\"], [0.1111111111111111, \"#46039f\"], [0.2222222222222222, \"#7201a8\"], [0.3333333333333333, \"#9c179e\"], [0.4444444444444444, \"#bd3786\"], [0.5555555555555556, \"#d8576b\"], [0.6666666666666666, \"#ed7953\"], [0.7777777777777778, \"#fb9f3a\"], [0.8888888888888888, \"#fdca26\"], [1.0, \"#f0f921\"]], \"type\": \"heatmap\"}], \"heatmapgl\": [{\"colorbar\": {\"outlinewidth\": 0, \"ticks\": \"\"}, \"colorscale\": [[0.0, \"#0d0887\"], [0.1111111111111111, \"#46039f\"], [0.2222222222222222, \"#7201a8\"], [0.3333333333333333, \"#9c179e\"], [0.4444444444444444, \"#bd3786\"], [0.5555555555555556, \"#d8576b\"], [0.6666666666666666, \"#ed7953\"], [0.7777777777777778, \"#fb9f3a\"], [0.8888888888888888, \"#fdca26\"], [1.0, \"#f0f921\"]], \"type\": \"heatmapgl\"}], \"histogram\": [{\"marker\": {\"colorbar\": {\"outlinewidth\": 0, \"ticks\": \"\"}}, \"type\": \"histogram\"}], \"histogram2d\": [{\"colorbar\": {\"outlinewidth\": 0, \"ticks\": \"\"}, \"colorscale\": [[0.0, \"#0d0887\"], [0.1111111111111111, \"#46039f\"], [0.2222222222222222, \"#7201a8\"], [0.3333333333333333, \"#9c179e\"], [0.4444444444444444, \"#bd3786\"], [0.5555555555555556, \"#d8576b\"], [0.6666666666666666, \"#ed7953\"], [0.7777777777777778, \"#fb9f3a\"], [0.8888888888888888, \"#fdca26\"], [1.0, \"#f0f921\"]], \"type\": \"histogram2d\"}], \"histogram2dcontour\": [{\"colorbar\": {\"outlinewidth\": 0, \"ticks\": \"\"}, \"colorscale\": [[0.0, \"#0d0887\"], [0.1111111111111111, \"#46039f\"], [0.2222222222222222, \"#7201a8\"], [0.3333333333333333, \"#9c179e\"], [0.4444444444444444, \"#bd3786\"], [0.5555555555555556, \"#d8576b\"], [0.6666666666666666, \"#ed7953\"], [0.7777777777777778, \"#fb9f3a\"], [0.8888888888888888, \"#fdca26\"], [1.0, \"#f0f921\"]], \"type\": \"histogram2dcontour\"}], \"mesh3d\": [{\"colorbar\": {\"outlinewidth\": 0, \"ticks\": \"\"}, \"type\": \"mesh3d\"}], \"parcoords\": [{\"line\": {\"colorbar\": {\"outlinewidth\": 0, \"ticks\": \"\"}}, \"type\": \"parcoords\"}], \"pie\": [{\"automargin\": true, \"type\": \"pie\"}], \"scatter\": [{\"marker\": {\"colorbar\": {\"outlinewidth\": 0, \"ticks\": \"\"}}, \"type\": \"scatter\"}], \"scatter3d\": [{\"line\": {\"colorbar\": {\"outlinewidth\": 0, \"ticks\": \"\"}}, \"marker\": {\"colorbar\": {\"outlinewidth\": 0, \"ticks\": \"\"}}, \"type\": \"scatter3d\"}], \"scattercarpet\": [{\"marker\": {\"colorbar\": {\"outlinewidth\": 0, \"ticks\": \"\"}}, \"type\": \"scattercarpet\"}], \"scattergeo\": [{\"marker\": {\"colorbar\": {\"outlinewidth\": 0, \"ticks\": \"\"}}, \"type\": \"scattergeo\"}], \"scattergl\": [{\"marker\": {\"colorbar\": {\"outlinewidth\": 0, \"ticks\": \"\"}}, \"type\": \"scattergl\"}], \"scattermapbox\": [{\"marker\": {\"colorbar\": {\"outlinewidth\": 0, \"ticks\": \"\"}}, \"type\": \"scattermapbox\"}], \"scatterpolar\": [{\"marker\": {\"colorbar\": {\"outlinewidth\": 0, \"ticks\": \"\"}}, \"type\": \"scatterpolar\"}], \"scatterpolargl\": [{\"marker\": {\"colorbar\": {\"outlinewidth\": 0, \"ticks\": \"\"}}, \"type\": \"scatterpolargl\"}], \"scatterternary\": [{\"marker\": {\"colorbar\": {\"outlinewidth\": 0, \"ticks\": \"\"}}, \"type\": \"scatterternary\"}], \"surface\": [{\"colorbar\": {\"outlinewidth\": 0, \"ticks\": \"\"}, \"colorscale\": [[0.0, \"#0d0887\"], [0.1111111111111111, \"#46039f\"], [0.2222222222222222, \"#7201a8\"], [0.3333333333333333, \"#9c179e\"], [0.4444444444444444, \"#bd3786\"], [0.5555555555555556, \"#d8576b\"], [0.6666666666666666, \"#ed7953\"], [0.7777777777777778, \"#fb9f3a\"], [0.8888888888888888, \"#fdca26\"], [1.0, \"#f0f921\"]], \"type\": \"surface\"}], \"table\": [{\"cells\": {\"fill\": {\"color\": \"#EBF0F8\"}, \"line\": {\"color\": \"white\"}}, \"header\": {\"fill\": {\"color\": \"#C8D4E3\"}, \"line\": {\"color\": \"white\"}}, \"type\": \"table\"}]}, \"layout\": {\"annotationdefaults\": {\"arrowcolor\": \"#2a3f5f\", \"arrowhead\": 0, \"arrowwidth\": 1}, \"coloraxis\": {\"colorbar\": {\"outlinewidth\": 0, \"ticks\": \"\"}}, \"colorscale\": {\"diverging\": [[0, \"#8e0152\"], [0.1, \"#c51b7d\"], [0.2, \"#de77ae\"], [0.3, \"#f1b6da\"], [0.4, \"#fde0ef\"], [0.5, \"#f7f7f7\"], [0.6, \"#e6f5d0\"], [0.7, \"#b8e186\"], [0.8, \"#7fbc41\"], [0.9, \"#4d9221\"], [1, \"#276419\"]], \"sequential\": [[0.0, \"#0d0887\"], [0.1111111111111111, \"#46039f\"], [0.2222222222222222, \"#7201a8\"], [0.3333333333333333, \"#9c179e\"], [0.4444444444444444, \"#bd3786\"], [0.5555555555555556, \"#d8576b\"], [0.6666666666666666, \"#ed7953\"], [0.7777777777777778, \"#fb9f3a\"], [0.8888888888888888, \"#fdca26\"], [1.0, \"#f0f921\"]], \"sequentialminus\": [[0.0, \"#0d0887\"], [0.1111111111111111, \"#46039f\"], [0.2222222222222222, \"#7201a8\"], [0.3333333333333333, \"#9c179e\"], [0.4444444444444444, \"#bd3786\"], [0.5555555555555556, \"#d8576b\"], [0.6666666666666666, \"#ed7953\"], [0.7777777777777778, \"#fb9f3a\"], [0.8888888888888888, \"#fdca26\"], [1.0, \"#f0f921\"]]}, \"colorway\": [\"#636efa\", \"#EF553B\", \"#00cc96\", \"#ab63fa\", \"#FFA15A\", \"#19d3f3\", \"#FF6692\", \"#B6E880\", \"#FF97FF\", \"#FECB52\"], \"font\": {\"color\": \"#2a3f5f\"}, \"geo\": {\"bgcolor\": \"white\", \"lakecolor\": \"white\", \"landcolor\": \"#E5ECF6\", \"showlakes\": true, \"showland\": true, \"subunitcolor\": \"white\"}, \"hoverlabel\": {\"align\": \"left\"}, \"hovermode\": \"closest\", \"mapbox\": {\"style\": \"light\"}, \"paper_bgcolor\": \"white\", \"plot_bgcolor\": \"#E5ECF6\", \"polar\": {\"angularaxis\": {\"gridcolor\": \"white\", \"linecolor\": \"white\", \"ticks\": \"\"}, \"bgcolor\": \"#E5ECF6\", \"radialaxis\": {\"gridcolor\": \"white\", \"linecolor\": \"white\", \"ticks\": \"\"}}, \"scene\": {\"xaxis\": {\"backgroundcolor\": \"#E5ECF6\", \"gridcolor\": \"white\", \"gridwidth\": 2, \"linecolor\": \"white\", \"showbackground\": true, \"ticks\": \"\", \"zerolinecolor\": \"white\"}, \"yaxis\": {\"backgroundcolor\": \"#E5ECF6\", \"gridcolor\": \"white\", \"gridwidth\": 2, \"linecolor\": \"white\", \"showbackground\": true, \"ticks\": \"\", \"zerolinecolor\": \"white\"}, \"zaxis\": {\"backgroundcolor\": \"#E5ECF6\", \"gridcolor\": \"white\", \"gridwidth\": 2, \"linecolor\": \"white\", \"showbackground\": true, \"ticks\": \"\", \"zerolinecolor\": \"white\"}}, \"shapedefaults\": {\"line\": {\"color\": \"#2a3f5f\"}}, \"ternary\": {\"aaxis\": {\"gridcolor\": \"white\", \"linecolor\": \"white\", \"ticks\": \"\"}, \"baxis\": {\"gridcolor\": \"white\", \"linecolor\": \"white\", \"ticks\": \"\"}, \"bgcolor\": \"#E5ECF6\", \"caxis\": {\"gridcolor\": \"white\", \"linecolor\": \"white\", \"ticks\": \"\"}}, \"title\": {\"x\": 0.05}, \"xaxis\": {\"automargin\": true, \"gridcolor\": \"white\", \"linecolor\": \"white\", \"ticks\": \"\", \"title\": {\"standoff\": 15}, \"zerolinecolor\": \"white\", \"zerolinewidth\": 2}, \"yaxis\": {\"automargin\": true, \"gridcolor\": \"white\", \"linecolor\": \"white\", \"ticks\": \"\", \"title\": {\"standoff\": 15}, \"zerolinecolor\": \"white\", \"zerolinewidth\": 2}}}, \"title\": {\"text\": \"\\uad6d\\ub0b4/\\ud574\\uc678\"}, \"xaxis\": {\"anchor\": \"y\", \"domain\": [0.0, 1.0], \"title\": {\"text\": \"provider\"}}, \"yaxis\": {\"anchor\": \"x\", \"domain\": [0.0, 1.0], \"title\": {\"text\": \"count\"}}},\n",
              "                        {\"responsive\": true}\n",
              "                    ).then(function(){\n",
              "                            \n",
              "var gd = document.getElementById('7c0a60e7-2e13-44e8-ad91-ca0f86d662c2');\n",
              "var x = new MutationObserver(function (mutations, observer) {{\n",
              "        var display = window.getComputedStyle(gd).display;\n",
              "        if (!display || display === 'none') {{\n",
              "            console.log([gd, 'removed!']);\n",
              "            Plotly.purge(gd);\n",
              "            observer.disconnect();\n",
              "        }}\n",
              "}});\n",
              "\n",
              "// Listen for the removal of the full notebook cells\n",
              "var notebookContainer = gd.closest('#notebook-container');\n",
              "if (notebookContainer) {{\n",
              "    x.observe(notebookContainer, {childList: true});\n",
              "}}\n",
              "\n",
              "// Listen for the clearing of the current output cell\n",
              "var outputEl = gd.closest('.output');\n",
              "if (outputEl) {{\n",
              "    x.observe(outputEl, {childList: true});\n",
              "}}\n",
              "\n",
              "                        })\n",
              "                };\n",
              "                \n",
              "            </script>\n",
              "        </div>\n",
              "</body>\n",
              "</html>"
            ]
          },
          "metadata": {}
        }
      ]
    },
    {
      "cell_type": "code",
      "source": [
        "#전체 국가\n",
        "\n",
        "#신규 데이터프레임\n",
        "df4_1= pd.DataFrame(columns=['provider','국가','count','percent'])\n",
        "for i in provider_list:\n",
        "  d=tv_data.loc[tv_data['provider'].str.contains(i)]\n",
        "  for i2 in country_list:\n",
        "    c=len(d[d['country'].str.contains(i2)])\n",
        "    df4_1.loc[len(df4_1)]=[i,i2,c,c*100/len(d)]"
      ],
      "metadata": {
        "id": "fNqKU8yQ18RF"
      },
      "execution_count": 46,
      "outputs": []
    },
    {
      "cell_type": "code",
      "source": [
        "#국가별 콘텐츠 개수\n",
        "\"\"\"각 플랫폼 별로 시각화=[아마존프라임비디오,디즈니+,웨이브,넷플릭스,쿠팡플레이,왓챠,seezn,티빙]만\n",
        "라프텔은 99퍼가 애니메이션이라 제외\n",
        "appletv와 네이버시리즈온은 데이터 양이 적어 제외시킴\"\"\"\n",
        "\n",
        "#라이브러리 호출\n",
        "import plotly.graph_objects as go\n",
        "from plotly.subplots import make_subplots\n",
        "\n",
        "ama=df4_1.loc[df4_1['provider'].str.contains('아마존프라임비디오')]\n",
        "di=df4_1.loc[df4_1['provider'].str.contains('디즈니+')]\n",
        "wave=df4_1.loc[df4_1['provider'].str.contains('웨이브')]\n",
        "net=df4_1.loc[df4_1['provider'].str.contains('넷플릭스')]\n",
        "coo=df4_1.loc[df4_1['provider'].str.contains('쿠팡플레이')]\n",
        "wat=df4_1.loc[df4_1['provider'].str.contains('왓챠')]\n",
        "see=df4_1.loc[df4_1['provider'].str.contains('seezn')]\n",
        "ti=df4_1.loc[df4_1['provider'].str.contains('티빙')]\n",
        "\n",
        "# 서브플롯\n",
        "specs = [[{'type':'domain'}, {'type':'domain'},{'type':'domain'}, {'type':'domain'}],[{'type':'domain'}, {'type':'domain'},{'type':'domain'}, {'type':'domain'}]]\n",
        "fig = make_subplots(rows=2, cols=4, specs=specs)\n",
        "\n",
        "fig.add_trace(go.Pie(labels=ama['국가'], values=ama['count'], name=\"아마존\"),1, 1)\n",
        "fig.add_trace(go.Pie(labels=di['국가'], values=di['count'], name=\"디즈니+\"),1, 2)\n",
        "fig.add_trace(go.Pie(labels=wave['국가'], values=wave['count'], name=\"웨이브\"),1, 3)\n",
        "fig.add_trace(go.Pie(labels=net['국가'], values=net['count'], name=\"넷플릭스\"),1, 4)\n",
        "fig.add_trace(go.Pie(labels=coo['국가'], values=coo['count'], name=\"쿠팡플레이\"),2, 1)\n",
        "fig.add_trace(go.Pie(labels=wat['국가'], values=wat['count'], name=\"왓챠\"),2, 2)\n",
        "fig.add_trace(go.Pie(labels=see['국가'], values=see['count'], name=\"seezn\"),2, 3)\n",
        "fig.add_trace(go.Pie(labels=ti['국가'], values=ti['count'], name=\"티빙\"),2, 4)\n",
        "\n",
        "#도넛모양으로 만들기\n",
        "fig.update_traces(hole=.4, hoverinfo=\"label+percent+name\",textinfo='none')\n",
        "\n",
        "fig.update_layout(\n",
        "    title_text='장르별 분류',\n",
        "    # Add annotations in the center of the donut pies.\n",
        "    annotations=[dict(text='아마존', x=0.09, y=0.8, font_size=11, showarrow=False),\n",
        "                 dict(text='디즈니+', x=0.371, y=0.8, font_size=11, showarrow=False),\n",
        "                 dict(text='웨이브', x=0.63, y=0.8, font_size=11, showarrow=False),\n",
        "                 dict(text='넷플릭스', x=0.914, y=0.8, font_size=11, showarrow=False),\n",
        "                 dict(text='쿠팡', x=0.09, y=0.19, font_size=11, showarrow=False),\n",
        "                 dict(text='왓챠', x=0.371, y=0.19, font_size=11, showarrow=False),\n",
        "                 dict(text='seezn', x=0.63, y=0.19, font_size=11, showarrow=False),\n",
        "                 dict(text='티빙', x=0.914, y=0.19, font_size=11, showarrow=False)])\n",
        "fig = go.Figure(fig)\n",
        "fig.show()"
      ],
      "metadata": {
        "colab": {
          "base_uri": "https://localhost:8080/",
          "height": 542
        },
        "id": "nmJ7Ujn81PjY",
        "outputId": "7aa3fd49-cb69-4d96-8084-13f768e3f0d8"
      },
      "execution_count": 47,
      "outputs": [
        {
          "output_type": "display_data",
          "data": {
            "text/html": [
              "<html>\n",
              "<head><meta charset=\"utf-8\" /></head>\n",
              "<body>\n",
              "    <div>\n",
              "            <script src=\"https://cdnjs.cloudflare.com/ajax/libs/mathjax/2.7.5/MathJax.js?config=TeX-AMS-MML_SVG\"></script><script type=\"text/javascript\">if (window.MathJax) {MathJax.Hub.Config({SVG: {font: \"STIX-Web\"}});}</script>\n",
              "                <script type=\"text/javascript\">window.PlotlyConfig = {MathJaxConfig: 'local'};</script>\n",
              "        <script src=\"https://cdn.plot.ly/plotly-latest.min.js\"></script>    \n",
              "            <div id=\"2e387bfc-2617-44b0-9bc9-dbf2b1dfb85b\" class=\"plotly-graph-div\" style=\"height:525px; width:100%;\"></div>\n",
              "            <script type=\"text/javascript\">\n",
              "                \n",
              "                    window.PLOTLYENV=window.PLOTLYENV || {};\n",
              "                    \n",
              "                if (document.getElementById(\"2e387bfc-2617-44b0-9bc9-dbf2b1dfb85b\")) {\n",
              "                    Plotly.newPlot(\n",
              "                        '2e387bfc-2617-44b0-9bc9-dbf2b1dfb85b',\n",
              "                        [{\"domain\": {\"x\": [0.0, 0.2125], \"y\": [0.575, 1.0]}, \"hole\": 0.4, \"hoverinfo\": \"label+percent+name\", \"labels\": [\"\\ub178\\ub974\\uc6e8\\uc774\", \"\\ub300\\ub9cc\", \"\\uc77c\\ubcf8\", \"\\uc601\\uad6d\", \"\\ubca8\\uae30\\uc5d0\", \"\\uc544\\ub974\\ud5e8\\ud2f0\\ub098\", \"\\ud06c\\ub85c\\uc544\\ud2f0\\uc544\", \"\\uacfc\\ud14c\\ub9d0\\ub77c\", \"\\uc2a4\\ud398\\uc778\", \"\\ub3c5\\uc77c\", \"\\uc138\\ub124\\uac08\", \"\\ud504\\ub791\\uc2a4\", \"\\ud64d\\ucf69\", \"\\uc2a4\\uc6e8\\ub374\", \"\\ube0c\\ub77c\\uc9c8\", \"\\ub7ec\\uc2dc\\uc544\", \"\\ub124\\ub35c\\ub780\\ub4dc\", \"\\uc774\\ud0c8\\ub9ac\\uc544\", \"\\uc2a4\\uc704\\uc2a4\", \"\\ud130\\ud0a4\", \"\\uadf8\\ub9ac\\uc2a4\", \"\\ub808\\ubc14\\ub17c\", \"\\ub8e8\\ub9c8\\ub2c8\\uc544\", \"\\uce60\\ub808\", \"\\ud3f4\\ub780\\ub4dc\", \"\\ub0a8\\uc544\\ud504\\ub9ac\\uce74\\uacf5\\ud654\\uad6d\", \"\\uc624\\uc2a4\\ud2b8\\ub9ac\\uc544\", \"\\ud3ec\\ub974\\ud22c\\uac08\", \"\\uba55\\uc2dc\\ucf54\", \"\\uc774\\uc2a4\\ub77c\\uc5d8\", \"\\uc774\\uc9d1\\ud2b8\", \"\\ucf5c\\ub86c\\ube44\\uc544\", \"\\uc544\\uc774\\uc2ac\\ub780\\ub4dc\", \"\\ub374\\ub9c8\\ud06c\", \"\\uc544\\uc77c\\ub79c\\ub4dc\", \"\\ub8e9\\uc148\\ubd80\\ub974\\ud06c\", \"\\ub9d0\\ub808\\uc774\\uc2dc\\uc544\", \"\\ub098\\uc774\\uc9c0\\ub9ac\\uc544\", \"\\ubbf8\\uad6d\", \"\\uc2f1\\uac00\\ud3ec\\ub974\", \"\\ubca0\\ud2b8\\ub0a8\", \"\\ud544\\ub9ac\\ud540\", \"\\ub274\\uc9c8\\ub79c\\ub4dc\", \"\\uccb4\\ucf54\", \"\\uc0ac\\uc6b0\\ub514\\uc544\\ub77c\\ube44\\uc544\", \"\\uc778\\ub3c4\", \"\\ud638\\uc8fc\", \"\\uce90\\ub098\\ub2e4\", \"\\uc694\\ub974\\ub2e8\", \"\\ud55c\\uad6d\", \"\\ud540\\ub780\\ub4dc\", \"\\uc6b0\\ud06c\\ub77c\\uc774\\ub098\", \"\\uc544\\ub78d\\uc5d0\\ubbf8\\ub9ac\\ud2b8\\uc5f0\\ud569\", \"\\ud0a4\\uc988\", \"\\ubd81\\ud55c\", \"\\ud5dd\\uac00\\ub9ac\", \"\\ud0dc\\uad6d\", \"\\uc911\\uad6d\"], \"name\": \"\\uc544\\ub9c8\\uc874\", \"textinfo\": \"none\", \"type\": \"pie\", \"values\": [0, 0, 41, 15, 1, 1, 0, 0, 4, 0, 0, 3, 0, 0, 0, 0, 2, 0, 0, 0, 0, 0, 0, 1, 0, 0, 0, 0, 8, 0, 0, 0, 0, 0, 0, 0, 0, 0, 187, 0, 0, 0, 0, 0, 0, 24, 1, 15, 0, 0, 0, 0, 0, 0, 0, 0, 0, 0]}, {\"domain\": {\"x\": [0.2625, 0.475], \"y\": [0.575, 1.0]}, \"hole\": 0.4, \"hoverinfo\": \"label+percent+name\", \"labels\": [\"\\ub178\\ub974\\uc6e8\\uc774\", \"\\ub300\\ub9cc\", \"\\uc77c\\ubcf8\", \"\\uc601\\uad6d\", \"\\ubca8\\uae30\\uc5d0\", \"\\uc544\\ub974\\ud5e8\\ud2f0\\ub098\", \"\\ud06c\\ub85c\\uc544\\ud2f0\\uc544\", \"\\uacfc\\ud14c\\ub9d0\\ub77c\", \"\\uc2a4\\ud398\\uc778\", \"\\ub3c5\\uc77c\", \"\\uc138\\ub124\\uac08\", \"\\ud504\\ub791\\uc2a4\", \"\\ud64d\\ucf69\", \"\\uc2a4\\uc6e8\\ub374\", \"\\ube0c\\ub77c\\uc9c8\", \"\\ub7ec\\uc2dc\\uc544\", \"\\ub124\\ub35c\\ub780\\ub4dc\", \"\\uc774\\ud0c8\\ub9ac\\uc544\", \"\\uc2a4\\uc704\\uc2a4\", \"\\ud130\\ud0a4\", \"\\uadf8\\ub9ac\\uc2a4\", \"\\ub808\\ubc14\\ub17c\", \"\\ub8e8\\ub9c8\\ub2c8\\uc544\", \"\\uce60\\ub808\", \"\\ud3f4\\ub780\\ub4dc\", \"\\ub0a8\\uc544\\ud504\\ub9ac\\uce74\\uacf5\\ud654\\uad6d\", \"\\uc624\\uc2a4\\ud2b8\\ub9ac\\uc544\", \"\\ud3ec\\ub974\\ud22c\\uac08\", \"\\uba55\\uc2dc\\ucf54\", \"\\uc774\\uc2a4\\ub77c\\uc5d8\", \"\\uc774\\uc9d1\\ud2b8\", \"\\ucf5c\\ub86c\\ube44\\uc544\", \"\\uc544\\uc774\\uc2ac\\ub780\\ub4dc\", \"\\ub374\\ub9c8\\ud06c\", \"\\uc544\\uc77c\\ub79c\\ub4dc\", \"\\ub8e9\\uc148\\ubd80\\ub974\\ud06c\", \"\\ub9d0\\ub808\\uc774\\uc2dc\\uc544\", \"\\ub098\\uc774\\uc9c0\\ub9ac\\uc544\", \"\\ubbf8\\uad6d\", \"\\uc2f1\\uac00\\ud3ec\\ub974\", \"\\ubca0\\ud2b8\\ub0a8\", \"\\ud544\\ub9ac\\ud540\", \"\\ub274\\uc9c8\\ub79c\\ub4dc\", \"\\uccb4\\ucf54\", \"\\uc0ac\\uc6b0\\ub514\\uc544\\ub77c\\ube44\\uc544\", \"\\uc778\\ub3c4\", \"\\ud638\\uc8fc\", \"\\uce90\\ub098\\ub2e4\", \"\\uc694\\ub974\\ub2e8\", \"\\ud55c\\uad6d\", \"\\ud540\\ub780\\ub4dc\", \"\\uc6b0\\ud06c\\ub77c\\uc774\\ub098\", \"\\uc544\\ub78d\\uc5d0\\ubbf8\\ub9ac\\ud2b8\\uc5f0\\ud569\", \"\\ud0a4\\uc988\", \"\\ubd81\\ud55c\", \"\\ud5dd\\uac00\\ub9ac\", \"\\ud0dc\\uad6d\", \"\\uc911\\uad6d\"], \"name\": \"\\ub514\\uc988\\ub2c8+\", \"textinfo\": \"none\", \"type\": \"pie\", \"values\": [0, 0, 5, 31, 0, 2, 0, 1, 1, 1, 0, 5, 0, 0, 0, 0, 0, 0, 0, 0, 0, 0, 0, 0, 0, 0, 0, 0, 2, 0, 0, 0, 0, 0, 4, 0, 0, 0, 658, 0, 0, 0, 3, 0, 0, 0, 7, 31, 0, 24, 0, 0, 0, 0, 0, 0, 0, 2]}, {\"domain\": {\"x\": [0.525, 0.7375], \"y\": [0.575, 1.0]}, \"hole\": 0.4, \"hoverinfo\": \"label+percent+name\", \"labels\": [\"\\ub178\\ub974\\uc6e8\\uc774\", \"\\ub300\\ub9cc\", \"\\uc77c\\ubcf8\", \"\\uc601\\uad6d\", \"\\ubca8\\uae30\\uc5d0\", \"\\uc544\\ub974\\ud5e8\\ud2f0\\ub098\", \"\\ud06c\\ub85c\\uc544\\ud2f0\\uc544\", \"\\uacfc\\ud14c\\ub9d0\\ub77c\", \"\\uc2a4\\ud398\\uc778\", \"\\ub3c5\\uc77c\", \"\\uc138\\ub124\\uac08\", \"\\ud504\\ub791\\uc2a4\", \"\\ud64d\\ucf69\", \"\\uc2a4\\uc6e8\\ub374\", \"\\ube0c\\ub77c\\uc9c8\", \"\\ub7ec\\uc2dc\\uc544\", \"\\ub124\\ub35c\\ub780\\ub4dc\", \"\\uc774\\ud0c8\\ub9ac\\uc544\", \"\\uc2a4\\uc704\\uc2a4\", \"\\ud130\\ud0a4\", \"\\uadf8\\ub9ac\\uc2a4\", \"\\ub808\\ubc14\\ub17c\", \"\\ub8e8\\ub9c8\\ub2c8\\uc544\", \"\\uce60\\ub808\", \"\\ud3f4\\ub780\\ub4dc\", \"\\ub0a8\\uc544\\ud504\\ub9ac\\uce74\\uacf5\\ud654\\uad6d\", \"\\uc624\\uc2a4\\ud2b8\\ub9ac\\uc544\", \"\\ud3ec\\ub974\\ud22c\\uac08\", \"\\uba55\\uc2dc\\ucf54\", \"\\uc774\\uc2a4\\ub77c\\uc5d8\", \"\\uc774\\uc9d1\\ud2b8\", \"\\ucf5c\\ub86c\\ube44\\uc544\", \"\\uc544\\uc774\\uc2ac\\ub780\\ub4dc\", \"\\ub374\\ub9c8\\ud06c\", \"\\uc544\\uc77c\\ub79c\\ub4dc\", \"\\ub8e9\\uc148\\ubd80\\ub974\\ud06c\", \"\\ub9d0\\ub808\\uc774\\uc2dc\\uc544\", \"\\ub098\\uc774\\uc9c0\\ub9ac\\uc544\", \"\\ubbf8\\uad6d\", \"\\uc2f1\\uac00\\ud3ec\\ub974\", \"\\ubca0\\ud2b8\\ub0a8\", \"\\ud544\\ub9ac\\ud540\", \"\\ub274\\uc9c8\\ub79c\\ub4dc\", \"\\uccb4\\ucf54\", \"\\uc0ac\\uc6b0\\ub514\\uc544\\ub77c\\ube44\\uc544\", \"\\uc778\\ub3c4\", \"\\ud638\\uc8fc\", \"\\uce90\\ub098\\ub2e4\", \"\\uc694\\ub974\\ub2e8\", \"\\ud55c\\uad6d\", \"\\ud540\\ub780\\ub4dc\", \"\\uc6b0\\ud06c\\ub77c\\uc774\\ub098\", \"\\uc544\\ub78d\\uc5d0\\ubbf8\\ub9ac\\ud2b8\\uc5f0\\ud569\", \"\\ud0a4\\uc988\", \"\\ubd81\\ud55c\", \"\\ud5dd\\uac00\\ub9ac\", \"\\ud0dc\\uad6d\", \"\\uc911\\uad6d\"], \"name\": \"\\uc6e8\\uc774\\ube0c\", \"textinfo\": \"none\", \"type\": \"pie\", \"values\": [0, 57, 1173, 276, 5, 0, 0, 0, 6, 6, 0, 8, 11, 1, 7, 13, 1, 17, 0, 5, 0, 0, 0, 0, 0, 0, 2, 0, 2, 0, 0, 0, 1, 2, 5, 0, 0, 0, 397, 0, 0, 1, 1, 2, 0, 0, 8, 54, 0, 1671, 1, 5, 0, 0, 0, 1, 9, 454]}, {\"domain\": {\"x\": [0.7875, 1.0], \"y\": [0.575, 1.0]}, \"hole\": 0.4, \"hoverinfo\": \"label+percent+name\", \"labels\": [\"\\ub178\\ub974\\uc6e8\\uc774\", \"\\ub300\\ub9cc\", \"\\uc77c\\ubcf8\", \"\\uc601\\uad6d\", \"\\ubca8\\uae30\\uc5d0\", \"\\uc544\\ub974\\ud5e8\\ud2f0\\ub098\", \"\\ud06c\\ub85c\\uc544\\ud2f0\\uc544\", \"\\uacfc\\ud14c\\ub9d0\\ub77c\", \"\\uc2a4\\ud398\\uc778\", \"\\ub3c5\\uc77c\", \"\\uc138\\ub124\\uac08\", \"\\ud504\\ub791\\uc2a4\", \"\\ud64d\\ucf69\", \"\\uc2a4\\uc6e8\\ub374\", \"\\ube0c\\ub77c\\uc9c8\", \"\\ub7ec\\uc2dc\\uc544\", \"\\ub124\\ub35c\\ub780\\ub4dc\", \"\\uc774\\ud0c8\\ub9ac\\uc544\", \"\\uc2a4\\uc704\\uc2a4\", \"\\ud130\\ud0a4\", \"\\uadf8\\ub9ac\\uc2a4\", \"\\ub808\\ubc14\\ub17c\", \"\\ub8e8\\ub9c8\\ub2c8\\uc544\", \"\\uce60\\ub808\", \"\\ud3f4\\ub780\\ub4dc\", \"\\ub0a8\\uc544\\ud504\\ub9ac\\uce74\\uacf5\\ud654\\uad6d\", \"\\uc624\\uc2a4\\ud2b8\\ub9ac\\uc544\", \"\\ud3ec\\ub974\\ud22c\\uac08\", \"\\uba55\\uc2dc\\ucf54\", \"\\uc774\\uc2a4\\ub77c\\uc5d8\", \"\\uc774\\uc9d1\\ud2b8\", \"\\ucf5c\\ub86c\\ube44\\uc544\", \"\\uc544\\uc774\\uc2ac\\ub780\\ub4dc\", \"\\ub374\\ub9c8\\ud06c\", \"\\uc544\\uc77c\\ub79c\\ub4dc\", \"\\ub8e9\\uc148\\ubd80\\ub974\\ud06c\", \"\\ub9d0\\ub808\\uc774\\uc2dc\\uc544\", \"\\ub098\\uc774\\uc9c0\\ub9ac\\uc544\", \"\\ubbf8\\uad6d\", \"\\uc2f1\\uac00\\ud3ec\\ub974\", \"\\ubca0\\ud2b8\\ub0a8\", \"\\ud544\\ub9ac\\ud540\", \"\\ub274\\uc9c8\\ub79c\\ub4dc\", \"\\uccb4\\ucf54\", \"\\uc0ac\\uc6b0\\ub514\\uc544\\ub77c\\ube44\\uc544\", \"\\uc778\\ub3c4\", \"\\ud638\\uc8fc\", \"\\uce90\\ub098\\ub2e4\", \"\\uc694\\ub974\\ub2e8\", \"\\ud55c\\uad6d\", \"\\ud540\\ub780\\ub4dc\", \"\\uc6b0\\ud06c\\ub77c\\uc774\\ub098\", \"\\uc544\\ub78d\\uc5d0\\ubbf8\\ub9ac\\ud2b8\\uc5f0\\ud569\", \"\\ud0a4\\uc988\", \"\\ubd81\\ud55c\", \"\\ud5dd\\uac00\\ub9ac\", \"\\ud0dc\\uad6d\", \"\\uc911\\uad6d\"], \"name\": \"\\ub137\\ud50c\\ub9ad\\uc2a4\", \"textinfo\": \"none\", \"type\": \"pie\", \"values\": [16, 42, 351, 198, 12, 7, 2, 0, 79, 46, 1, 66, 4, 10, 35, 8, 6, 26, 0, 20, 0, 2, 0, 1, 14, 8, 1, 1, 52, 11, 2, 11, 4, 23, 8, 2, 5, 1, 1543, 5, 3, 2, 4, 2, 6, 50, 67, 147, 2, 319, 7, 0, 1, 7, 0, 0, 35, 62]}, {\"domain\": {\"x\": [0.0, 0.2125], \"y\": [0.0, 0.425]}, \"hole\": 0.4, \"hoverinfo\": \"label+percent+name\", \"labels\": [\"\\ub178\\ub974\\uc6e8\\uc774\", \"\\ub300\\ub9cc\", \"\\uc77c\\ubcf8\", \"\\uc601\\uad6d\", \"\\ubca8\\uae30\\uc5d0\", \"\\uc544\\ub974\\ud5e8\\ud2f0\\ub098\", \"\\ud06c\\ub85c\\uc544\\ud2f0\\uc544\", \"\\uacfc\\ud14c\\ub9d0\\ub77c\", \"\\uc2a4\\ud398\\uc778\", \"\\ub3c5\\uc77c\", \"\\uc138\\ub124\\uac08\", \"\\ud504\\ub791\\uc2a4\", \"\\ud64d\\ucf69\", \"\\uc2a4\\uc6e8\\ub374\", \"\\ube0c\\ub77c\\uc9c8\", \"\\ub7ec\\uc2dc\\uc544\", \"\\ub124\\ub35c\\ub780\\ub4dc\", \"\\uc774\\ud0c8\\ub9ac\\uc544\", \"\\uc2a4\\uc704\\uc2a4\", \"\\ud130\\ud0a4\", \"\\uadf8\\ub9ac\\uc2a4\", \"\\ub808\\ubc14\\ub17c\", \"\\ub8e8\\ub9c8\\ub2c8\\uc544\", \"\\uce60\\ub808\", \"\\ud3f4\\ub780\\ub4dc\", \"\\ub0a8\\uc544\\ud504\\ub9ac\\uce74\\uacf5\\ud654\\uad6d\", \"\\uc624\\uc2a4\\ud2b8\\ub9ac\\uc544\", \"\\ud3ec\\ub974\\ud22c\\uac08\", \"\\uba55\\uc2dc\\ucf54\", \"\\uc774\\uc2a4\\ub77c\\uc5d8\", \"\\uc774\\uc9d1\\ud2b8\", \"\\ucf5c\\ub86c\\ube44\\uc544\", \"\\uc544\\uc774\\uc2ac\\ub780\\ub4dc\", \"\\ub374\\ub9c8\\ud06c\", \"\\uc544\\uc77c\\ub79c\\ub4dc\", \"\\ub8e9\\uc148\\ubd80\\ub974\\ud06c\", \"\\ub9d0\\ub808\\uc774\\uc2dc\\uc544\", \"\\ub098\\uc774\\uc9c0\\ub9ac\\uc544\", \"\\ubbf8\\uad6d\", \"\\uc2f1\\uac00\\ud3ec\\ub974\", \"\\ubca0\\ud2b8\\ub0a8\", \"\\ud544\\ub9ac\\ud540\", \"\\ub274\\uc9c8\\ub79c\\ub4dc\", \"\\uccb4\\ucf54\", \"\\uc0ac\\uc6b0\\ub514\\uc544\\ub77c\\ube44\\uc544\", \"\\uc778\\ub3c4\", \"\\ud638\\uc8fc\", \"\\uce90\\ub098\\ub2e4\", \"\\uc694\\ub974\\ub2e8\", \"\\ud55c\\uad6d\", \"\\ud540\\ub780\\ub4dc\", \"\\uc6b0\\ud06c\\ub77c\\uc774\\ub098\", \"\\uc544\\ub78d\\uc5d0\\ubbf8\\ub9ac\\ud2b8\\uc5f0\\ud569\", \"\\ud0a4\\uc988\", \"\\ubd81\\ud55c\", \"\\ud5dd\\uac00\\ub9ac\", \"\\ud0dc\\uad6d\", \"\\uc911\\uad6d\"], \"name\": \"\\ucfe0\\ud321\\ud50c\\ub808\\uc774\", \"textinfo\": \"none\", \"type\": \"pie\", \"values\": [0, 2, 83, 101, 0, 0, 0, 0, 0, 0, 0, 2, 1, 0, 0, 0, 0, 0, 0, 0, 0, 0, 0, 0, 0, 0, 0, 0, 0, 0, 0, 0, 0, 0, 0, 0, 0, 0, 129, 0, 0, 0, 0, 0, 0, 0, 0, 18, 0, 251, 0, 0, 0, 3, 0, 0, 0, 31]}, {\"domain\": {\"x\": [0.2625, 0.475], \"y\": [0.0, 0.425]}, \"hole\": 0.4, \"hoverinfo\": \"label+percent+name\", \"labels\": [\"\\ub178\\ub974\\uc6e8\\uc774\", \"\\ub300\\ub9cc\", \"\\uc77c\\ubcf8\", \"\\uc601\\uad6d\", \"\\ubca8\\uae30\\uc5d0\", \"\\uc544\\ub974\\ud5e8\\ud2f0\\ub098\", \"\\ud06c\\ub85c\\uc544\\ud2f0\\uc544\", \"\\uacfc\\ud14c\\ub9d0\\ub77c\", \"\\uc2a4\\ud398\\uc778\", \"\\ub3c5\\uc77c\", \"\\uc138\\ub124\\uac08\", \"\\ud504\\ub791\\uc2a4\", \"\\ud64d\\ucf69\", \"\\uc2a4\\uc6e8\\ub374\", \"\\ube0c\\ub77c\\uc9c8\", \"\\ub7ec\\uc2dc\\uc544\", \"\\ub124\\ub35c\\ub780\\ub4dc\", \"\\uc774\\ud0c8\\ub9ac\\uc544\", \"\\uc2a4\\uc704\\uc2a4\", \"\\ud130\\ud0a4\", \"\\uadf8\\ub9ac\\uc2a4\", \"\\ub808\\ubc14\\ub17c\", \"\\ub8e8\\ub9c8\\ub2c8\\uc544\", \"\\uce60\\ub808\", \"\\ud3f4\\ub780\\ub4dc\", \"\\ub0a8\\uc544\\ud504\\ub9ac\\uce74\\uacf5\\ud654\\uad6d\", \"\\uc624\\uc2a4\\ud2b8\\ub9ac\\uc544\", \"\\ud3ec\\ub974\\ud22c\\uac08\", \"\\uba55\\uc2dc\\ucf54\", \"\\uc774\\uc2a4\\ub77c\\uc5d8\", \"\\uc774\\uc9d1\\ud2b8\", \"\\ucf5c\\ub86c\\ube44\\uc544\", \"\\uc544\\uc774\\uc2ac\\ub780\\ub4dc\", \"\\ub374\\ub9c8\\ud06c\", \"\\uc544\\uc77c\\ub79c\\ub4dc\", \"\\ub8e9\\uc148\\ubd80\\ub974\\ud06c\", \"\\ub9d0\\ub808\\uc774\\uc2dc\\uc544\", \"\\ub098\\uc774\\uc9c0\\ub9ac\\uc544\", \"\\ubbf8\\uad6d\", \"\\uc2f1\\uac00\\ud3ec\\ub974\", \"\\ubca0\\ud2b8\\ub0a8\", \"\\ud544\\ub9ac\\ud540\", \"\\ub274\\uc9c8\\ub79c\\ub4dc\", \"\\uccb4\\ucf54\", \"\\uc0ac\\uc6b0\\ub514\\uc544\\ub77c\\ube44\\uc544\", \"\\uc778\\ub3c4\", \"\\ud638\\uc8fc\", \"\\uce90\\ub098\\ub2e4\", \"\\uc694\\ub974\\ub2e8\", \"\\ud55c\\uad6d\", \"\\ud540\\ub780\\ub4dc\", \"\\uc6b0\\ud06c\\ub77c\\uc774\\ub098\", \"\\uc544\\ub78d\\uc5d0\\ubbf8\\ub9ac\\ud2b8\\uc5f0\\ud569\", \"\\ud0a4\\uc988\", \"\\ubd81\\ud55c\", \"\\ud5dd\\uac00\\ub9ac\", \"\\ud0dc\\uad6d\", \"\\uc911\\uad6d\"], \"name\": \"\\uc653\\ucc60\", \"textinfo\": \"none\", \"type\": \"pie\", \"values\": [1, 64, 1219, 237, 4, 1, 0, 0, 5, 4, 0, 14, 10, 0, 0, 15, 1, 16, 0, 5, 0, 0, 0, 0, 0, 0, 1, 0, 1, 0, 0, 0, 0, 2, 4, 0, 0, 0, 349, 0, 0, 0, 2, 0, 0, 0, 12, 42, 0, 1719, 11, 7, 0, 11, 0, 1, 10, 429]}, {\"domain\": {\"x\": [0.525, 0.7375], \"y\": [0.0, 0.425]}, \"hole\": 0.4, \"hoverinfo\": \"label+percent+name\", \"labels\": [\"\\ub178\\ub974\\uc6e8\\uc774\", \"\\ub300\\ub9cc\", \"\\uc77c\\ubcf8\", \"\\uc601\\uad6d\", \"\\ubca8\\uae30\\uc5d0\", \"\\uc544\\ub974\\ud5e8\\ud2f0\\ub098\", \"\\ud06c\\ub85c\\uc544\\ud2f0\\uc544\", \"\\uacfc\\ud14c\\ub9d0\\ub77c\", \"\\uc2a4\\ud398\\uc778\", \"\\ub3c5\\uc77c\", \"\\uc138\\ub124\\uac08\", \"\\ud504\\ub791\\uc2a4\", \"\\ud64d\\ucf69\", \"\\uc2a4\\uc6e8\\ub374\", \"\\ube0c\\ub77c\\uc9c8\", \"\\ub7ec\\uc2dc\\uc544\", \"\\ub124\\ub35c\\ub780\\ub4dc\", \"\\uc774\\ud0c8\\ub9ac\\uc544\", \"\\uc2a4\\uc704\\uc2a4\", \"\\ud130\\ud0a4\", \"\\uadf8\\ub9ac\\uc2a4\", \"\\ub808\\ubc14\\ub17c\", \"\\ub8e8\\ub9c8\\ub2c8\\uc544\", \"\\uce60\\ub808\", \"\\ud3f4\\ub780\\ub4dc\", \"\\ub0a8\\uc544\\ud504\\ub9ac\\uce74\\uacf5\\ud654\\uad6d\", \"\\uc624\\uc2a4\\ud2b8\\ub9ac\\uc544\", \"\\ud3ec\\ub974\\ud22c\\uac08\", \"\\uba55\\uc2dc\\ucf54\", \"\\uc774\\uc2a4\\ub77c\\uc5d8\", \"\\uc774\\uc9d1\\ud2b8\", \"\\ucf5c\\ub86c\\ube44\\uc544\", \"\\uc544\\uc774\\uc2ac\\ub780\\ub4dc\", \"\\ub374\\ub9c8\\ud06c\", \"\\uc544\\uc77c\\ub79c\\ub4dc\", \"\\ub8e9\\uc148\\ubd80\\ub974\\ud06c\", \"\\ub9d0\\ub808\\uc774\\uc2dc\\uc544\", \"\\ub098\\uc774\\uc9c0\\ub9ac\\uc544\", \"\\ubbf8\\uad6d\", \"\\uc2f1\\uac00\\ud3ec\\ub974\", \"\\ubca0\\ud2b8\\ub0a8\", \"\\ud544\\ub9ac\\ud540\", \"\\ub274\\uc9c8\\ub79c\\ub4dc\", \"\\uccb4\\ucf54\", \"\\uc0ac\\uc6b0\\ub514\\uc544\\ub77c\\ube44\\uc544\", \"\\uc778\\ub3c4\", \"\\ud638\\uc8fc\", \"\\uce90\\ub098\\ub2e4\", \"\\uc694\\ub974\\ub2e8\", \"\\ud55c\\uad6d\", \"\\ud540\\ub780\\ub4dc\", \"\\uc6b0\\ud06c\\ub77c\\uc774\\ub098\", \"\\uc544\\ub78d\\uc5d0\\ubbf8\\ub9ac\\ud2b8\\uc5f0\\ud569\", \"\\ud0a4\\uc988\", \"\\ubd81\\ud55c\", \"\\ud5dd\\uac00\\ub9ac\", \"\\ud0dc\\uad6d\", \"\\uc911\\uad6d\"], \"name\": \"seezn\", \"textinfo\": \"none\", \"type\": \"pie\", \"values\": [0, 7, 32, 29, 2, 0, 0, 0, 3, 0, 0, 0, 0, 0, 0, 0, 0, 0, 0, 1, 0, 0, 0, 0, 0, 0, 0, 0, 0, 0, 0, 0, 0, 0, 0, 0, 0, 0, 6, 0, 0, 0, 0, 0, 0, 0, 1, 2, 0, 278, 0, 1, 0, 0, 0, 0, 0, 53]}, {\"domain\": {\"x\": [0.7875, 1.0], \"y\": [0.0, 0.425]}, \"hole\": 0.4, \"hoverinfo\": \"label+percent+name\", \"labels\": [\"\\ub178\\ub974\\uc6e8\\uc774\", \"\\ub300\\ub9cc\", \"\\uc77c\\ubcf8\", \"\\uc601\\uad6d\", \"\\ubca8\\uae30\\uc5d0\", \"\\uc544\\ub974\\ud5e8\\ud2f0\\ub098\", \"\\ud06c\\ub85c\\uc544\\ud2f0\\uc544\", \"\\uacfc\\ud14c\\ub9d0\\ub77c\", \"\\uc2a4\\ud398\\uc778\", \"\\ub3c5\\uc77c\", \"\\uc138\\ub124\\uac08\", \"\\ud504\\ub791\\uc2a4\", \"\\ud64d\\ucf69\", \"\\uc2a4\\uc6e8\\ub374\", \"\\ube0c\\ub77c\\uc9c8\", \"\\ub7ec\\uc2dc\\uc544\", \"\\ub124\\ub35c\\ub780\\ub4dc\", \"\\uc774\\ud0c8\\ub9ac\\uc544\", \"\\uc2a4\\uc704\\uc2a4\", \"\\ud130\\ud0a4\", \"\\uadf8\\ub9ac\\uc2a4\", \"\\ub808\\ubc14\\ub17c\", \"\\ub8e8\\ub9c8\\ub2c8\\uc544\", \"\\uce60\\ub808\", \"\\ud3f4\\ub780\\ub4dc\", \"\\ub0a8\\uc544\\ud504\\ub9ac\\uce74\\uacf5\\ud654\\uad6d\", \"\\uc624\\uc2a4\\ud2b8\\ub9ac\\uc544\", \"\\ud3ec\\ub974\\ud22c\\uac08\", \"\\uba55\\uc2dc\\ucf54\", \"\\uc774\\uc2a4\\ub77c\\uc5d8\", \"\\uc774\\uc9d1\\ud2b8\", \"\\ucf5c\\ub86c\\ube44\\uc544\", \"\\uc544\\uc774\\uc2ac\\ub780\\ub4dc\", \"\\ub374\\ub9c8\\ud06c\", \"\\uc544\\uc77c\\ub79c\\ub4dc\", \"\\ub8e9\\uc148\\ubd80\\ub974\\ud06c\", \"\\ub9d0\\ub808\\uc774\\uc2dc\\uc544\", \"\\ub098\\uc774\\uc9c0\\ub9ac\\uc544\", \"\\ubbf8\\uad6d\", \"\\uc2f1\\uac00\\ud3ec\\ub974\", \"\\ubca0\\ud2b8\\ub0a8\", \"\\ud544\\ub9ac\\ud540\", \"\\ub274\\uc9c8\\ub79c\\ub4dc\", \"\\uccb4\\ucf54\", \"\\uc0ac\\uc6b0\\ub514\\uc544\\ub77c\\ube44\\uc544\", \"\\uc778\\ub3c4\", \"\\ud638\\uc8fc\", \"\\uce90\\ub098\\ub2e4\", \"\\uc694\\ub974\\ub2e8\", \"\\ud55c\\uad6d\", \"\\ud540\\ub780\\ub4dc\", \"\\uc6b0\\ud06c\\ub77c\\uc774\\ub098\", \"\\uc544\\ub78d\\uc5d0\\ubbf8\\ub9ac\\ud2b8\\uc5f0\\ud569\", \"\\ud0a4\\uc988\", \"\\ubd81\\ud55c\", \"\\ud5dd\\uac00\\ub9ac\", \"\\ud0dc\\uad6d\", \"\\uc911\\uad6d\"], \"name\": \"\\ud2f0\\ube59\", \"textinfo\": \"none\", \"type\": \"pie\", \"values\": [0, 33, 903, 68, 3, 0, 0, 0, 7, 1, 0, 9, 5, 4, 0, 7, 1, 4, 0, 7, 0, 0, 1, 0, 0, 1, 0, 0, 1, 0, 0, 0, 0, 1, 0, 0, 0, 0, 82, 0, 0, 0, 0, 1, 0, 0, 3, 11, 0, 1858, 0, 0, 0, 1, 1, 0, 4, 432]}],\n",
              "                        {\"annotations\": [{\"font\": {\"size\": 11}, \"showarrow\": false, \"text\": \"\\uc544\\ub9c8\\uc874\", \"x\": 0.09, \"y\": 0.8}, {\"font\": {\"size\": 11}, \"showarrow\": false, \"text\": \"\\ub514\\uc988\\ub2c8+\", \"x\": 0.371, \"y\": 0.8}, {\"font\": {\"size\": 11}, \"showarrow\": false, \"text\": \"\\uc6e8\\uc774\\ube0c\", \"x\": 0.63, \"y\": 0.8}, {\"font\": {\"size\": 11}, \"showarrow\": false, \"text\": \"\\ub137\\ud50c\\ub9ad\\uc2a4\", \"x\": 0.914, \"y\": 0.8}, {\"font\": {\"size\": 11}, \"showarrow\": false, \"text\": \"\\ucfe0\\ud321\", \"x\": 0.09, \"y\": 0.19}, {\"font\": {\"size\": 11}, \"showarrow\": false, \"text\": \"\\uc653\\ucc60\", \"x\": 0.371, \"y\": 0.19}, {\"font\": {\"size\": 11}, \"showarrow\": false, \"text\": \"seezn\", \"x\": 0.63, \"y\": 0.19}, {\"font\": {\"size\": 11}, \"showarrow\": false, \"text\": \"\\ud2f0\\ube59\", \"x\": 0.914, \"y\": 0.19}], \"template\": {\"data\": {\"bar\": [{\"error_x\": {\"color\": \"#2a3f5f\"}, \"error_y\": {\"color\": \"#2a3f5f\"}, \"marker\": {\"line\": {\"color\": \"#E5ECF6\", \"width\": 0.5}}, \"type\": \"bar\"}], \"barpolar\": [{\"marker\": {\"line\": {\"color\": \"#E5ECF6\", \"width\": 0.5}}, \"type\": \"barpolar\"}], \"carpet\": [{\"aaxis\": {\"endlinecolor\": \"#2a3f5f\", \"gridcolor\": \"white\", \"linecolor\": \"white\", \"minorgridcolor\": \"white\", \"startlinecolor\": \"#2a3f5f\"}, \"baxis\": {\"endlinecolor\": \"#2a3f5f\", \"gridcolor\": \"white\", \"linecolor\": \"white\", \"minorgridcolor\": \"white\", \"startlinecolor\": \"#2a3f5f\"}, \"type\": \"carpet\"}], \"choropleth\": [{\"colorbar\": {\"outlinewidth\": 0, \"ticks\": \"\"}, \"type\": \"choropleth\"}], \"contour\": [{\"colorbar\": {\"outlinewidth\": 0, \"ticks\": \"\"}, \"colorscale\": [[0.0, \"#0d0887\"], [0.1111111111111111, \"#46039f\"], [0.2222222222222222, \"#7201a8\"], [0.3333333333333333, \"#9c179e\"], [0.4444444444444444, \"#bd3786\"], [0.5555555555555556, \"#d8576b\"], [0.6666666666666666, \"#ed7953\"], [0.7777777777777778, \"#fb9f3a\"], [0.8888888888888888, \"#fdca26\"], [1.0, \"#f0f921\"]], \"type\": \"contour\"}], \"contourcarpet\": [{\"colorbar\": {\"outlinewidth\": 0, \"ticks\": \"\"}, \"type\": \"contourcarpet\"}], \"heatmap\": [{\"colorbar\": {\"outlinewidth\": 0, \"ticks\": \"\"}, \"colorscale\": [[0.0, \"#0d0887\"], [0.1111111111111111, \"#46039f\"], [0.2222222222222222, \"#7201a8\"], [0.3333333333333333, \"#9c179e\"], [0.4444444444444444, \"#bd3786\"], [0.5555555555555556, \"#d8576b\"], [0.6666666666666666, \"#ed7953\"], [0.7777777777777778, \"#fb9f3a\"], [0.8888888888888888, \"#fdca26\"], [1.0, \"#f0f921\"]], \"type\": \"heatmap\"}], \"heatmapgl\": [{\"colorbar\": {\"outlinewidth\": 0, \"ticks\": \"\"}, \"colorscale\": [[0.0, \"#0d0887\"], [0.1111111111111111, \"#46039f\"], [0.2222222222222222, \"#7201a8\"], [0.3333333333333333, \"#9c179e\"], [0.4444444444444444, \"#bd3786\"], [0.5555555555555556, \"#d8576b\"], [0.6666666666666666, \"#ed7953\"], [0.7777777777777778, \"#fb9f3a\"], [0.8888888888888888, \"#fdca26\"], [1.0, \"#f0f921\"]], \"type\": \"heatmapgl\"}], \"histogram\": [{\"marker\": {\"colorbar\": {\"outlinewidth\": 0, \"ticks\": \"\"}}, \"type\": \"histogram\"}], \"histogram2d\": [{\"colorbar\": {\"outlinewidth\": 0, \"ticks\": \"\"}, \"colorscale\": [[0.0, \"#0d0887\"], [0.1111111111111111, \"#46039f\"], [0.2222222222222222, \"#7201a8\"], [0.3333333333333333, \"#9c179e\"], [0.4444444444444444, \"#bd3786\"], [0.5555555555555556, \"#d8576b\"], [0.6666666666666666, \"#ed7953\"], [0.7777777777777778, \"#fb9f3a\"], [0.8888888888888888, \"#fdca26\"], [1.0, \"#f0f921\"]], \"type\": \"histogram2d\"}], \"histogram2dcontour\": [{\"colorbar\": {\"outlinewidth\": 0, \"ticks\": \"\"}, \"colorscale\": [[0.0, \"#0d0887\"], [0.1111111111111111, \"#46039f\"], [0.2222222222222222, \"#7201a8\"], [0.3333333333333333, \"#9c179e\"], [0.4444444444444444, \"#bd3786\"], [0.5555555555555556, \"#d8576b\"], [0.6666666666666666, \"#ed7953\"], [0.7777777777777778, \"#fb9f3a\"], [0.8888888888888888, \"#fdca26\"], [1.0, \"#f0f921\"]], \"type\": \"histogram2dcontour\"}], \"mesh3d\": [{\"colorbar\": {\"outlinewidth\": 0, \"ticks\": \"\"}, \"type\": \"mesh3d\"}], \"parcoords\": [{\"line\": {\"colorbar\": {\"outlinewidth\": 0, \"ticks\": \"\"}}, \"type\": \"parcoords\"}], \"pie\": [{\"automargin\": true, \"type\": \"pie\"}], \"scatter\": [{\"marker\": {\"colorbar\": {\"outlinewidth\": 0, \"ticks\": \"\"}}, \"type\": \"scatter\"}], \"scatter3d\": [{\"line\": {\"colorbar\": {\"outlinewidth\": 0, \"ticks\": \"\"}}, \"marker\": {\"colorbar\": {\"outlinewidth\": 0, \"ticks\": \"\"}}, \"type\": \"scatter3d\"}], \"scattercarpet\": [{\"marker\": {\"colorbar\": {\"outlinewidth\": 0, \"ticks\": \"\"}}, \"type\": \"scattercarpet\"}], \"scattergeo\": [{\"marker\": {\"colorbar\": {\"outlinewidth\": 0, \"ticks\": \"\"}}, \"type\": \"scattergeo\"}], \"scattergl\": [{\"marker\": {\"colorbar\": {\"outlinewidth\": 0, \"ticks\": \"\"}}, \"type\": \"scattergl\"}], \"scattermapbox\": [{\"marker\": {\"colorbar\": {\"outlinewidth\": 0, \"ticks\": \"\"}}, \"type\": \"scattermapbox\"}], \"scatterpolar\": [{\"marker\": {\"colorbar\": {\"outlinewidth\": 0, \"ticks\": \"\"}}, \"type\": \"scatterpolar\"}], \"scatterpolargl\": [{\"marker\": {\"colorbar\": {\"outlinewidth\": 0, \"ticks\": \"\"}}, \"type\": \"scatterpolargl\"}], \"scatterternary\": [{\"marker\": {\"colorbar\": {\"outlinewidth\": 0, \"ticks\": \"\"}}, \"type\": \"scatterternary\"}], \"surface\": [{\"colorbar\": {\"outlinewidth\": 0, \"ticks\": \"\"}, \"colorscale\": [[0.0, \"#0d0887\"], [0.1111111111111111, \"#46039f\"], [0.2222222222222222, \"#7201a8\"], [0.3333333333333333, \"#9c179e\"], [0.4444444444444444, \"#bd3786\"], [0.5555555555555556, \"#d8576b\"], [0.6666666666666666, \"#ed7953\"], [0.7777777777777778, \"#fb9f3a\"], [0.8888888888888888, \"#fdca26\"], [1.0, \"#f0f921\"]], \"type\": \"surface\"}], \"table\": [{\"cells\": {\"fill\": {\"color\": \"#EBF0F8\"}, \"line\": {\"color\": \"white\"}}, \"header\": {\"fill\": {\"color\": \"#C8D4E3\"}, \"line\": {\"color\": \"white\"}}, \"type\": \"table\"}]}, \"layout\": {\"annotationdefaults\": {\"arrowcolor\": \"#2a3f5f\", \"arrowhead\": 0, \"arrowwidth\": 1}, \"coloraxis\": {\"colorbar\": {\"outlinewidth\": 0, \"ticks\": \"\"}}, \"colorscale\": {\"diverging\": [[0, \"#8e0152\"], [0.1, \"#c51b7d\"], [0.2, \"#de77ae\"], [0.3, \"#f1b6da\"], [0.4, \"#fde0ef\"], [0.5, \"#f7f7f7\"], [0.6, \"#e6f5d0\"], [0.7, \"#b8e186\"], [0.8, \"#7fbc41\"], [0.9, \"#4d9221\"], [1, \"#276419\"]], \"sequential\": [[0.0, \"#0d0887\"], [0.1111111111111111, \"#46039f\"], [0.2222222222222222, \"#7201a8\"], [0.3333333333333333, \"#9c179e\"], [0.4444444444444444, \"#bd3786\"], [0.5555555555555556, \"#d8576b\"], [0.6666666666666666, \"#ed7953\"], [0.7777777777777778, \"#fb9f3a\"], [0.8888888888888888, \"#fdca26\"], [1.0, \"#f0f921\"]], \"sequentialminus\": [[0.0, \"#0d0887\"], [0.1111111111111111, \"#46039f\"], [0.2222222222222222, \"#7201a8\"], [0.3333333333333333, \"#9c179e\"], [0.4444444444444444, \"#bd3786\"], [0.5555555555555556, \"#d8576b\"], [0.6666666666666666, \"#ed7953\"], [0.7777777777777778, \"#fb9f3a\"], [0.8888888888888888, \"#fdca26\"], [1.0, \"#f0f921\"]]}, \"colorway\": [\"#636efa\", \"#EF553B\", \"#00cc96\", \"#ab63fa\", \"#FFA15A\", \"#19d3f3\", \"#FF6692\", \"#B6E880\", \"#FF97FF\", \"#FECB52\"], \"font\": {\"color\": \"#2a3f5f\"}, \"geo\": {\"bgcolor\": \"white\", \"lakecolor\": \"white\", \"landcolor\": \"#E5ECF6\", \"showlakes\": true, \"showland\": true, \"subunitcolor\": \"white\"}, \"hoverlabel\": {\"align\": \"left\"}, \"hovermode\": \"closest\", \"mapbox\": {\"style\": \"light\"}, \"paper_bgcolor\": \"white\", \"plot_bgcolor\": \"#E5ECF6\", \"polar\": {\"angularaxis\": {\"gridcolor\": \"white\", \"linecolor\": \"white\", \"ticks\": \"\"}, \"bgcolor\": \"#E5ECF6\", \"radialaxis\": {\"gridcolor\": \"white\", \"linecolor\": \"white\", \"ticks\": \"\"}}, \"scene\": {\"xaxis\": {\"backgroundcolor\": \"#E5ECF6\", \"gridcolor\": \"white\", \"gridwidth\": 2, \"linecolor\": \"white\", \"showbackground\": true, \"ticks\": \"\", \"zerolinecolor\": \"white\"}, \"yaxis\": {\"backgroundcolor\": \"#E5ECF6\", \"gridcolor\": \"white\", \"gridwidth\": 2, \"linecolor\": \"white\", \"showbackground\": true, \"ticks\": \"\", \"zerolinecolor\": \"white\"}, \"zaxis\": {\"backgroundcolor\": \"#E5ECF6\", \"gridcolor\": \"white\", \"gridwidth\": 2, \"linecolor\": \"white\", \"showbackground\": true, \"ticks\": \"\", \"zerolinecolor\": \"white\"}}, \"shapedefaults\": {\"line\": {\"color\": \"#2a3f5f\"}}, \"ternary\": {\"aaxis\": {\"gridcolor\": \"white\", \"linecolor\": \"white\", \"ticks\": \"\"}, \"baxis\": {\"gridcolor\": \"white\", \"linecolor\": \"white\", \"ticks\": \"\"}, \"bgcolor\": \"#E5ECF6\", \"caxis\": {\"gridcolor\": \"white\", \"linecolor\": \"white\", \"ticks\": \"\"}}, \"title\": {\"x\": 0.05}, \"xaxis\": {\"automargin\": true, \"gridcolor\": \"white\", \"linecolor\": \"white\", \"ticks\": \"\", \"title\": {\"standoff\": 15}, \"zerolinecolor\": \"white\", \"zerolinewidth\": 2}, \"yaxis\": {\"automargin\": true, \"gridcolor\": \"white\", \"linecolor\": \"white\", \"ticks\": \"\", \"title\": {\"standoff\": 15}, \"zerolinecolor\": \"white\", \"zerolinewidth\": 2}}}, \"title\": {\"text\": \"\\uc7a5\\ub974\\ubcc4 \\ubd84\\ub958\"}},\n",
              "                        {\"responsive\": true}\n",
              "                    ).then(function(){\n",
              "                            \n",
              "var gd = document.getElementById('2e387bfc-2617-44b0-9bc9-dbf2b1dfb85b');\n",
              "var x = new MutationObserver(function (mutations, observer) {{\n",
              "        var display = window.getComputedStyle(gd).display;\n",
              "        if (!display || display === 'none') {{\n",
              "            console.log([gd, 'removed!']);\n",
              "            Plotly.purge(gd);\n",
              "            observer.disconnect();\n",
              "        }}\n",
              "}});\n",
              "\n",
              "// Listen for the removal of the full notebook cells\n",
              "var notebookContainer = gd.closest('#notebook-container');\n",
              "if (notebookContainer) {{\n",
              "    x.observe(notebookContainer, {childList: true});\n",
              "}}\n",
              "\n",
              "// Listen for the clearing of the current output cell\n",
              "var outputEl = gd.closest('.output');\n",
              "if (outputEl) {{\n",
              "    x.observe(outputEl, {childList: true});\n",
              "}}\n",
              "\n",
              "                        })\n",
              "                };\n",
              "                \n",
              "            </script>\n",
              "        </div>\n",
              "</body>\n",
              "</html>"
            ]
          },
          "metadata": {}
        }
      ]
    },
    {
      "cell_type": "markdown",
      "source": [
        "###**각 플랫폼 별 인기 장르**\n",
        "- 플랫폼 별 인기 장르(전체)\n",
        "- 영상매체 기준(애니메이션,다큐멘터리 등)\n",
        "- 장르 기준(판타지,sf등)"
      ],
      "metadata": {
        "id": "aXJfljjQiGGy"
      }
    },
    {
      "cell_type": "code",
      "source": [
        "#genre가 NaN인 항목 제거\n",
        "genre=tv_data\n",
        "print('제거 이전:',len(genre))\n",
        "country = country.dropna(subset = ['genre'], how = 'any', axis=0)\n",
        "print('제거 이후:',len(genre))"
      ],
      "metadata": {
        "colab": {
          "base_uri": "https://localhost:8080/"
        },
        "id": "fJrJKhtCs0zH",
        "outputId": "3f49bffe-fdd3-4d3f-d388-aada1647b414"
      },
      "execution_count": 48,
      "outputs": [
        {
          "output_type": "stream",
          "name": "stdout",
          "text": [
            "제거 이전: 11428\n",
            "제거 이후: 11428\n"
          ]
        }
      ]
    },
    {
      "cell_type": "code",
      "source": [
        "#데이터에 적힌 genre 목록\n",
        "genre_list=[]\n",
        "li=genre['genre'].apply(lambda x: x.split(','))\n",
        "for i in li:\n",
        "    if i not in genre_list:\n",
        "      genre_list+=i\n",
        "genre_list=list(set(genre_list))\n",
        "genre_list.remove('')\n",
        "print(genre_list)"
      ],
      "metadata": {
        "colab": {
          "base_uri": "https://localhost:8080/"
        },
        "id": "-k3Fj59QsZNB",
        "outputId": "af9226cf-4670-47b2-905e-cde0944086b6"
      },
      "execution_count": 49,
      "outputs": [
        {
          "output_type": "stream",
          "name": "stdout",
          "text": [
            "['드라마', '뮤지컬', '범죄', '서스펜스', '다큐멘터리', '서부극', '서사', '판타지', '공포', '시사/교양', '코미디', '멜로/로맨스', 'SF', '액션', '전쟁', '어드벤처', '음악', '스릴러', '애니메이션', '공연', '미스터리', '미정', '가족', '기타', '예능']\n"
          ]
        }
      ]
    },
    {
      "cell_type": "code",
      "source": [
        "#시각화 라이브러리 호출\n",
        "import plotly.express as px\n",
        "\n",
        "#신규 데이터프레임\n",
        "df5= pd.DataFrame(columns=['provider','장르','count','percent'])\n",
        "for i in provider_list:\n",
        "  d=genre.loc[genre['provider'].str.contains(i)]\n",
        "  for i2 in genre_list[1:]:\n",
        "    g=len(d[d['genre'].str.contains(i2)])\n",
        "    df5.loc[len(df5)]=[i,i2,g,g*100/len(d)]\n",
        "\n",
        "#시각화 \n",
        "fig = px.bar(df5, x=\"provider\", y=\"count\",hover_data=['percent'], color=\"장르\", title=\"플랫폼 별 인기 장르(전체)\")\n",
        "fig.show()"
      ],
      "metadata": {
        "colab": {
          "base_uri": "https://localhost:8080/",
          "height": 542
        },
        "id": "tBFfL-lpuV76",
        "outputId": "bb3150e2-904a-4265-ecb9-d7288c695aa6"
      },
      "execution_count": 50,
      "outputs": [
        {
          "output_type": "display_data",
          "data": {
            "text/html": [
              "<html>\n",
              "<head><meta charset=\"utf-8\" /></head>\n",
              "<body>\n",
              "    <div>\n",
              "            <script src=\"https://cdnjs.cloudflare.com/ajax/libs/mathjax/2.7.5/MathJax.js?config=TeX-AMS-MML_SVG\"></script><script type=\"text/javascript\">if (window.MathJax) {MathJax.Hub.Config({SVG: {font: \"STIX-Web\"}});}</script>\n",
              "                <script type=\"text/javascript\">window.PlotlyConfig = {MathJaxConfig: 'local'};</script>\n",
              "        <script src=\"https://cdn.plot.ly/plotly-latest.min.js\"></script>    \n",
              "            <div id=\"ed5cbe21-57dc-41ea-b3cf-50b969ade820\" class=\"plotly-graph-div\" style=\"height:525px; width:100%;\"></div>\n",
              "            <script type=\"text/javascript\">\n",
              "                \n",
              "                    window.PLOTLYENV=window.PLOTLYENV || {};\n",
              "                    \n",
              "                if (document.getElementById(\"ed5cbe21-57dc-41ea-b3cf-50b969ade820\")) {\n",
              "                    Plotly.newPlot(\n",
              "                        'ed5cbe21-57dc-41ea-b3cf-50b969ade820',\n",
              "                        [{\"alignmentgroup\": \"True\", \"customdata\": [[0.16806722689075632], [0.0], [0.0], [0.0], [0.0], [0.0], [0.0], [0.3053435114503817], [0.0], [0.0], [0.2777777777777778]], \"hoverlabel\": {\"namelength\": 0}, \"hovertemplate\": \"\\uc7a5\\ub974=\\ubba4\\uc9c0\\uceec<br>provider=%{x}<br>count=%{y}<br>percent=%{customdata[0]}\", \"legendgroup\": \"\\uc7a5\\ub974=\\ubba4\\uc9c0\\uceec\", \"marker\": {\"color\": \"#636efa\"}, \"name\": \"\\uc7a5\\ub974=\\ubba4\\uc9c0\\uceec\", \"offsetgroup\": \"\\uc7a5\\ub974=\\ubba4\\uc9c0\\uceec\", \"orientation\": \"v\", \"showlegend\": true, \"textposition\": \"auto\", \"type\": \"bar\", \"x\": [\"\\ucfe0\\ud321\\ud50c\\ub808\\uc774\", \"\\ud2f0\\ube59\", \"\\uc6e8\\uc774\\ube0c\", \"AppleTV+\", \"\\ub124\\uc774\\ubc84\\uc2dc\\ub9ac\\uc988\\uc628\", \"\\uc544\\ub9c8\\uc874\\ud504\\ub77c\\uc784\\ube44\\ub514\\uc624\", \"\\ub77c\\ud504\\ud154\", \"\\ub137\\ud50c\\ub9ad\\uc2a4\", \"seezn\", \"\\uc653\\ucc60\", \"\\ub514\\uc988\\ub2c8+\"], \"xaxis\": \"x\", \"y\": [1, 0, 0, 0, 0, 0, 0, 10, 0, 0, 2], \"yaxis\": \"y\"}, {\"alignmentgroup\": \"True\", \"customdata\": [[8.571428571428571], [2.2099447513812156], [5.074915418076365], [10.0], [0.0], [16.487455197132615], [0.07782101167315175], [11.297709923664122], [2.6378896882494005], [4.172731683648714], [11.38888888888889]], \"hoverlabel\": {\"namelength\": 0}, \"hovertemplate\": \"\\uc7a5\\ub974=\\ubc94\\uc8c4<br>provider=%{x}<br>count=%{y}<br>percent=%{customdata[0]}\", \"legendgroup\": \"\\uc7a5\\ub974=\\ubc94\\uc8c4\", \"marker\": {\"color\": \"#EF553B\"}, \"name\": \"\\uc7a5\\ub974=\\ubc94\\uc8c4\", \"offsetgroup\": \"\\uc7a5\\ub974=\\ubc94\\uc8c4\", \"orientation\": \"v\", \"showlegend\": true, \"textposition\": \"auto\", \"type\": \"bar\", \"x\": [\"\\ucfe0\\ud321\\ud50c\\ub808\\uc774\", \"\\ud2f0\\ube59\", \"\\uc6e8\\uc774\\ube0c\", \"AppleTV+\", \"\\ub124\\uc774\\ubc84\\uc2dc\\ub9ac\\uc988\\uc628\", \"\\uc544\\ub9c8\\uc874\\ud504\\ub77c\\uc784\\ube44\\ub514\\uc624\", \"\\ub77c\\ud504\\ud154\", \"\\ub137\\ud50c\\ub9ad\\uc2a4\", \"seezn\", \"\\uc653\\ucc60\", \"\\ub514\\uc988\\ub2c8+\"], \"xaxis\": \"x\", \"y\": [51, 76, 210, 4, 0, 46, 1, 370, 11, 172, 82], \"yaxis\": \"y\"}, {\"alignmentgroup\": \"True\", \"customdata\": [[0.33613445378151263], [0.05815644082582146], [0.04833252779120348], [0.0], [0.0], [1.075268817204301], [0.0], [0.0], [0.23980815347721823], [0.048520135856380396], [0.0]], \"hoverlabel\": {\"namelength\": 0}, \"hovertemplate\": \"\\uc7a5\\ub974=\\uc11c\\uc2a4\\ud39c\\uc2a4<br>provider=%{x}<br>count=%{y}<br>percent=%{customdata[0]}\", \"legendgroup\": \"\\uc7a5\\ub974=\\uc11c\\uc2a4\\ud39c\\uc2a4\", \"marker\": {\"color\": \"#00cc96\"}, \"name\": \"\\uc7a5\\ub974=\\uc11c\\uc2a4\\ud39c\\uc2a4\", \"offsetgroup\": \"\\uc7a5\\ub974=\\uc11c\\uc2a4\\ud39c\\uc2a4\", \"orientation\": \"v\", \"showlegend\": true, \"textposition\": \"auto\", \"type\": \"bar\", \"x\": [\"\\ucfe0\\ud321\\ud50c\\ub808\\uc774\", \"\\ud2f0\\ube59\", \"\\uc6e8\\uc774\\ube0c\", \"AppleTV+\", \"\\ub124\\uc774\\ubc84\\uc2dc\\ub9ac\\uc988\\uc628\", \"\\uc544\\ub9c8\\uc874\\ud504\\ub77c\\uc784\\ube44\\ub514\\uc624\", \"\\ub77c\\ud504\\ud154\", \"\\ub137\\ud50c\\ub9ad\\uc2a4\", \"seezn\", \"\\uc653\\ucc60\", \"\\ub514\\uc988\\ub2c8+\"], \"xaxis\": \"x\", \"y\": [2, 2, 2, 0, 0, 3, 0, 0, 1, 2, 0], \"yaxis\": \"y\"}, {\"alignmentgroup\": \"True\", \"customdata\": [[9.747899159663865], [1.3666763594068043], [0.6766553890768487], [2.5], [0.0], [6.093189964157706], [0.0], [9.221374045801527], [0.23980815347721823], [10.359049005337216], [13.61111111111111]], \"hoverlabel\": {\"namelength\": 0}, \"hovertemplate\": \"\\uc7a5\\ub974=\\ub2e4\\ud050\\uba58\\ud130\\ub9ac<br>provider=%{x}<br>count=%{y}<br>percent=%{customdata[0]}\", \"legendgroup\": \"\\uc7a5\\ub974=\\ub2e4\\ud050\\uba58\\ud130\\ub9ac\", \"marker\": {\"color\": \"#ab63fa\"}, \"name\": \"\\uc7a5\\ub974=\\ub2e4\\ud050\\uba58\\ud130\\ub9ac\", \"offsetgroup\": \"\\uc7a5\\ub974=\\ub2e4\\ud050\\uba58\\ud130\\ub9ac\", \"orientation\": \"v\", \"showlegend\": true, \"textposition\": \"auto\", \"type\": \"bar\", \"x\": [\"\\ucfe0\\ud321\\ud50c\\ub808\\uc774\", \"\\ud2f0\\ube59\", \"\\uc6e8\\uc774\\ube0c\", \"AppleTV+\", \"\\ub124\\uc774\\ubc84\\uc2dc\\ub9ac\\uc988\\uc628\", \"\\uc544\\ub9c8\\uc874\\ud504\\ub77c\\uc784\\ube44\\ub514\\uc624\", \"\\ub77c\\ud504\\ud154\", \"\\ub137\\ud50c\\ub9ad\\uc2a4\", \"seezn\", \"\\uc653\\ucc60\", \"\\ub514\\uc988\\ub2c8+\"], \"xaxis\": \"x\", \"y\": [58, 47, 28, 1, 0, 17, 0, 302, 1, 427, 98], \"yaxis\": \"y\"}, {\"alignmentgroup\": \"True\", \"customdata\": [[0.0], [0.0], [0.0], [0.0], [0.0], [0.0], [0.0], [0.030534351145038167], [0.0], [0.024260067928190198], [0.0]], \"hoverlabel\": {\"namelength\": 0}, \"hovertemplate\": \"\\uc7a5\\ub974=\\uc11c\\ubd80\\uadf9<br>provider=%{x}<br>count=%{y}<br>percent=%{customdata[0]}\", \"legendgroup\": \"\\uc7a5\\ub974=\\uc11c\\ubd80\\uadf9\", \"marker\": {\"color\": \"#FFA15A\"}, \"name\": \"\\uc7a5\\ub974=\\uc11c\\ubd80\\uadf9\", \"offsetgroup\": \"\\uc7a5\\ub974=\\uc11c\\ubd80\\uadf9\", \"orientation\": \"v\", \"showlegend\": true, \"textposition\": \"auto\", \"type\": \"bar\", \"x\": [\"\\ucfe0\\ud321\\ud50c\\ub808\\uc774\", \"\\ud2f0\\ube59\", \"\\uc6e8\\uc774\\ube0c\", \"AppleTV+\", \"\\ub124\\uc774\\ubc84\\uc2dc\\ub9ac\\uc988\\uc628\", \"\\uc544\\ub9c8\\uc874\\ud504\\ub77c\\uc784\\ube44\\ub514\\uc624\", \"\\ub77c\\ud504\\ud154\", \"\\ub137\\ud50c\\ub9ad\\uc2a4\", \"seezn\", \"\\uc653\\ucc60\", \"\\ub514\\uc988\\ub2c8+\"], \"xaxis\": \"x\", \"y\": [0, 0, 0, 0, 0, 0, 0, 1, 0, 1, 0], \"yaxis\": \"y\"}, {\"alignmentgroup\": \"True\", \"customdata\": [[0.16806722689075632], [0.37801686536783946], [0.43499275012083133], [0.0], [0.0], [0.0], [0.0], [0.0916030534351145], [0.23980815347721823], [0.38816108685104317], [0.0]], \"hoverlabel\": {\"namelength\": 0}, \"hovertemplate\": \"\\uc7a5\\ub974=\\uc11c\\uc0ac<br>provider=%{x}<br>count=%{y}<br>percent=%{customdata[0]}\", \"legendgroup\": \"\\uc7a5\\ub974=\\uc11c\\uc0ac\", \"marker\": {\"color\": \"#19d3f3\"}, \"name\": \"\\uc7a5\\ub974=\\uc11c\\uc0ac\", \"offsetgroup\": \"\\uc7a5\\ub974=\\uc11c\\uc0ac\", \"orientation\": \"v\", \"showlegend\": true, \"textposition\": \"auto\", \"type\": \"bar\", \"x\": [\"\\ucfe0\\ud321\\ud50c\\ub808\\uc774\", \"\\ud2f0\\ube59\", \"\\uc6e8\\uc774\\ube0c\", \"AppleTV+\", \"\\ub124\\uc774\\ubc84\\uc2dc\\ub9ac\\uc988\\uc628\", \"\\uc544\\ub9c8\\uc874\\ud504\\ub77c\\uc784\\ube44\\ub514\\uc624\", \"\\ub77c\\ud504\\ud154\", \"\\ub137\\ud50c\\ub9ad\\uc2a4\", \"seezn\", \"\\uc653\\ucc60\", \"\\ub514\\uc988\\ub2c8+\"], \"xaxis\": \"x\", \"y\": [1, 13, 18, 0, 0, 0, 0, 3, 1, 16, 0], \"yaxis\": \"y\"}, {\"alignmentgroup\": \"True\", \"customdata\": [[5.546218487394958], [2.3262576330328586], [3.4074432092798452], [2.5], [0.0], [9.67741935483871], [1.9455252918287937], [4.396946564885496], [3.8369304556354917], [2.8384279475982535], [4.027777777777778]], \"hoverlabel\": {\"namelength\": 0}, \"hovertemplate\": \"\\uc7a5\\ub974=\\ud310\\ud0c0\\uc9c0<br>provider=%{x}<br>count=%{y}<br>percent=%{customdata[0]}\", \"legendgroup\": \"\\uc7a5\\ub974=\\ud310\\ud0c0\\uc9c0\", \"marker\": {\"color\": \"#FF6692\"}, \"name\": \"\\uc7a5\\ub974=\\ud310\\ud0c0\\uc9c0\", \"offsetgroup\": \"\\uc7a5\\ub974=\\ud310\\ud0c0\\uc9c0\", \"orientation\": \"v\", \"showlegend\": true, \"textposition\": \"auto\", \"type\": \"bar\", \"x\": [\"\\ucfe0\\ud321\\ud50c\\ub808\\uc774\", \"\\ud2f0\\ube59\", \"\\uc6e8\\uc774\\ube0c\", \"AppleTV+\", \"\\ub124\\uc774\\ubc84\\uc2dc\\ub9ac\\uc988\\uc628\", \"\\uc544\\ub9c8\\uc874\\ud504\\ub77c\\uc784\\ube44\\ub514\\uc624\", \"\\ub77c\\ud504\\ud154\", \"\\ub137\\ud50c\\ub9ad\\uc2a4\", \"seezn\", \"\\uc653\\ucc60\", \"\\ub514\\uc988\\ub2c8+\"], \"xaxis\": \"x\", \"y\": [33, 80, 141, 1, 0, 27, 25, 144, 16, 117, 29], \"yaxis\": \"y\"}, {\"alignmentgroup\": \"True\", \"customdata\": [[1.5126050420168067], [0.08723466123873219], [0.7974867085548574], [10.0], [0.0], [7.526881720430108], [0.07782101167315175], [2.717557251908397], [0.23980815347721823], [0.6550218340611353], [3.1944444444444446]], \"hoverlabel\": {\"namelength\": 0}, \"hovertemplate\": \"\\uc7a5\\ub974=\\uacf5\\ud3ec<br>provider=%{x}<br>count=%{y}<br>percent=%{customdata[0]}\", \"legendgroup\": \"\\uc7a5\\ub974=\\uacf5\\ud3ec\", \"marker\": {\"color\": \"#B6E880\"}, \"name\": \"\\uc7a5\\ub974=\\uacf5\\ud3ec\", \"offsetgroup\": \"\\uc7a5\\ub974=\\uacf5\\ud3ec\", \"orientation\": \"v\", \"showlegend\": true, \"textposition\": \"auto\", \"type\": \"bar\", \"x\": [\"\\ucfe0\\ud321\\ud50c\\ub808\\uc774\", \"\\ud2f0\\ube59\", \"\\uc6e8\\uc774\\ube0c\", \"AppleTV+\", \"\\ub124\\uc774\\ubc84\\uc2dc\\ub9ac\\uc988\\uc628\", \"\\uc544\\ub9c8\\uc874\\ud504\\ub77c\\uc784\\ube44\\ub514\\uc624\", \"\\ub77c\\ud504\\ud154\", \"\\ub137\\ud50c\\ub9ad\\uc2a4\", \"seezn\", \"\\uc653\\ucc60\", \"\\ub514\\uc988\\ub2c8+\"], \"xaxis\": \"x\", \"y\": [9, 3, 33, 4, 0, 21, 1, 89, 1, 27, 23], \"yaxis\": \"y\"}, {\"alignmentgroup\": \"True\", \"customdata\": [[1.5126050420168067], [2.936900261703984], [0.6041565973900435], [0.0], [0.0], [0.0], [0.0], [0.0916030534351145], [2.6378896882494005], [2.4987869966035903], [0.0]], \"hoverlabel\": {\"namelength\": 0}, \"hovertemplate\": \"\\uc7a5\\ub974=\\uc2dc\\uc0ac/\\uad50\\uc591<br>provider=%{x}<br>count=%{y}<br>percent=%{customdata[0]}\", \"legendgroup\": \"\\uc7a5\\ub974=\\uc2dc\\uc0ac/\\uad50\\uc591\", \"marker\": {\"color\": \"#FF97FF\"}, \"name\": \"\\uc7a5\\ub974=\\uc2dc\\uc0ac/\\uad50\\uc591\", \"offsetgroup\": \"\\uc7a5\\ub974=\\uc2dc\\uc0ac/\\uad50\\uc591\", \"orientation\": \"v\", \"showlegend\": true, \"textposition\": \"auto\", \"type\": \"bar\", \"x\": [\"\\ucfe0\\ud321\\ud50c\\ub808\\uc774\", \"\\ud2f0\\ube59\", \"\\uc6e8\\uc774\\ube0c\", \"AppleTV+\", \"\\ub124\\uc774\\ubc84\\uc2dc\\ub9ac\\uc988\\uc628\", \"\\uc544\\ub9c8\\uc874\\ud504\\ub77c\\uc784\\ube44\\ub514\\uc624\", \"\\ub77c\\ud504\\ud154\", \"\\ub137\\ud50c\\ub9ad\\uc2a4\", \"seezn\", \"\\uc653\\ucc60\", \"\\ub514\\uc988\\ub2c8+\"], \"xaxis\": \"x\", \"y\": [9, 101, 25, 0, 0, 0, 0, 3, 11, 103, 0], \"yaxis\": \"y\"}, {\"alignmentgroup\": \"True\", \"customdata\": [[7.73109243697479], [3.1695260250072694], [5.582406959884002], [40.0], [0.0], [13.620071684587813], [0.622568093385214], [25.557251908396946], [5.275779376498801], [6.525958272683163], [29.02777777777778]], \"hoverlabel\": {\"namelength\": 0}, \"hovertemplate\": \"\\uc7a5\\ub974=\\ucf54\\ubbf8\\ub514<br>provider=%{x}<br>count=%{y}<br>percent=%{customdata[0]}\", \"legendgroup\": \"\\uc7a5\\ub974=\\ucf54\\ubbf8\\ub514\", \"marker\": {\"color\": \"#FECB52\"}, \"name\": \"\\uc7a5\\ub974=\\ucf54\\ubbf8\\ub514\", \"offsetgroup\": \"\\uc7a5\\ub974=\\ucf54\\ubbf8\\ub514\", \"orientation\": \"v\", \"showlegend\": true, \"textposition\": \"auto\", \"type\": \"bar\", \"x\": [\"\\ucfe0\\ud321\\ud50c\\ub808\\uc774\", \"\\ud2f0\\ube59\", \"\\uc6e8\\uc774\\ube0c\", \"AppleTV+\", \"\\ub124\\uc774\\ubc84\\uc2dc\\ub9ac\\uc988\\uc628\", \"\\uc544\\ub9c8\\uc874\\ud504\\ub77c\\uc784\\ube44\\ub514\\uc624\", \"\\ub77c\\ud504\\ud154\", \"\\ub137\\ud50c\\ub9ad\\uc2a4\", \"seezn\", \"\\uc653\\ucc60\", \"\\ub514\\uc988\\ub2c8+\"], \"xaxis\": \"x\", \"y\": [46, 109, 231, 16, 0, 38, 8, 837, 22, 269, 209], \"yaxis\": \"y\"}, {\"alignmentgroup\": \"True\", \"customdata\": [[8.907563025210084], [8.37452747891829], [10.198163363943934], [2.5], [0.0], [2.5089605734767026], [0.5447470817120622], [5.6183206106870225], [13.66906474820144], [9.606986899563319], [7.361111111111111]], \"hoverlabel\": {\"namelength\": 0}, \"hovertemplate\": \"\\uc7a5\\ub974=\\uba5c\\ub85c/\\ub85c\\ub9e8\\uc2a4<br>provider=%{x}<br>count=%{y}<br>percent=%{customdata[0]}\", \"legendgroup\": \"\\uc7a5\\ub974=\\uba5c\\ub85c/\\ub85c\\ub9e8\\uc2a4\", \"marker\": {\"color\": \"#636efa\"}, \"name\": \"\\uc7a5\\ub974=\\uba5c\\ub85c/\\ub85c\\ub9e8\\uc2a4\", \"offsetgroup\": \"\\uc7a5\\ub974=\\uba5c\\ub85c/\\ub85c\\ub9e8\\uc2a4\", \"orientation\": \"v\", \"showlegend\": true, \"textposition\": \"auto\", \"type\": \"bar\", \"x\": [\"\\ucfe0\\ud321\\ud50c\\ub808\\uc774\", \"\\ud2f0\\ube59\", \"\\uc6e8\\uc774\\ube0c\", \"AppleTV+\", \"\\ub124\\uc774\\ubc84\\uc2dc\\ub9ac\\uc988\\uc628\", \"\\uc544\\ub9c8\\uc874\\ud504\\ub77c\\uc784\\ube44\\ub514\\uc624\", \"\\ub77c\\ud504\\ud154\", \"\\ub137\\ud50c\\ub9ad\\uc2a4\", \"seezn\", \"\\uc653\\ucc60\", \"\\ub514\\uc988\\ub2c8+\"], \"xaxis\": \"x\", \"y\": [53, 288, 422, 1, 0, 7, 7, 184, 57, 396, 53], \"yaxis\": \"y\"}, {\"alignmentgroup\": \"True\", \"customdata\": [[6.554621848739496], [0.319860424542018], [1.5466408893185113], [12.5], [0.0], [6.093189964157706], [0.5447470817120622], [3.6030534351145036], [4.556354916067146], [1.2615235322658904], [7.5]], \"hoverlabel\": {\"namelength\": 0}, \"hovertemplate\": \"\\uc7a5\\ub974=SF<br>provider=%{x}<br>count=%{y}<br>percent=%{customdata[0]}\", \"legendgroup\": \"\\uc7a5\\ub974=SF\", \"marker\": {\"color\": \"#EF553B\"}, \"name\": \"\\uc7a5\\ub974=SF\", \"offsetgroup\": \"\\uc7a5\\ub974=SF\", \"orientation\": \"v\", \"showlegend\": true, \"textposition\": \"auto\", \"type\": \"bar\", \"x\": [\"\\ucfe0\\ud321\\ud50c\\ub808\\uc774\", \"\\ud2f0\\ube59\", \"\\uc6e8\\uc774\\ube0c\", \"AppleTV+\", \"\\ub124\\uc774\\ubc84\\uc2dc\\ub9ac\\uc988\\uc628\", \"\\uc544\\ub9c8\\uc874\\ud504\\ub77c\\uc784\\ube44\\ub514\\uc624\", \"\\ub77c\\ud504\\ud154\", \"\\ub137\\ud50c\\ub9ad\\uc2a4\", \"seezn\", \"\\uc653\\ucc60\", \"\\ub514\\uc988\\ub2c8+\"], \"xaxis\": \"x\", \"y\": [39, 11, 64, 5, 0, 17, 7, 118, 19, 52, 54], \"yaxis\": \"y\"}, {\"alignmentgroup\": \"True\", \"customdata\": [[6.890756302521009], [2.3844140738586797], [3.9149347510874817], [7.5], [0.0], [11.11111111111111], [2.3346303501945527], [10.442748091603054], [2.3980815347721824], [4.2212518195050945], [16.944444444444443]], \"hoverlabel\": {\"namelength\": 0}, \"hovertemplate\": \"\\uc7a5\\ub974=\\uc561\\uc158<br>provider=%{x}<br>count=%{y}<br>percent=%{customdata[0]}\", \"legendgroup\": \"\\uc7a5\\ub974=\\uc561\\uc158\", \"marker\": {\"color\": \"#00cc96\"}, \"name\": \"\\uc7a5\\ub974=\\uc561\\uc158\", \"offsetgroup\": \"\\uc7a5\\ub974=\\uc561\\uc158\", \"orientation\": \"v\", \"showlegend\": true, \"textposition\": \"auto\", \"type\": \"bar\", \"x\": [\"\\ucfe0\\ud321\\ud50c\\ub808\\uc774\", \"\\ud2f0\\ube59\", \"\\uc6e8\\uc774\\ube0c\", \"AppleTV+\", \"\\ub124\\uc774\\ubc84\\uc2dc\\ub9ac\\uc988\\uc628\", \"\\uc544\\ub9c8\\uc874\\ud504\\ub77c\\uc784\\ube44\\ub514\\uc624\", \"\\ub77c\\ud504\\ud154\", \"\\ub137\\ud50c\\ub9ad\\uc2a4\", \"seezn\", \"\\uc653\\ucc60\", \"\\ub514\\uc988\\ub2c8+\"], \"xaxis\": \"x\", \"y\": [41, 82, 162, 3, 0, 31, 30, 342, 10, 174, 122], \"yaxis\": \"y\"}, {\"alignmentgroup\": \"True\", \"customdata\": [[0.6722689075630253], [0.23262576330328583], [0.55582406959884], [0.0], [0.0], [0.0], [0.311284046692607], [0.183206106870229], [0.9592326139088729], [0.41242115477923336], [0.0]], \"hoverlabel\": {\"namelength\": 0}, \"hovertemplate\": \"\\uc7a5\\ub974=\\uc804\\uc7c1<br>provider=%{x}<br>count=%{y}<br>percent=%{customdata[0]}\", \"legendgroup\": \"\\uc7a5\\ub974=\\uc804\\uc7c1\", \"marker\": {\"color\": \"#ab63fa\"}, \"name\": \"\\uc7a5\\ub974=\\uc804\\uc7c1\", \"offsetgroup\": \"\\uc7a5\\ub974=\\uc804\\uc7c1\", \"orientation\": \"v\", \"showlegend\": true, \"textposition\": \"auto\", \"type\": \"bar\", \"x\": [\"\\ucfe0\\ud321\\ud50c\\ub808\\uc774\", \"\\ud2f0\\ube59\", \"\\uc6e8\\uc774\\ube0c\", \"AppleTV+\", \"\\ub124\\uc774\\ubc84\\uc2dc\\ub9ac\\uc988\\uc628\", \"\\uc544\\ub9c8\\uc874\\ud504\\ub77c\\uc784\\ube44\\ub514\\uc624\", \"\\ub77c\\ud504\\ud154\", \"\\ub137\\ud50c\\ub9ad\\uc2a4\", \"seezn\", \"\\uc653\\ucc60\", \"\\ub514\\uc988\\ub2c8+\"], \"xaxis\": \"x\", \"y\": [4, 8, 23, 0, 0, 0, 4, 6, 4, 17, 0], \"yaxis\": \"y\"}, {\"alignmentgroup\": \"True\", \"customdata\": [[3.865546218487395], [0.7269555103227683], [1.401643305944901], [5.0], [0.0], [5.734767025089606], [0.622568093385214], [6.99236641221374], [0.7194244604316546], [1.6739446870451238], [9.86111111111111]], \"hoverlabel\": {\"namelength\": 0}, \"hovertemplate\": \"\\uc7a5\\ub974=\\uc5b4\\ub4dc\\ubca4\\ucc98<br>provider=%{x}<br>count=%{y}<br>percent=%{customdata[0]}\", \"legendgroup\": \"\\uc7a5\\ub974=\\uc5b4\\ub4dc\\ubca4\\ucc98\", \"marker\": {\"color\": \"#FFA15A\"}, \"name\": \"\\uc7a5\\ub974=\\uc5b4\\ub4dc\\ubca4\\ucc98\", \"offsetgroup\": \"\\uc7a5\\ub974=\\uc5b4\\ub4dc\\ubca4\\ucc98\", \"orientation\": \"v\", \"showlegend\": true, \"textposition\": \"auto\", \"type\": \"bar\", \"x\": [\"\\ucfe0\\ud321\\ud50c\\ub808\\uc774\", \"\\ud2f0\\ube59\", \"\\uc6e8\\uc774\\ube0c\", \"AppleTV+\", \"\\ub124\\uc774\\ubc84\\uc2dc\\ub9ac\\uc988\\uc628\", \"\\uc544\\ub9c8\\uc874\\ud504\\ub77c\\uc784\\ube44\\ub514\\uc624\", \"\\ub77c\\ud504\\ud154\", \"\\ub137\\ud50c\\ub9ad\\uc2a4\", \"seezn\", \"\\uc653\\ucc60\", \"\\ub514\\uc988\\ub2c8+\"], \"xaxis\": \"x\", \"y\": [23, 25, 58, 2, 0, 16, 8, 229, 3, 69, 71], \"yaxis\": \"y\"}, {\"alignmentgroup\": \"True\", \"customdata\": [[0.0], [0.02907822041291073], [0.04833252779120348], [2.5], [0.0], [1.4336917562724014], [0.07782101167315175], [0.42748091603053434], [0.0], [0.38816108685104317], [1.3888888888888888]], \"hoverlabel\": {\"namelength\": 0}, \"hovertemplate\": \"\\uc7a5\\ub974=\\uc74c\\uc545<br>provider=%{x}<br>count=%{y}<br>percent=%{customdata[0]}\", \"legendgroup\": \"\\uc7a5\\ub974=\\uc74c\\uc545\", \"marker\": {\"color\": \"#19d3f3\"}, \"name\": \"\\uc7a5\\ub974=\\uc74c\\uc545\", \"offsetgroup\": \"\\uc7a5\\ub974=\\uc74c\\uc545\", \"orientation\": \"v\", \"showlegend\": true, \"textposition\": \"auto\", \"type\": \"bar\", \"x\": [\"\\ucfe0\\ud321\\ud50c\\ub808\\uc774\", \"\\ud2f0\\ube59\", \"\\uc6e8\\uc774\\ube0c\", \"AppleTV+\", \"\\ub124\\uc774\\ubc84\\uc2dc\\ub9ac\\uc988\\uc628\", \"\\uc544\\ub9c8\\uc874\\ud504\\ub77c\\uc784\\ube44\\ub514\\uc624\", \"\\ub77c\\ud504\\ud154\", \"\\ub137\\ud50c\\ub9ad\\uc2a4\", \"seezn\", \"\\uc653\\ucc60\", \"\\ub514\\uc988\\ub2c8+\"], \"xaxis\": \"x\", \"y\": [0, 1, 2, 1, 0, 4, 1, 14, 0, 16, 10], \"yaxis\": \"y\"}, {\"alignmentgroup\": \"True\", \"customdata\": [[2.689075630252101], [1.0177377144518756], [1.9574673755437408], [12.5], [0.0], [10.75268817204301], [0.1556420233463035], [4.793893129770993], [1.6786570743405276], [1.5526443474041727], [6.944444444444445]], \"hoverlabel\": {\"namelength\": 0}, \"hovertemplate\": \"\\uc7a5\\ub974=\\uc2a4\\ub9b4\\ub7ec<br>provider=%{x}<br>count=%{y}<br>percent=%{customdata[0]}\", \"legendgroup\": \"\\uc7a5\\ub974=\\uc2a4\\ub9b4\\ub7ec\", \"marker\": {\"color\": \"#FF6692\"}, \"name\": \"\\uc7a5\\ub974=\\uc2a4\\ub9b4\\ub7ec\", \"offsetgroup\": \"\\uc7a5\\ub974=\\uc2a4\\ub9b4\\ub7ec\", \"orientation\": \"v\", \"showlegend\": true, \"textposition\": \"auto\", \"type\": \"bar\", \"x\": [\"\\ucfe0\\ud321\\ud50c\\ub808\\uc774\", \"\\ud2f0\\ube59\", \"\\uc6e8\\uc774\\ube0c\", \"AppleTV+\", \"\\ub124\\uc774\\ubc84\\uc2dc\\ub9ac\\uc988\\uc628\", \"\\uc544\\ub9c8\\uc874\\ud504\\ub77c\\uc784\\ube44\\ub514\\uc624\", \"\\ub77c\\ud504\\ud154\", \"\\ub137\\ud50c\\ub9ad\\uc2a4\", \"seezn\", \"\\uc653\\ucc60\", \"\\ub514\\uc988\\ub2c8+\"], \"xaxis\": \"x\", \"y\": [16, 35, 81, 5, 0, 30, 2, 157, 7, 64, 50], \"yaxis\": \"y\"}, {\"alignmentgroup\": \"True\", \"customdata\": [[26.218487394957982], [22.448386158767082], [17.76220396326728], [7.5], [0.0], [13.978494623655914], [99.22178988326849], [22.870229007633586], [1.6786570743405276], [26.758854924793788], [28.61111111111111]], \"hoverlabel\": {\"namelength\": 0}, \"hovertemplate\": \"\\uc7a5\\ub974=\\uc560\\ub2c8\\uba54\\uc774\\uc158<br>provider=%{x}<br>count=%{y}<br>percent=%{customdata[0]}\", \"legendgroup\": \"\\uc7a5\\ub974=\\uc560\\ub2c8\\uba54\\uc774\\uc158\", \"marker\": {\"color\": \"#B6E880\"}, \"name\": \"\\uc7a5\\ub974=\\uc560\\ub2c8\\uba54\\uc774\\uc158\", \"offsetgroup\": \"\\uc7a5\\ub974=\\uc560\\ub2c8\\uba54\\uc774\\uc158\", \"orientation\": \"v\", \"showlegend\": true, \"textposition\": \"auto\", \"type\": \"bar\", \"x\": [\"\\ucfe0\\ud321\\ud50c\\ub808\\uc774\", \"\\ud2f0\\ube59\", \"\\uc6e8\\uc774\\ube0c\", \"AppleTV+\", \"\\ub124\\uc774\\ubc84\\uc2dc\\ub9ac\\uc988\\uc628\", \"\\uc544\\ub9c8\\uc874\\ud504\\ub77c\\uc784\\ube44\\ub514\\uc624\", \"\\ub77c\\ud504\\ud154\", \"\\ub137\\ud50c\\ub9ad\\uc2a4\", \"seezn\", \"\\uc653\\ucc60\", \"\\ub514\\uc988\\ub2c8+\"], \"xaxis\": \"x\", \"y\": [156, 772, 735, 3, 0, 39, 1275, 749, 7, 1103, 206], \"yaxis\": \"y\"}, {\"alignmentgroup\": \"True\", \"customdata\": [[0.0], [0.02907822041291073], [0.0], [0.0], [0.0], [0.0], [0.0], [0.0], [0.0], [0.048520135856380396], [0.1388888888888889]], \"hoverlabel\": {\"namelength\": 0}, \"hovertemplate\": \"\\uc7a5\\ub974=\\uacf5\\uc5f0<br>provider=%{x}<br>count=%{y}<br>percent=%{customdata[0]}\", \"legendgroup\": \"\\uc7a5\\ub974=\\uacf5\\uc5f0\", \"marker\": {\"color\": \"#FF97FF\"}, \"name\": \"\\uc7a5\\ub974=\\uacf5\\uc5f0\", \"offsetgroup\": \"\\uc7a5\\ub974=\\uacf5\\uc5f0\", \"orientation\": \"v\", \"showlegend\": true, \"textposition\": \"auto\", \"type\": \"bar\", \"x\": [\"\\ucfe0\\ud321\\ud50c\\ub808\\uc774\", \"\\ud2f0\\ube59\", \"\\uc6e8\\uc774\\ube0c\", \"AppleTV+\", \"\\ub124\\uc774\\ubc84\\uc2dc\\ub9ac\\uc988\\uc628\", \"\\uc544\\ub9c8\\uc874\\ud504\\ub77c\\uc784\\ube44\\ub514\\uc624\", \"\\ub77c\\ud504\\ud154\", \"\\ub137\\ud50c\\ub9ad\\uc2a4\", \"seezn\", \"\\uc653\\ucc60\", \"\\ub514\\uc988\\ub2c8+\"], \"xaxis\": \"x\", \"y\": [0, 1, 0, 0, 0, 0, 0, 0, 0, 2, 1], \"yaxis\": \"y\"}, {\"alignmentgroup\": \"True\", \"customdata\": [[5.378151260504202], [1.6574585635359116], [4.712421459642339], [15.0], [0.0], [10.75268817204301], [0.07782101167315175], [3.6030534351145036], [2.3980815347721824], [3.3721494420184377], [8.194444444444445]], \"hoverlabel\": {\"namelength\": 0}, \"hovertemplate\": \"\\uc7a5\\ub974=\\ubbf8\\uc2a4\\ud130\\ub9ac<br>provider=%{x}<br>count=%{y}<br>percent=%{customdata[0]}\", \"legendgroup\": \"\\uc7a5\\ub974=\\ubbf8\\uc2a4\\ud130\\ub9ac\", \"marker\": {\"color\": \"#FECB52\"}, \"name\": \"\\uc7a5\\ub974=\\ubbf8\\uc2a4\\ud130\\ub9ac\", \"offsetgroup\": \"\\uc7a5\\ub974=\\ubbf8\\uc2a4\\ud130\\ub9ac\", \"orientation\": \"v\", \"showlegend\": true, \"textposition\": \"auto\", \"type\": \"bar\", \"x\": [\"\\ucfe0\\ud321\\ud50c\\ub808\\uc774\", \"\\ud2f0\\ube59\", \"\\uc6e8\\uc774\\ube0c\", \"AppleTV+\", \"\\ub124\\uc774\\ubc84\\uc2dc\\ub9ac\\uc988\\uc628\", \"\\uc544\\ub9c8\\uc874\\ud504\\ub77c\\uc784\\ube44\\ub514\\uc624\", \"\\ub77c\\ud504\\ud154\", \"\\ub137\\ud50c\\ub9ad\\uc2a4\", \"seezn\", \"\\uc653\\ucc60\", \"\\ub514\\uc988\\ub2c8+\"], \"xaxis\": \"x\", \"y\": [32, 57, 195, 6, 0, 30, 1, 118, 10, 139, 59], \"yaxis\": \"y\"}, {\"alignmentgroup\": \"True\", \"customdata\": [[10.588235294117647], [5.001453911020645], [5.147414209763171], [12.5], [0.0], [56.98924731182796], [2.6459143968871595], [0.366412213740458], [6.954436450839329], [2.4987869966035903], [0.0]], \"hoverlabel\": {\"namelength\": 0}, \"hovertemplate\": \"\\uc7a5\\ub974=\\ubbf8\\uc815<br>provider=%{x}<br>count=%{y}<br>percent=%{customdata[0]}\", \"legendgroup\": \"\\uc7a5\\ub974=\\ubbf8\\uc815\", \"marker\": {\"color\": \"#636efa\"}, \"name\": \"\\uc7a5\\ub974=\\ubbf8\\uc815\", \"offsetgroup\": \"\\uc7a5\\ub974=\\ubbf8\\uc815\", \"orientation\": \"v\", \"showlegend\": true, \"textposition\": \"auto\", \"type\": \"bar\", \"x\": [\"\\ucfe0\\ud321\\ud50c\\ub808\\uc774\", \"\\ud2f0\\ube59\", \"\\uc6e8\\uc774\\ube0c\", \"AppleTV+\", \"\\ub124\\uc774\\ubc84\\uc2dc\\ub9ac\\uc988\\uc628\", \"\\uc544\\ub9c8\\uc874\\ud504\\ub77c\\uc784\\ube44\\ub514\\uc624\", \"\\ub77c\\ud504\\ud154\", \"\\ub137\\ud50c\\ub9ad\\uc2a4\", \"seezn\", \"\\uc653\\ucc60\", \"\\ub514\\uc988\\ub2c8+\"], \"xaxis\": \"x\", \"y\": [63, 172, 213, 5, 0, 159, 34, 12, 29, 103, 0], \"yaxis\": \"y\"}, {\"alignmentgroup\": \"True\", \"customdata\": [[1.0084033613445378], [0.23262576330328583], [0.55582406959884], [0.0], [0.0], [0.0], [0.07782101167315175], [2.931297709923664], [0.7194244604316546], [0.38816108685104317], [6.388888888888889]], \"hoverlabel\": {\"namelength\": 0}, \"hovertemplate\": \"\\uc7a5\\ub974=\\uac00\\uc871<br>provider=%{x}<br>count=%{y}<br>percent=%{customdata[0]}\", \"legendgroup\": \"\\uc7a5\\ub974=\\uac00\\uc871\", \"marker\": {\"color\": \"#EF553B\"}, \"name\": \"\\uc7a5\\ub974=\\uac00\\uc871\", \"offsetgroup\": \"\\uc7a5\\ub974=\\uac00\\uc871\", \"orientation\": \"v\", \"showlegend\": true, \"textposition\": \"auto\", \"type\": \"bar\", \"x\": [\"\\ucfe0\\ud321\\ud50c\\ub808\\uc774\", \"\\ud2f0\\ube59\", \"\\uc6e8\\uc774\\ube0c\", \"AppleTV+\", \"\\ub124\\uc774\\ubc84\\uc2dc\\ub9ac\\uc988\\uc628\", \"\\uc544\\ub9c8\\uc874\\ud504\\ub77c\\uc784\\ube44\\ub514\\uc624\", \"\\ub77c\\ud504\\ud154\", \"\\ub137\\ud50c\\ub9ad\\uc2a4\", \"seezn\", \"\\uc653\\ucc60\", \"\\ub514\\uc988\\ub2c8+\"], \"xaxis\": \"x\", \"y\": [6, 8, 23, 0, 0, 0, 1, 96, 3, 16, 46], \"yaxis\": \"y\"}, {\"alignmentgroup\": \"True\", \"customdata\": [[0.0], [0.7560337307356789], [0.3383276945384244], [0.0], [0.0], [0.35842293906810035], [0.07782101167315175], [0.030534351145038167], [0.0], [0.121300339640951], [0.0]], \"hoverlabel\": {\"namelength\": 0}, \"hovertemplate\": \"\\uc7a5\\ub974=\\uae30\\ud0c0<br>provider=%{x}<br>count=%{y}<br>percent=%{customdata[0]}\", \"legendgroup\": \"\\uc7a5\\ub974=\\uae30\\ud0c0\", \"marker\": {\"color\": \"#00cc96\"}, \"name\": \"\\uc7a5\\ub974=\\uae30\\ud0c0\", \"offsetgroup\": \"\\uc7a5\\ub974=\\uae30\\ud0c0\", \"orientation\": \"v\", \"showlegend\": true, \"textposition\": \"auto\", \"type\": \"bar\", \"x\": [\"\\ucfe0\\ud321\\ud50c\\ub808\\uc774\", \"\\ud2f0\\ube59\", \"\\uc6e8\\uc774\\ube0c\", \"AppleTV+\", \"\\ub124\\uc774\\ubc84\\uc2dc\\ub9ac\\uc988\\uc628\", \"\\uc544\\ub9c8\\uc874\\ud504\\ub77c\\uc784\\ube44\\ub514\\uc624\", \"\\ub77c\\ud504\\ud154\", \"\\ub137\\ud50c\\ub9ad\\uc2a4\", \"seezn\", \"\\uc653\\ucc60\", \"\\ub514\\uc988\\ub2c8+\"], \"xaxis\": \"x\", \"y\": [0, 26, 14, 0, 0, 1, 1, 1, 0, 5, 0], \"yaxis\": \"y\"}, {\"alignmentgroup\": \"True\", \"customdata\": [[8.067226890756302], [35.41727246292527], [14.838086031899469], [0.0], [0.0], [1.4336917562724014], [0.0], [9.801526717557252], [25.65947242206235], [15.162542455118874], [3.4722222222222223]], \"hoverlabel\": {\"namelength\": 0}, \"hovertemplate\": \"\\uc7a5\\ub974=\\uc608\\ub2a5<br>provider=%{x}<br>count=%{y}<br>percent=%{customdata[0]}\", \"legendgroup\": \"\\uc7a5\\ub974=\\uc608\\ub2a5\", \"marker\": {\"color\": \"#ab63fa\"}, \"name\": \"\\uc7a5\\ub974=\\uc608\\ub2a5\", \"offsetgroup\": \"\\uc7a5\\ub974=\\uc608\\ub2a5\", \"orientation\": \"v\", \"showlegend\": true, \"textposition\": \"auto\", \"type\": \"bar\", \"x\": [\"\\ucfe0\\ud321\\ud50c\\ub808\\uc774\", \"\\ud2f0\\ube59\", \"\\uc6e8\\uc774\\ube0c\", \"AppleTV+\", \"\\ub124\\uc774\\ubc84\\uc2dc\\ub9ac\\uc988\\uc628\", \"\\uc544\\ub9c8\\uc874\\ud504\\ub77c\\uc784\\ube44\\ub514\\uc624\", \"\\ub77c\\ud504\\ud154\", \"\\ub137\\ud50c\\ub9ad\\uc2a4\", \"seezn\", \"\\uc653\\ucc60\", \"\\ub514\\uc988\\ub2c8+\"], \"xaxis\": \"x\", \"y\": [48, 1218, 614, 0, 0, 4, 0, 321, 107, 625, 25], \"yaxis\": \"y\"}],\n",
              "                        {\"barmode\": \"relative\", \"legend\": {\"tracegroupgap\": 0}, \"template\": {\"data\": {\"bar\": [{\"error_x\": {\"color\": \"#2a3f5f\"}, \"error_y\": {\"color\": \"#2a3f5f\"}, \"marker\": {\"line\": {\"color\": \"#E5ECF6\", \"width\": 0.5}}, \"type\": \"bar\"}], \"barpolar\": [{\"marker\": {\"line\": {\"color\": \"#E5ECF6\", \"width\": 0.5}}, \"type\": \"barpolar\"}], \"carpet\": [{\"aaxis\": {\"endlinecolor\": \"#2a3f5f\", \"gridcolor\": \"white\", \"linecolor\": \"white\", \"minorgridcolor\": \"white\", \"startlinecolor\": \"#2a3f5f\"}, \"baxis\": {\"endlinecolor\": \"#2a3f5f\", \"gridcolor\": \"white\", \"linecolor\": \"white\", \"minorgridcolor\": \"white\", \"startlinecolor\": \"#2a3f5f\"}, \"type\": \"carpet\"}], \"choropleth\": [{\"colorbar\": {\"outlinewidth\": 0, \"ticks\": \"\"}, \"type\": \"choropleth\"}], \"contour\": [{\"colorbar\": {\"outlinewidth\": 0, \"ticks\": \"\"}, \"colorscale\": [[0.0, \"#0d0887\"], [0.1111111111111111, \"#46039f\"], [0.2222222222222222, \"#7201a8\"], [0.3333333333333333, \"#9c179e\"], [0.4444444444444444, \"#bd3786\"], [0.5555555555555556, \"#d8576b\"], [0.6666666666666666, \"#ed7953\"], [0.7777777777777778, \"#fb9f3a\"], [0.8888888888888888, \"#fdca26\"], [1.0, \"#f0f921\"]], \"type\": \"contour\"}], \"contourcarpet\": [{\"colorbar\": {\"outlinewidth\": 0, \"ticks\": \"\"}, \"type\": \"contourcarpet\"}], \"heatmap\": [{\"colorbar\": {\"outlinewidth\": 0, \"ticks\": \"\"}, \"colorscale\": [[0.0, \"#0d0887\"], [0.1111111111111111, \"#46039f\"], [0.2222222222222222, \"#7201a8\"], [0.3333333333333333, \"#9c179e\"], [0.4444444444444444, \"#bd3786\"], [0.5555555555555556, \"#d8576b\"], [0.6666666666666666, \"#ed7953\"], [0.7777777777777778, \"#fb9f3a\"], [0.8888888888888888, \"#fdca26\"], [1.0, \"#f0f921\"]], \"type\": \"heatmap\"}], \"heatmapgl\": [{\"colorbar\": {\"outlinewidth\": 0, \"ticks\": \"\"}, \"colorscale\": [[0.0, \"#0d0887\"], [0.1111111111111111, \"#46039f\"], [0.2222222222222222, \"#7201a8\"], [0.3333333333333333, \"#9c179e\"], [0.4444444444444444, \"#bd3786\"], [0.5555555555555556, \"#d8576b\"], [0.6666666666666666, \"#ed7953\"], [0.7777777777777778, \"#fb9f3a\"], [0.8888888888888888, \"#fdca26\"], [1.0, \"#f0f921\"]], \"type\": \"heatmapgl\"}], \"histogram\": [{\"marker\": {\"colorbar\": {\"outlinewidth\": 0, \"ticks\": \"\"}}, \"type\": \"histogram\"}], \"histogram2d\": [{\"colorbar\": {\"outlinewidth\": 0, \"ticks\": \"\"}, \"colorscale\": [[0.0, \"#0d0887\"], [0.1111111111111111, \"#46039f\"], [0.2222222222222222, \"#7201a8\"], [0.3333333333333333, \"#9c179e\"], [0.4444444444444444, \"#bd3786\"], [0.5555555555555556, \"#d8576b\"], [0.6666666666666666, \"#ed7953\"], [0.7777777777777778, \"#fb9f3a\"], [0.8888888888888888, \"#fdca26\"], [1.0, \"#f0f921\"]], \"type\": \"histogram2d\"}], \"histogram2dcontour\": [{\"colorbar\": {\"outlinewidth\": 0, \"ticks\": \"\"}, \"colorscale\": [[0.0, \"#0d0887\"], [0.1111111111111111, \"#46039f\"], [0.2222222222222222, \"#7201a8\"], [0.3333333333333333, \"#9c179e\"], [0.4444444444444444, \"#bd3786\"], [0.5555555555555556, \"#d8576b\"], [0.6666666666666666, \"#ed7953\"], [0.7777777777777778, \"#fb9f3a\"], [0.8888888888888888, \"#fdca26\"], [1.0, \"#f0f921\"]], \"type\": \"histogram2dcontour\"}], \"mesh3d\": [{\"colorbar\": {\"outlinewidth\": 0, \"ticks\": \"\"}, \"type\": \"mesh3d\"}], \"parcoords\": [{\"line\": {\"colorbar\": {\"outlinewidth\": 0, \"ticks\": \"\"}}, \"type\": \"parcoords\"}], \"pie\": [{\"automargin\": true, \"type\": \"pie\"}], \"scatter\": [{\"marker\": {\"colorbar\": {\"outlinewidth\": 0, \"ticks\": \"\"}}, \"type\": \"scatter\"}], \"scatter3d\": [{\"line\": {\"colorbar\": {\"outlinewidth\": 0, \"ticks\": \"\"}}, \"marker\": {\"colorbar\": {\"outlinewidth\": 0, \"ticks\": \"\"}}, \"type\": \"scatter3d\"}], \"scattercarpet\": [{\"marker\": {\"colorbar\": {\"outlinewidth\": 0, \"ticks\": \"\"}}, \"type\": \"scattercarpet\"}], \"scattergeo\": [{\"marker\": {\"colorbar\": {\"outlinewidth\": 0, \"ticks\": \"\"}}, \"type\": \"scattergeo\"}], \"scattergl\": [{\"marker\": {\"colorbar\": {\"outlinewidth\": 0, \"ticks\": \"\"}}, \"type\": \"scattergl\"}], \"scattermapbox\": [{\"marker\": {\"colorbar\": {\"outlinewidth\": 0, \"ticks\": \"\"}}, \"type\": \"scattermapbox\"}], \"scatterpolar\": [{\"marker\": {\"colorbar\": {\"outlinewidth\": 0, \"ticks\": \"\"}}, \"type\": \"scatterpolar\"}], \"scatterpolargl\": [{\"marker\": {\"colorbar\": {\"outlinewidth\": 0, \"ticks\": \"\"}}, \"type\": \"scatterpolargl\"}], \"scatterternary\": [{\"marker\": {\"colorbar\": {\"outlinewidth\": 0, \"ticks\": \"\"}}, \"type\": \"scatterternary\"}], \"surface\": [{\"colorbar\": {\"outlinewidth\": 0, \"ticks\": \"\"}, \"colorscale\": [[0.0, \"#0d0887\"], [0.1111111111111111, \"#46039f\"], [0.2222222222222222, \"#7201a8\"], [0.3333333333333333, \"#9c179e\"], [0.4444444444444444, \"#bd3786\"], [0.5555555555555556, \"#d8576b\"], [0.6666666666666666, \"#ed7953\"], [0.7777777777777778, \"#fb9f3a\"], [0.8888888888888888, \"#fdca26\"], [1.0, \"#f0f921\"]], \"type\": \"surface\"}], \"table\": [{\"cells\": {\"fill\": {\"color\": \"#EBF0F8\"}, \"line\": {\"color\": \"white\"}}, \"header\": {\"fill\": {\"color\": \"#C8D4E3\"}, \"line\": {\"color\": \"white\"}}, \"type\": \"table\"}]}, \"layout\": {\"annotationdefaults\": {\"arrowcolor\": \"#2a3f5f\", \"arrowhead\": 0, \"arrowwidth\": 1}, \"coloraxis\": {\"colorbar\": {\"outlinewidth\": 0, \"ticks\": \"\"}}, \"colorscale\": {\"diverging\": [[0, \"#8e0152\"], [0.1, \"#c51b7d\"], [0.2, \"#de77ae\"], [0.3, \"#f1b6da\"], [0.4, \"#fde0ef\"], [0.5, \"#f7f7f7\"], [0.6, \"#e6f5d0\"], [0.7, \"#b8e186\"], [0.8, \"#7fbc41\"], [0.9, \"#4d9221\"], [1, \"#276419\"]], \"sequential\": [[0.0, \"#0d0887\"], [0.1111111111111111, \"#46039f\"], [0.2222222222222222, \"#7201a8\"], [0.3333333333333333, \"#9c179e\"], [0.4444444444444444, \"#bd3786\"], [0.5555555555555556, \"#d8576b\"], [0.6666666666666666, \"#ed7953\"], [0.7777777777777778, \"#fb9f3a\"], [0.8888888888888888, \"#fdca26\"], [1.0, \"#f0f921\"]], \"sequentialminus\": [[0.0, \"#0d0887\"], [0.1111111111111111, \"#46039f\"], [0.2222222222222222, \"#7201a8\"], [0.3333333333333333, \"#9c179e\"], [0.4444444444444444, \"#bd3786\"], [0.5555555555555556, \"#d8576b\"], [0.6666666666666666, \"#ed7953\"], [0.7777777777777778, \"#fb9f3a\"], [0.8888888888888888, \"#fdca26\"], [1.0, \"#f0f921\"]]}, \"colorway\": [\"#636efa\", \"#EF553B\", \"#00cc96\", \"#ab63fa\", \"#FFA15A\", \"#19d3f3\", \"#FF6692\", \"#B6E880\", \"#FF97FF\", \"#FECB52\"], \"font\": {\"color\": \"#2a3f5f\"}, \"geo\": {\"bgcolor\": \"white\", \"lakecolor\": \"white\", \"landcolor\": \"#E5ECF6\", \"showlakes\": true, \"showland\": true, \"subunitcolor\": \"white\"}, \"hoverlabel\": {\"align\": \"left\"}, \"hovermode\": \"closest\", \"mapbox\": {\"style\": \"light\"}, \"paper_bgcolor\": \"white\", \"plot_bgcolor\": \"#E5ECF6\", \"polar\": {\"angularaxis\": {\"gridcolor\": \"white\", \"linecolor\": \"white\", \"ticks\": \"\"}, \"bgcolor\": \"#E5ECF6\", \"radialaxis\": {\"gridcolor\": \"white\", \"linecolor\": \"white\", \"ticks\": \"\"}}, \"scene\": {\"xaxis\": {\"backgroundcolor\": \"#E5ECF6\", \"gridcolor\": \"white\", \"gridwidth\": 2, \"linecolor\": \"white\", \"showbackground\": true, \"ticks\": \"\", \"zerolinecolor\": \"white\"}, \"yaxis\": {\"backgroundcolor\": \"#E5ECF6\", \"gridcolor\": \"white\", \"gridwidth\": 2, \"linecolor\": \"white\", \"showbackground\": true, \"ticks\": \"\", \"zerolinecolor\": \"white\"}, \"zaxis\": {\"backgroundcolor\": \"#E5ECF6\", \"gridcolor\": \"white\", \"gridwidth\": 2, \"linecolor\": \"white\", \"showbackground\": true, \"ticks\": \"\", \"zerolinecolor\": \"white\"}}, \"shapedefaults\": {\"line\": {\"color\": \"#2a3f5f\"}}, \"ternary\": {\"aaxis\": {\"gridcolor\": \"white\", \"linecolor\": \"white\", \"ticks\": \"\"}, \"baxis\": {\"gridcolor\": \"white\", \"linecolor\": \"white\", \"ticks\": \"\"}, \"bgcolor\": \"#E5ECF6\", \"caxis\": {\"gridcolor\": \"white\", \"linecolor\": \"white\", \"ticks\": \"\"}}, \"title\": {\"x\": 0.05}, \"xaxis\": {\"automargin\": true, \"gridcolor\": \"white\", \"linecolor\": \"white\", \"ticks\": \"\", \"title\": {\"standoff\": 15}, \"zerolinecolor\": \"white\", \"zerolinewidth\": 2}, \"yaxis\": {\"automargin\": true, \"gridcolor\": \"white\", \"linecolor\": \"white\", \"ticks\": \"\", \"title\": {\"standoff\": 15}, \"zerolinecolor\": \"white\", \"zerolinewidth\": 2}}}, \"title\": {\"text\": \"\\ud50c\\ub7ab\\ud3fc \\ubcc4 \\uc778\\uae30 \\uc7a5\\ub974(\\uc804\\uccb4)\"}, \"xaxis\": {\"anchor\": \"y\", \"domain\": [0.0, 1.0], \"title\": {\"text\": \"provider\"}}, \"yaxis\": {\"anchor\": \"x\", \"domain\": [0.0, 1.0], \"title\": {\"text\": \"count\"}}},\n",
              "                        {\"responsive\": true}\n",
              "                    ).then(function(){\n",
              "                            \n",
              "var gd = document.getElementById('ed5cbe21-57dc-41ea-b3cf-50b969ade820');\n",
              "var x = new MutationObserver(function (mutations, observer) {{\n",
              "        var display = window.getComputedStyle(gd).display;\n",
              "        if (!display || display === 'none') {{\n",
              "            console.log([gd, 'removed!']);\n",
              "            Plotly.purge(gd);\n",
              "            observer.disconnect();\n",
              "        }}\n",
              "}});\n",
              "\n",
              "// Listen for the removal of the full notebook cells\n",
              "var notebookContainer = gd.closest('#notebook-container');\n",
              "if (notebookContainer) {{\n",
              "    x.observe(notebookContainer, {childList: true});\n",
              "}}\n",
              "\n",
              "// Listen for the clearing of the current output cell\n",
              "var outputEl = gd.closest('.output');\n",
              "if (outputEl) {{\n",
              "    x.observe(outputEl, {childList: true});\n",
              "}}\n",
              "\n",
              "                        })\n",
              "                };\n",
              "                \n",
              "            </script>\n",
              "        </div>\n",
              "</body>\n",
              "</html>"
            ]
          },
          "metadata": {}
        }
      ]
    },
    {
      "cell_type": "code",
      "source": [
        "#[애니메이션,다큐멘터리,미정,시사/교양,예능,공연,기타]을 제외한 장르별 비중\n",
        "\n",
        "li=['애니메이션','다큐멘터리','미정','기타','시사/교양','예능','공연']\n",
        "df5_2=df5.loc[df5['장르'].isin(li)==False]\n",
        "\n",
        "\"\"\"각 플랫폼 별로 시각화=[아마존프라임비디오,디즈니+,웨이브,넷플릭스,쿠팡플레이,왓챠,seezn,티빙]만\n",
        "라프텔은 99퍼가 애니메이션이라 제외\n",
        "appletv와 네이버시리즈온은 데이터 양이 적어 제외시킴\"\"\"\n",
        "\n",
        "#라이브러리 호출\n",
        "import plotly.graph_objects as go\n",
        "from plotly.subplots import make_subplots\n",
        "\n",
        "ama=df5_2.loc[df5_2['provider'].str.contains('아마존프라임비디오')]\n",
        "di=df5_2.loc[df5_2['provider'].str.contains('디즈니+')]\n",
        "wave=df5_2.loc[df5_2['provider'].str.contains('웨이브')]\n",
        "net=df5_2.loc[df5_2['provider'].str.contains('넷플릭스')]\n",
        "coo=df5_2.loc[df5_2['provider'].str.contains('쿠팡플레이')]\n",
        "wat=df5_2.loc[df5_2['provider'].str.contains('왓챠')]\n",
        "see=df5_2.loc[df5_2['provider'].str.contains('seezn')]\n",
        "ti=df5_2.loc[df5_2['provider'].str.contains('티빙')]\n",
        "\n",
        "# 서브플롯\n",
        "specs = [[{'type':'domain'}, {'type':'domain'},{'type':'domain'}, {'type':'domain'}],[{'type':'domain'}, {'type':'domain'},{'type':'domain'}, {'type':'domain'}]]\n",
        "fig = make_subplots(rows=2, cols=4, specs=specs)\n",
        "\n",
        "fig.add_trace(go.Pie(labels=ama['장르'], values=ama['count'], name=\"아마존\"),1, 1)\n",
        "fig.add_trace(go.Pie(labels=di['장르'], values=di['count'], name=\"디즈니+\"),1, 2)\n",
        "fig.add_trace(go.Pie(labels=wave['장르'], values=wave['count'], name=\"웨이브\"),1, 3)\n",
        "fig.add_trace(go.Pie(labels=net['장르'], values=net['count'], name=\"넷플릭스\"),1, 4)\n",
        "fig.add_trace(go.Pie(labels=coo['장르'], values=coo['count'], name=\"쿠팡플레이\"),2, 1)\n",
        "fig.add_trace(go.Pie(labels=wat['장르'], values=wat['count'], name=\"왓챠\"),2, 2)\n",
        "fig.add_trace(go.Pie(labels=see['장르'], values=see['count'], name=\"seezn\"),2, 3)\n",
        "fig.add_trace(go.Pie(labels=ti['장르'], values=ti['count'], name=\"티빙\"),2, 4)\n",
        "\n",
        "#도넛모양으로 만들기\n",
        "fig.update_traces(hole=.4, hoverinfo=\"label+percent+name\",textinfo='none')\n",
        "\n",
        "fig.update_layout(\n",
        "    title_text='장르별 분류',\n",
        "    # Add annotations in the center of the donut pies.\n",
        "    annotations=[dict(text='아마존', x=0.09, y=0.8, font_size=11, showarrow=False),\n",
        "                 dict(text='디즈니+', x=0.371, y=0.8, font_size=11, showarrow=False),\n",
        "                 dict(text='웨이브', x=0.63, y=0.8, font_size=11, showarrow=False),\n",
        "                 dict(text='넷플릭스', x=0.914, y=0.8, font_size=11, showarrow=False),\n",
        "                 dict(text='쿠팡', x=0.09, y=0.19, font_size=11, showarrow=False),\n",
        "                 dict(text='왓챠', x=0.371, y=0.19, font_size=11, showarrow=False),\n",
        "                 dict(text='seezn', x=0.63, y=0.19, font_size=11, showarrow=False),\n",
        "                 dict(text='티빙', x=0.914, y=0.19, font_size=11, showarrow=False)])\n",
        "fig = go.Figure(fig)\n",
        "fig.show()"
      ],
      "metadata": {
        "colab": {
          "base_uri": "https://localhost:8080/",
          "height": 542
        },
        "id": "IYEsVqPBAM64",
        "outputId": "915f449b-a001-491d-a6f5-ed526d2515c6"
      },
      "execution_count": 51,
      "outputs": [
        {
          "output_type": "display_data",
          "data": {
            "text/html": [
              "<html>\n",
              "<head><meta charset=\"utf-8\" /></head>\n",
              "<body>\n",
              "    <div>\n",
              "            <script src=\"https://cdnjs.cloudflare.com/ajax/libs/mathjax/2.7.5/MathJax.js?config=TeX-AMS-MML_SVG\"></script><script type=\"text/javascript\">if (window.MathJax) {MathJax.Hub.Config({SVG: {font: \"STIX-Web\"}});}</script>\n",
              "                <script type=\"text/javascript\">window.PlotlyConfig = {MathJaxConfig: 'local'};</script>\n",
              "        <script src=\"https://cdn.plot.ly/plotly-latest.min.js\"></script>    \n",
              "            <div id=\"4ad53e3a-6405-4b08-bb00-9c3976d61f96\" class=\"plotly-graph-div\" style=\"height:525px; width:100%;\"></div>\n",
              "            <script type=\"text/javascript\">\n",
              "                \n",
              "                    window.PLOTLYENV=window.PLOTLYENV || {};\n",
              "                    \n",
              "                if (document.getElementById(\"4ad53e3a-6405-4b08-bb00-9c3976d61f96\")) {\n",
              "                    Plotly.newPlot(\n",
              "                        '4ad53e3a-6405-4b08-bb00-9c3976d61f96',\n",
              "                        [{\"domain\": {\"x\": [0.0, 0.2125], \"y\": [0.575, 1.0]}, \"hole\": 0.4, \"hoverinfo\": \"label+percent+name\", \"labels\": [\"\\ubba4\\uc9c0\\uceec\", \"\\ubc94\\uc8c4\", \"\\uc11c\\uc2a4\\ud39c\\uc2a4\", \"\\uc11c\\ubd80\\uadf9\", \"\\uc11c\\uc0ac\", \"\\ud310\\ud0c0\\uc9c0\", \"\\uacf5\\ud3ec\", \"\\ucf54\\ubbf8\\ub514\", \"\\uba5c\\ub85c/\\ub85c\\ub9e8\\uc2a4\", \"SF\", \"\\uc561\\uc158\", \"\\uc804\\uc7c1\", \"\\uc5b4\\ub4dc\\ubca4\\ucc98\", \"\\uc74c\\uc545\", \"\\uc2a4\\ub9b4\\ub7ec\", \"\\ubbf8\\uc2a4\\ud130\\ub9ac\", \"\\uac00\\uc871\"], \"name\": \"\\uc544\\ub9c8\\uc874\", \"textinfo\": \"none\", \"type\": \"pie\", \"values\": [0, 46, 3, 0, 0, 27, 21, 38, 7, 17, 31, 0, 16, 4, 30, 30, 0]}, {\"domain\": {\"x\": [0.2625, 0.475], \"y\": [0.575, 1.0]}, \"hole\": 0.4, \"hoverinfo\": \"label+percent+name\", \"labels\": [\"\\ubba4\\uc9c0\\uceec\", \"\\ubc94\\uc8c4\", \"\\uc11c\\uc2a4\\ud39c\\uc2a4\", \"\\uc11c\\ubd80\\uadf9\", \"\\uc11c\\uc0ac\", \"\\ud310\\ud0c0\\uc9c0\", \"\\uacf5\\ud3ec\", \"\\ucf54\\ubbf8\\ub514\", \"\\uba5c\\ub85c/\\ub85c\\ub9e8\\uc2a4\", \"SF\", \"\\uc561\\uc158\", \"\\uc804\\uc7c1\", \"\\uc5b4\\ub4dc\\ubca4\\ucc98\", \"\\uc74c\\uc545\", \"\\uc2a4\\ub9b4\\ub7ec\", \"\\ubbf8\\uc2a4\\ud130\\ub9ac\", \"\\uac00\\uc871\"], \"name\": \"\\ub514\\uc988\\ub2c8+\", \"textinfo\": \"none\", \"type\": \"pie\", \"values\": [2, 82, 0, 0, 0, 29, 23, 209, 53, 54, 122, 0, 71, 10, 50, 59, 46]}, {\"domain\": {\"x\": [0.525, 0.7375], \"y\": [0.575, 1.0]}, \"hole\": 0.4, \"hoverinfo\": \"label+percent+name\", \"labels\": [\"\\ubba4\\uc9c0\\uceec\", \"\\ubc94\\uc8c4\", \"\\uc11c\\uc2a4\\ud39c\\uc2a4\", \"\\uc11c\\ubd80\\uadf9\", \"\\uc11c\\uc0ac\", \"\\ud310\\ud0c0\\uc9c0\", \"\\uacf5\\ud3ec\", \"\\ucf54\\ubbf8\\ub514\", \"\\uba5c\\ub85c/\\ub85c\\ub9e8\\uc2a4\", \"SF\", \"\\uc561\\uc158\", \"\\uc804\\uc7c1\", \"\\uc5b4\\ub4dc\\ubca4\\ucc98\", \"\\uc74c\\uc545\", \"\\uc2a4\\ub9b4\\ub7ec\", \"\\ubbf8\\uc2a4\\ud130\\ub9ac\", \"\\uac00\\uc871\"], \"name\": \"\\uc6e8\\uc774\\ube0c\", \"textinfo\": \"none\", \"type\": \"pie\", \"values\": [0, 210, 2, 0, 18, 141, 33, 231, 422, 64, 162, 23, 58, 2, 81, 195, 23]}, {\"domain\": {\"x\": [0.7875, 1.0], \"y\": [0.575, 1.0]}, \"hole\": 0.4, \"hoverinfo\": \"label+percent+name\", \"labels\": [\"\\ubba4\\uc9c0\\uceec\", \"\\ubc94\\uc8c4\", \"\\uc11c\\uc2a4\\ud39c\\uc2a4\", \"\\uc11c\\ubd80\\uadf9\", \"\\uc11c\\uc0ac\", \"\\ud310\\ud0c0\\uc9c0\", \"\\uacf5\\ud3ec\", \"\\ucf54\\ubbf8\\ub514\", \"\\uba5c\\ub85c/\\ub85c\\ub9e8\\uc2a4\", \"SF\", \"\\uc561\\uc158\", \"\\uc804\\uc7c1\", \"\\uc5b4\\ub4dc\\ubca4\\ucc98\", \"\\uc74c\\uc545\", \"\\uc2a4\\ub9b4\\ub7ec\", \"\\ubbf8\\uc2a4\\ud130\\ub9ac\", \"\\uac00\\uc871\"], \"name\": \"\\ub137\\ud50c\\ub9ad\\uc2a4\", \"textinfo\": \"none\", \"type\": \"pie\", \"values\": [10, 370, 0, 1, 3, 144, 89, 837, 184, 118, 342, 6, 229, 14, 157, 118, 96]}, {\"domain\": {\"x\": [0.0, 0.2125], \"y\": [0.0, 0.425]}, \"hole\": 0.4, \"hoverinfo\": \"label+percent+name\", \"labels\": [\"\\ubba4\\uc9c0\\uceec\", \"\\ubc94\\uc8c4\", \"\\uc11c\\uc2a4\\ud39c\\uc2a4\", \"\\uc11c\\ubd80\\uadf9\", \"\\uc11c\\uc0ac\", \"\\ud310\\ud0c0\\uc9c0\", \"\\uacf5\\ud3ec\", \"\\ucf54\\ubbf8\\ub514\", \"\\uba5c\\ub85c/\\ub85c\\ub9e8\\uc2a4\", \"SF\", \"\\uc561\\uc158\", \"\\uc804\\uc7c1\", \"\\uc5b4\\ub4dc\\ubca4\\ucc98\", \"\\uc74c\\uc545\", \"\\uc2a4\\ub9b4\\ub7ec\", \"\\ubbf8\\uc2a4\\ud130\\ub9ac\", \"\\uac00\\uc871\"], \"name\": \"\\ucfe0\\ud321\\ud50c\\ub808\\uc774\", \"textinfo\": \"none\", \"type\": \"pie\", \"values\": [1, 51, 2, 0, 1, 33, 9, 46, 53, 39, 41, 4, 23, 0, 16, 32, 6]}, {\"domain\": {\"x\": [0.2625, 0.475], \"y\": [0.0, 0.425]}, \"hole\": 0.4, \"hoverinfo\": \"label+percent+name\", \"labels\": [\"\\ubba4\\uc9c0\\uceec\", \"\\ubc94\\uc8c4\", \"\\uc11c\\uc2a4\\ud39c\\uc2a4\", \"\\uc11c\\ubd80\\uadf9\", \"\\uc11c\\uc0ac\", \"\\ud310\\ud0c0\\uc9c0\", \"\\uacf5\\ud3ec\", \"\\ucf54\\ubbf8\\ub514\", \"\\uba5c\\ub85c/\\ub85c\\ub9e8\\uc2a4\", \"SF\", \"\\uc561\\uc158\", \"\\uc804\\uc7c1\", \"\\uc5b4\\ub4dc\\ubca4\\ucc98\", \"\\uc74c\\uc545\", \"\\uc2a4\\ub9b4\\ub7ec\", \"\\ubbf8\\uc2a4\\ud130\\ub9ac\", \"\\uac00\\uc871\"], \"name\": \"\\uc653\\ucc60\", \"textinfo\": \"none\", \"type\": \"pie\", \"values\": [0, 172, 2, 1, 16, 117, 27, 269, 396, 52, 174, 17, 69, 16, 64, 139, 16]}, {\"domain\": {\"x\": [0.525, 0.7375], \"y\": [0.0, 0.425]}, \"hole\": 0.4, \"hoverinfo\": \"label+percent+name\", \"labels\": [\"\\ubba4\\uc9c0\\uceec\", \"\\ubc94\\uc8c4\", \"\\uc11c\\uc2a4\\ud39c\\uc2a4\", \"\\uc11c\\ubd80\\uadf9\", \"\\uc11c\\uc0ac\", \"\\ud310\\ud0c0\\uc9c0\", \"\\uacf5\\ud3ec\", \"\\ucf54\\ubbf8\\ub514\", \"\\uba5c\\ub85c/\\ub85c\\ub9e8\\uc2a4\", \"SF\", \"\\uc561\\uc158\", \"\\uc804\\uc7c1\", \"\\uc5b4\\ub4dc\\ubca4\\ucc98\", \"\\uc74c\\uc545\", \"\\uc2a4\\ub9b4\\ub7ec\", \"\\ubbf8\\uc2a4\\ud130\\ub9ac\", \"\\uac00\\uc871\"], \"name\": \"seezn\", \"textinfo\": \"none\", \"type\": \"pie\", \"values\": [0, 11, 1, 0, 1, 16, 1, 22, 57, 19, 10, 4, 3, 0, 7, 10, 3]}, {\"domain\": {\"x\": [0.7875, 1.0], \"y\": [0.0, 0.425]}, \"hole\": 0.4, \"hoverinfo\": \"label+percent+name\", \"labels\": [\"\\ubba4\\uc9c0\\uceec\", \"\\ubc94\\uc8c4\", \"\\uc11c\\uc2a4\\ud39c\\uc2a4\", \"\\uc11c\\ubd80\\uadf9\", \"\\uc11c\\uc0ac\", \"\\ud310\\ud0c0\\uc9c0\", \"\\uacf5\\ud3ec\", \"\\ucf54\\ubbf8\\ub514\", \"\\uba5c\\ub85c/\\ub85c\\ub9e8\\uc2a4\", \"SF\", \"\\uc561\\uc158\", \"\\uc804\\uc7c1\", \"\\uc5b4\\ub4dc\\ubca4\\ucc98\", \"\\uc74c\\uc545\", \"\\uc2a4\\ub9b4\\ub7ec\", \"\\ubbf8\\uc2a4\\ud130\\ub9ac\", \"\\uac00\\uc871\"], \"name\": \"\\ud2f0\\ube59\", \"textinfo\": \"none\", \"type\": \"pie\", \"values\": [0, 76, 2, 0, 13, 80, 3, 109, 288, 11, 82, 8, 25, 1, 35, 57, 8]}],\n",
              "                        {\"annotations\": [{\"font\": {\"size\": 11}, \"showarrow\": false, \"text\": \"\\uc544\\ub9c8\\uc874\", \"x\": 0.09, \"y\": 0.8}, {\"font\": {\"size\": 11}, \"showarrow\": false, \"text\": \"\\ub514\\uc988\\ub2c8+\", \"x\": 0.371, \"y\": 0.8}, {\"font\": {\"size\": 11}, \"showarrow\": false, \"text\": \"\\uc6e8\\uc774\\ube0c\", \"x\": 0.63, \"y\": 0.8}, {\"font\": {\"size\": 11}, \"showarrow\": false, \"text\": \"\\ub137\\ud50c\\ub9ad\\uc2a4\", \"x\": 0.914, \"y\": 0.8}, {\"font\": {\"size\": 11}, \"showarrow\": false, \"text\": \"\\ucfe0\\ud321\", \"x\": 0.09, \"y\": 0.19}, {\"font\": {\"size\": 11}, \"showarrow\": false, \"text\": \"\\uc653\\ucc60\", \"x\": 0.371, \"y\": 0.19}, {\"font\": {\"size\": 11}, \"showarrow\": false, \"text\": \"seezn\", \"x\": 0.63, \"y\": 0.19}, {\"font\": {\"size\": 11}, \"showarrow\": false, \"text\": \"\\ud2f0\\ube59\", \"x\": 0.914, \"y\": 0.19}], \"template\": {\"data\": {\"bar\": [{\"error_x\": {\"color\": \"#2a3f5f\"}, \"error_y\": {\"color\": \"#2a3f5f\"}, \"marker\": {\"line\": {\"color\": \"#E5ECF6\", \"width\": 0.5}}, \"type\": \"bar\"}], \"barpolar\": [{\"marker\": {\"line\": {\"color\": \"#E5ECF6\", \"width\": 0.5}}, \"type\": \"barpolar\"}], \"carpet\": [{\"aaxis\": {\"endlinecolor\": \"#2a3f5f\", \"gridcolor\": \"white\", \"linecolor\": \"white\", \"minorgridcolor\": \"white\", \"startlinecolor\": \"#2a3f5f\"}, \"baxis\": {\"endlinecolor\": \"#2a3f5f\", \"gridcolor\": \"white\", \"linecolor\": \"white\", \"minorgridcolor\": \"white\", \"startlinecolor\": \"#2a3f5f\"}, \"type\": \"carpet\"}], \"choropleth\": [{\"colorbar\": {\"outlinewidth\": 0, \"ticks\": \"\"}, \"type\": \"choropleth\"}], \"contour\": [{\"colorbar\": {\"outlinewidth\": 0, \"ticks\": \"\"}, \"colorscale\": [[0.0, \"#0d0887\"], [0.1111111111111111, \"#46039f\"], [0.2222222222222222, \"#7201a8\"], [0.3333333333333333, \"#9c179e\"], [0.4444444444444444, \"#bd3786\"], [0.5555555555555556, \"#d8576b\"], [0.6666666666666666, \"#ed7953\"], [0.7777777777777778, \"#fb9f3a\"], [0.8888888888888888, \"#fdca26\"], [1.0, \"#f0f921\"]], \"type\": \"contour\"}], \"contourcarpet\": [{\"colorbar\": {\"outlinewidth\": 0, \"ticks\": \"\"}, \"type\": \"contourcarpet\"}], \"heatmap\": [{\"colorbar\": {\"outlinewidth\": 0, \"ticks\": \"\"}, \"colorscale\": [[0.0, \"#0d0887\"], [0.1111111111111111, \"#46039f\"], [0.2222222222222222, \"#7201a8\"], [0.3333333333333333, \"#9c179e\"], [0.4444444444444444, \"#bd3786\"], [0.5555555555555556, \"#d8576b\"], [0.6666666666666666, \"#ed7953\"], [0.7777777777777778, \"#fb9f3a\"], [0.8888888888888888, \"#fdca26\"], [1.0, \"#f0f921\"]], \"type\": \"heatmap\"}], \"heatmapgl\": [{\"colorbar\": {\"outlinewidth\": 0, \"ticks\": \"\"}, \"colorscale\": [[0.0, \"#0d0887\"], [0.1111111111111111, \"#46039f\"], [0.2222222222222222, \"#7201a8\"], [0.3333333333333333, \"#9c179e\"], [0.4444444444444444, \"#bd3786\"], [0.5555555555555556, \"#d8576b\"], [0.6666666666666666, \"#ed7953\"], [0.7777777777777778, \"#fb9f3a\"], [0.8888888888888888, \"#fdca26\"], [1.0, \"#f0f921\"]], \"type\": \"heatmapgl\"}], \"histogram\": [{\"marker\": {\"colorbar\": {\"outlinewidth\": 0, \"ticks\": \"\"}}, \"type\": \"histogram\"}], \"histogram2d\": [{\"colorbar\": {\"outlinewidth\": 0, \"ticks\": \"\"}, \"colorscale\": [[0.0, \"#0d0887\"], [0.1111111111111111, \"#46039f\"], [0.2222222222222222, \"#7201a8\"], [0.3333333333333333, \"#9c179e\"], [0.4444444444444444, \"#bd3786\"], [0.5555555555555556, \"#d8576b\"], [0.6666666666666666, \"#ed7953\"], [0.7777777777777778, \"#fb9f3a\"], [0.8888888888888888, \"#fdca26\"], [1.0, \"#f0f921\"]], \"type\": \"histogram2d\"}], \"histogram2dcontour\": [{\"colorbar\": {\"outlinewidth\": 0, \"ticks\": \"\"}, \"colorscale\": [[0.0, \"#0d0887\"], [0.1111111111111111, \"#46039f\"], [0.2222222222222222, \"#7201a8\"], [0.3333333333333333, \"#9c179e\"], [0.4444444444444444, \"#bd3786\"], [0.5555555555555556, \"#d8576b\"], [0.6666666666666666, \"#ed7953\"], [0.7777777777777778, \"#fb9f3a\"], [0.8888888888888888, \"#fdca26\"], [1.0, \"#f0f921\"]], \"type\": \"histogram2dcontour\"}], \"mesh3d\": [{\"colorbar\": {\"outlinewidth\": 0, \"ticks\": \"\"}, \"type\": \"mesh3d\"}], \"parcoords\": [{\"line\": {\"colorbar\": {\"outlinewidth\": 0, \"ticks\": \"\"}}, \"type\": \"parcoords\"}], \"pie\": [{\"automargin\": true, \"type\": \"pie\"}], \"scatter\": [{\"marker\": {\"colorbar\": {\"outlinewidth\": 0, \"ticks\": \"\"}}, \"type\": \"scatter\"}], \"scatter3d\": [{\"line\": {\"colorbar\": {\"outlinewidth\": 0, \"ticks\": \"\"}}, \"marker\": {\"colorbar\": {\"outlinewidth\": 0, \"ticks\": \"\"}}, \"type\": \"scatter3d\"}], \"scattercarpet\": [{\"marker\": {\"colorbar\": {\"outlinewidth\": 0, \"ticks\": \"\"}}, \"type\": \"scattercarpet\"}], \"scattergeo\": [{\"marker\": {\"colorbar\": {\"outlinewidth\": 0, \"ticks\": \"\"}}, \"type\": \"scattergeo\"}], \"scattergl\": [{\"marker\": {\"colorbar\": {\"outlinewidth\": 0, \"ticks\": \"\"}}, \"type\": \"scattergl\"}], \"scattermapbox\": [{\"marker\": {\"colorbar\": {\"outlinewidth\": 0, \"ticks\": \"\"}}, \"type\": \"scattermapbox\"}], \"scatterpolar\": [{\"marker\": {\"colorbar\": {\"outlinewidth\": 0, \"ticks\": \"\"}}, \"type\": \"scatterpolar\"}], \"scatterpolargl\": [{\"marker\": {\"colorbar\": {\"outlinewidth\": 0, \"ticks\": \"\"}}, \"type\": \"scatterpolargl\"}], \"scatterternary\": [{\"marker\": {\"colorbar\": {\"outlinewidth\": 0, \"ticks\": \"\"}}, \"type\": \"scatterternary\"}], \"surface\": [{\"colorbar\": {\"outlinewidth\": 0, \"ticks\": \"\"}, \"colorscale\": [[0.0, \"#0d0887\"], [0.1111111111111111, \"#46039f\"], [0.2222222222222222, \"#7201a8\"], [0.3333333333333333, \"#9c179e\"], [0.4444444444444444, \"#bd3786\"], [0.5555555555555556, \"#d8576b\"], [0.6666666666666666, \"#ed7953\"], [0.7777777777777778, \"#fb9f3a\"], [0.8888888888888888, \"#fdca26\"], [1.0, \"#f0f921\"]], \"type\": \"surface\"}], \"table\": [{\"cells\": {\"fill\": {\"color\": \"#EBF0F8\"}, \"line\": {\"color\": \"white\"}}, \"header\": {\"fill\": {\"color\": \"#C8D4E3\"}, \"line\": {\"color\": \"white\"}}, \"type\": \"table\"}]}, \"layout\": {\"annotationdefaults\": {\"arrowcolor\": \"#2a3f5f\", \"arrowhead\": 0, \"arrowwidth\": 1}, \"coloraxis\": {\"colorbar\": {\"outlinewidth\": 0, \"ticks\": \"\"}}, \"colorscale\": {\"diverging\": [[0, \"#8e0152\"], [0.1, \"#c51b7d\"], [0.2, \"#de77ae\"], [0.3, \"#f1b6da\"], [0.4, \"#fde0ef\"], [0.5, \"#f7f7f7\"], [0.6, \"#e6f5d0\"], [0.7, \"#b8e186\"], [0.8, \"#7fbc41\"], [0.9, \"#4d9221\"], [1, \"#276419\"]], \"sequential\": [[0.0, \"#0d0887\"], [0.1111111111111111, \"#46039f\"], [0.2222222222222222, \"#7201a8\"], [0.3333333333333333, \"#9c179e\"], [0.4444444444444444, \"#bd3786\"], [0.5555555555555556, \"#d8576b\"], [0.6666666666666666, \"#ed7953\"], [0.7777777777777778, \"#fb9f3a\"], [0.8888888888888888, \"#fdca26\"], [1.0, \"#f0f921\"]], \"sequentialminus\": [[0.0, \"#0d0887\"], [0.1111111111111111, \"#46039f\"], [0.2222222222222222, \"#7201a8\"], [0.3333333333333333, \"#9c179e\"], [0.4444444444444444, \"#bd3786\"], [0.5555555555555556, \"#d8576b\"], [0.6666666666666666, \"#ed7953\"], [0.7777777777777778, \"#fb9f3a\"], [0.8888888888888888, \"#fdca26\"], [1.0, \"#f0f921\"]]}, \"colorway\": [\"#636efa\", \"#EF553B\", \"#00cc96\", \"#ab63fa\", \"#FFA15A\", \"#19d3f3\", \"#FF6692\", \"#B6E880\", \"#FF97FF\", \"#FECB52\"], \"font\": {\"color\": \"#2a3f5f\"}, \"geo\": {\"bgcolor\": \"white\", \"lakecolor\": \"white\", \"landcolor\": \"#E5ECF6\", \"showlakes\": true, \"showland\": true, \"subunitcolor\": \"white\"}, \"hoverlabel\": {\"align\": \"left\"}, \"hovermode\": \"closest\", \"mapbox\": {\"style\": \"light\"}, \"paper_bgcolor\": \"white\", \"plot_bgcolor\": \"#E5ECF6\", \"polar\": {\"angularaxis\": {\"gridcolor\": \"white\", \"linecolor\": \"white\", \"ticks\": \"\"}, \"bgcolor\": \"#E5ECF6\", \"radialaxis\": {\"gridcolor\": \"white\", \"linecolor\": \"white\", \"ticks\": \"\"}}, \"scene\": {\"xaxis\": {\"backgroundcolor\": \"#E5ECF6\", \"gridcolor\": \"white\", \"gridwidth\": 2, \"linecolor\": \"white\", \"showbackground\": true, \"ticks\": \"\", \"zerolinecolor\": \"white\"}, \"yaxis\": {\"backgroundcolor\": \"#E5ECF6\", \"gridcolor\": \"white\", \"gridwidth\": 2, \"linecolor\": \"white\", \"showbackground\": true, \"ticks\": \"\", \"zerolinecolor\": \"white\"}, \"zaxis\": {\"backgroundcolor\": \"#E5ECF6\", \"gridcolor\": \"white\", \"gridwidth\": 2, \"linecolor\": \"white\", \"showbackground\": true, \"ticks\": \"\", \"zerolinecolor\": \"white\"}}, \"shapedefaults\": {\"line\": {\"color\": \"#2a3f5f\"}}, \"ternary\": {\"aaxis\": {\"gridcolor\": \"white\", \"linecolor\": \"white\", \"ticks\": \"\"}, \"baxis\": {\"gridcolor\": \"white\", \"linecolor\": \"white\", \"ticks\": \"\"}, \"bgcolor\": \"#E5ECF6\", \"caxis\": {\"gridcolor\": \"white\", \"linecolor\": \"white\", \"ticks\": \"\"}}, \"title\": {\"x\": 0.05}, \"xaxis\": {\"automargin\": true, \"gridcolor\": \"white\", \"linecolor\": \"white\", \"ticks\": \"\", \"title\": {\"standoff\": 15}, \"zerolinecolor\": \"white\", \"zerolinewidth\": 2}, \"yaxis\": {\"automargin\": true, \"gridcolor\": \"white\", \"linecolor\": \"white\", \"ticks\": \"\", \"title\": {\"standoff\": 15}, \"zerolinecolor\": \"white\", \"zerolinewidth\": 2}}}, \"title\": {\"text\": \"\\uc7a5\\ub974\\ubcc4 \\ubd84\\ub958\"}},\n",
              "                        {\"responsive\": true}\n",
              "                    ).then(function(){\n",
              "                            \n",
              "var gd = document.getElementById('4ad53e3a-6405-4b08-bb00-9c3976d61f96');\n",
              "var x = new MutationObserver(function (mutations, observer) {{\n",
              "        var display = window.getComputedStyle(gd).display;\n",
              "        if (!display || display === 'none') {{\n",
              "            console.log([gd, 'removed!']);\n",
              "            Plotly.purge(gd);\n",
              "            observer.disconnect();\n",
              "        }}\n",
              "}});\n",
              "\n",
              "// Listen for the removal of the full notebook cells\n",
              "var notebookContainer = gd.closest('#notebook-container');\n",
              "if (notebookContainer) {{\n",
              "    x.observe(notebookContainer, {childList: true});\n",
              "}}\n",
              "\n",
              "// Listen for the clearing of the current output cell\n",
              "var outputEl = gd.closest('.output');\n",
              "if (outputEl) {{\n",
              "    x.observe(outputEl, {childList: true});\n",
              "}}\n",
              "\n",
              "                        })\n",
              "                };\n",
              "                \n",
              "            </script>\n",
              "        </div>\n",
              "</body>\n",
              "</html>"
            ]
          },
          "metadata": {}
        }
      ]
    },
    {
      "cell_type": "code",
      "source": [
        "#영상매체별[애니메이션,다큐멘터리,드라마,예능,공연] 분류\n",
        "\n",
        "li=['애니메이션','다큐멘터리','예능','공연','드라마']\n",
        "df5_3=df5.loc[df5['장르'].isin(li)]\n",
        "\n",
        "\"\"\"각 플랫폼 별로 시각화=[아마존프라임비디오,디즈니+,웨이브,넷플릭스,쿠팡플레이,왓챠,seezn,티빙]만\n",
        "라프텔은 99퍼가 애니메이션이라 제외\n",
        "appletv와 네이버시리즈온은 데이터 양이 적어 제외시킴\"\"\"\n",
        "\n",
        "#라이브러리 호출\n",
        "import plotly.graph_objects as go\n",
        "from plotly.subplots import make_subplots\n",
        "\n",
        "ama=df5_3.loc[df5_3['provider'].str.contains('아마존프라임비디오')]\n",
        "di=df5_3.loc[df5_3['provider'].str.contains('디즈니+')]\n",
        "wave=df5_3.loc[df5_3['provider'].str.contains('웨이브')]\n",
        "net=df5_3.loc[df5_3['provider'].str.contains('넷플릭스')]\n",
        "coo=df5_3.loc[df5_3['provider'].str.contains('쿠팡플레이')]\n",
        "wat=df5_3.loc[df5_3['provider'].str.contains('왓챠')]\n",
        "see=df5_3.loc[df5_3['provider'].str.contains('seezn')]\n",
        "ti=df5_3.loc[df5_3['provider'].str.contains('티빙')]\n",
        "\n",
        "# 서브플롯\n",
        "specs = [[{'type':'domain'}, {'type':'domain'},{'type':'domain'}, {'type':'domain'}],[{'type':'domain'}, {'type':'domain'},{'type':'domain'}, {'type':'domain'}]]\n",
        "fig = make_subplots(rows=2, cols=4, specs=specs)\n",
        "\n",
        "fig.add_trace(go.Pie(labels=ama['장르'], values=ama['count'], name=\"아마존\"),1, 1)\n",
        "fig.add_trace(go.Pie(labels=di['장르'], values=di['count'], name=\"디즈니+\"),1, 2)\n",
        "fig.add_trace(go.Pie(labels=wave['장르'], values=wave['count'], name=\"웨이브\"),1, 3)\n",
        "fig.add_trace(go.Pie(labels=net['장르'], values=net['count'], name=\"넷플릭스\"),1, 4)\n",
        "fig.add_trace(go.Pie(labels=coo['장르'], values=coo['count'], name=\"쿠팡플레이\"),2, 1)\n",
        "fig.add_trace(go.Pie(labels=wat['장르'], values=wat['count'], name=\"왓챠\"),2, 2)\n",
        "fig.add_trace(go.Pie(labels=see['장르'], values=see['count'], name=\"seezn\"),2, 3)\n",
        "fig.add_trace(go.Pie(labels=ti['장르'], values=ti['count'], name=\"티빙\"),2, 4)\n",
        "\n",
        "#도넛모양으로 만들기\n",
        "fig.update_traces(hole=.4, hoverinfo=\"label+percent+name\",textinfo='none')\n",
        "\n",
        "fig.update_layout(\n",
        "    title_text='영상매체',\n",
        "    # Add annotations in the center of the donut pies.\n",
        "    annotations=[dict(text='아마존', x=0.09, y=0.8, font_size=11, showarrow=False),\n",
        "                 dict(text='디즈니+', x=0.371, y=0.8, font_size=11, showarrow=False),\n",
        "                 dict(text='웨이브', x=0.63, y=0.8, font_size=11, showarrow=False),\n",
        "                 dict(text='넷플릭스', x=0.914, y=0.8, font_size=11, showarrow=False),\n",
        "                 dict(text='쿠팡', x=0.09, y=0.19, font_size=11, showarrow=False),\n",
        "                 dict(text='왓챠', x=0.371, y=0.19, font_size=11, showarrow=False),\n",
        "                 dict(text='seezn', x=0.63, y=0.19, font_size=11, showarrow=False),\n",
        "                 dict(text='티빙', x=0.914, y=0.19, font_size=11, showarrow=False)])\n",
        "fig = go.Figure(fig)\n",
        "fig.show()"
      ],
      "metadata": {
        "colab": {
          "base_uri": "https://localhost:8080/",
          "height": 542
        },
        "id": "JYbwdtSyPIFc",
        "outputId": "9ad7e06c-10eb-44de-ad14-ce3e6bee6004"
      },
      "execution_count": 52,
      "outputs": [
        {
          "output_type": "display_data",
          "data": {
            "text/html": [
              "<html>\n",
              "<head><meta charset=\"utf-8\" /></head>\n",
              "<body>\n",
              "    <div>\n",
              "            <script src=\"https://cdnjs.cloudflare.com/ajax/libs/mathjax/2.7.5/MathJax.js?config=TeX-AMS-MML_SVG\"></script><script type=\"text/javascript\">if (window.MathJax) {MathJax.Hub.Config({SVG: {font: \"STIX-Web\"}});}</script>\n",
              "                <script type=\"text/javascript\">window.PlotlyConfig = {MathJaxConfig: 'local'};</script>\n",
              "        <script src=\"https://cdn.plot.ly/plotly-latest.min.js\"></script>    \n",
              "            <div id=\"4bd2b704-c313-4db7-b4df-c583b4d79885\" class=\"plotly-graph-div\" style=\"height:525px; width:100%;\"></div>\n",
              "            <script type=\"text/javascript\">\n",
              "                \n",
              "                    window.PLOTLYENV=window.PLOTLYENV || {};\n",
              "                    \n",
              "                if (document.getElementById(\"4bd2b704-c313-4db7-b4df-c583b4d79885\")) {\n",
              "                    Plotly.newPlot(\n",
              "                        '4bd2b704-c313-4db7-b4df-c583b4d79885',\n",
              "                        [{\"domain\": {\"x\": [0.0, 0.2125], \"y\": [0.575, 1.0]}, \"hole\": 0.4, \"hoverinfo\": \"label+percent+name\", \"labels\": [\"\\ub2e4\\ud050\\uba58\\ud130\\ub9ac\", \"\\uc560\\ub2c8\\uba54\\uc774\\uc158\", \"\\uacf5\\uc5f0\", \"\\uc608\\ub2a5\"], \"name\": \"\\uc544\\ub9c8\\uc874\", \"textinfo\": \"none\", \"type\": \"pie\", \"values\": [17, 39, 0, 4]}, {\"domain\": {\"x\": [0.2625, 0.475], \"y\": [0.575, 1.0]}, \"hole\": 0.4, \"hoverinfo\": \"label+percent+name\", \"labels\": [\"\\ub2e4\\ud050\\uba58\\ud130\\ub9ac\", \"\\uc560\\ub2c8\\uba54\\uc774\\uc158\", \"\\uacf5\\uc5f0\", \"\\uc608\\ub2a5\"], \"name\": \"\\ub514\\uc988\\ub2c8+\", \"textinfo\": \"none\", \"type\": \"pie\", \"values\": [98, 206, 1, 25]}, {\"domain\": {\"x\": [0.525, 0.7375], \"y\": [0.575, 1.0]}, \"hole\": 0.4, \"hoverinfo\": \"label+percent+name\", \"labels\": [\"\\ub2e4\\ud050\\uba58\\ud130\\ub9ac\", \"\\uc560\\ub2c8\\uba54\\uc774\\uc158\", \"\\uacf5\\uc5f0\", \"\\uc608\\ub2a5\"], \"name\": \"\\uc6e8\\uc774\\ube0c\", \"textinfo\": \"none\", \"type\": \"pie\", \"values\": [28, 735, 0, 614]}, {\"domain\": {\"x\": [0.7875, 1.0], \"y\": [0.575, 1.0]}, \"hole\": 0.4, \"hoverinfo\": \"label+percent+name\", \"labels\": [\"\\ub2e4\\ud050\\uba58\\ud130\\ub9ac\", \"\\uc560\\ub2c8\\uba54\\uc774\\uc158\", \"\\uacf5\\uc5f0\", \"\\uc608\\ub2a5\"], \"name\": \"\\ub137\\ud50c\\ub9ad\\uc2a4\", \"textinfo\": \"none\", \"type\": \"pie\", \"values\": [302, 749, 0, 321]}, {\"domain\": {\"x\": [0.0, 0.2125], \"y\": [0.0, 0.425]}, \"hole\": 0.4, \"hoverinfo\": \"label+percent+name\", \"labels\": [\"\\ub2e4\\ud050\\uba58\\ud130\\ub9ac\", \"\\uc560\\ub2c8\\uba54\\uc774\\uc158\", \"\\uacf5\\uc5f0\", \"\\uc608\\ub2a5\"], \"name\": \"\\ucfe0\\ud321\\ud50c\\ub808\\uc774\", \"textinfo\": \"none\", \"type\": \"pie\", \"values\": [58, 156, 0, 48]}, {\"domain\": {\"x\": [0.2625, 0.475], \"y\": [0.0, 0.425]}, \"hole\": 0.4, \"hoverinfo\": \"label+percent+name\", \"labels\": [\"\\ub2e4\\ud050\\uba58\\ud130\\ub9ac\", \"\\uc560\\ub2c8\\uba54\\uc774\\uc158\", \"\\uacf5\\uc5f0\", \"\\uc608\\ub2a5\"], \"name\": \"\\uc653\\ucc60\", \"textinfo\": \"none\", \"type\": \"pie\", \"values\": [427, 1103, 2, 625]}, {\"domain\": {\"x\": [0.525, 0.7375], \"y\": [0.0, 0.425]}, \"hole\": 0.4, \"hoverinfo\": \"label+percent+name\", \"labels\": [\"\\ub2e4\\ud050\\uba58\\ud130\\ub9ac\", \"\\uc560\\ub2c8\\uba54\\uc774\\uc158\", \"\\uacf5\\uc5f0\", \"\\uc608\\ub2a5\"], \"name\": \"seezn\", \"textinfo\": \"none\", \"type\": \"pie\", \"values\": [1, 7, 0, 107]}, {\"domain\": {\"x\": [0.7875, 1.0], \"y\": [0.0, 0.425]}, \"hole\": 0.4, \"hoverinfo\": \"label+percent+name\", \"labels\": [\"\\ub2e4\\ud050\\uba58\\ud130\\ub9ac\", \"\\uc560\\ub2c8\\uba54\\uc774\\uc158\", \"\\uacf5\\uc5f0\", \"\\uc608\\ub2a5\"], \"name\": \"\\ud2f0\\ube59\", \"textinfo\": \"none\", \"type\": \"pie\", \"values\": [47, 772, 1, 1218]}],\n",
              "                        {\"annotations\": [{\"font\": {\"size\": 11}, \"showarrow\": false, \"text\": \"\\uc544\\ub9c8\\uc874\", \"x\": 0.09, \"y\": 0.8}, {\"font\": {\"size\": 11}, \"showarrow\": false, \"text\": \"\\ub514\\uc988\\ub2c8+\", \"x\": 0.371, \"y\": 0.8}, {\"font\": {\"size\": 11}, \"showarrow\": false, \"text\": \"\\uc6e8\\uc774\\ube0c\", \"x\": 0.63, \"y\": 0.8}, {\"font\": {\"size\": 11}, \"showarrow\": false, \"text\": \"\\ub137\\ud50c\\ub9ad\\uc2a4\", \"x\": 0.914, \"y\": 0.8}, {\"font\": {\"size\": 11}, \"showarrow\": false, \"text\": \"\\ucfe0\\ud321\", \"x\": 0.09, \"y\": 0.19}, {\"font\": {\"size\": 11}, \"showarrow\": false, \"text\": \"\\uc653\\ucc60\", \"x\": 0.371, \"y\": 0.19}, {\"font\": {\"size\": 11}, \"showarrow\": false, \"text\": \"seezn\", \"x\": 0.63, \"y\": 0.19}, {\"font\": {\"size\": 11}, \"showarrow\": false, \"text\": \"\\ud2f0\\ube59\", \"x\": 0.914, \"y\": 0.19}], \"template\": {\"data\": {\"bar\": [{\"error_x\": {\"color\": \"#2a3f5f\"}, \"error_y\": {\"color\": \"#2a3f5f\"}, \"marker\": {\"line\": {\"color\": \"#E5ECF6\", \"width\": 0.5}}, \"type\": \"bar\"}], \"barpolar\": [{\"marker\": {\"line\": {\"color\": \"#E5ECF6\", \"width\": 0.5}}, \"type\": \"barpolar\"}], \"carpet\": [{\"aaxis\": {\"endlinecolor\": \"#2a3f5f\", \"gridcolor\": \"white\", \"linecolor\": \"white\", \"minorgridcolor\": \"white\", \"startlinecolor\": \"#2a3f5f\"}, \"baxis\": {\"endlinecolor\": \"#2a3f5f\", \"gridcolor\": \"white\", \"linecolor\": \"white\", \"minorgridcolor\": \"white\", \"startlinecolor\": \"#2a3f5f\"}, \"type\": \"carpet\"}], \"choropleth\": [{\"colorbar\": {\"outlinewidth\": 0, \"ticks\": \"\"}, \"type\": \"choropleth\"}], \"contour\": [{\"colorbar\": {\"outlinewidth\": 0, \"ticks\": \"\"}, \"colorscale\": [[0.0, \"#0d0887\"], [0.1111111111111111, \"#46039f\"], [0.2222222222222222, \"#7201a8\"], [0.3333333333333333, \"#9c179e\"], [0.4444444444444444, \"#bd3786\"], [0.5555555555555556, \"#d8576b\"], [0.6666666666666666, \"#ed7953\"], [0.7777777777777778, \"#fb9f3a\"], [0.8888888888888888, \"#fdca26\"], [1.0, \"#f0f921\"]], \"type\": \"contour\"}], \"contourcarpet\": [{\"colorbar\": {\"outlinewidth\": 0, \"ticks\": \"\"}, \"type\": \"contourcarpet\"}], \"heatmap\": [{\"colorbar\": {\"outlinewidth\": 0, \"ticks\": \"\"}, \"colorscale\": [[0.0, \"#0d0887\"], [0.1111111111111111, \"#46039f\"], [0.2222222222222222, \"#7201a8\"], [0.3333333333333333, \"#9c179e\"], [0.4444444444444444, \"#bd3786\"], [0.5555555555555556, \"#d8576b\"], [0.6666666666666666, \"#ed7953\"], [0.7777777777777778, \"#fb9f3a\"], [0.8888888888888888, \"#fdca26\"], [1.0, \"#f0f921\"]], \"type\": \"heatmap\"}], \"heatmapgl\": [{\"colorbar\": {\"outlinewidth\": 0, \"ticks\": \"\"}, \"colorscale\": [[0.0, \"#0d0887\"], [0.1111111111111111, \"#46039f\"], [0.2222222222222222, \"#7201a8\"], [0.3333333333333333, \"#9c179e\"], [0.4444444444444444, \"#bd3786\"], [0.5555555555555556, \"#d8576b\"], [0.6666666666666666, \"#ed7953\"], [0.7777777777777778, \"#fb9f3a\"], [0.8888888888888888, \"#fdca26\"], [1.0, \"#f0f921\"]], \"type\": \"heatmapgl\"}], \"histogram\": [{\"marker\": {\"colorbar\": {\"outlinewidth\": 0, \"ticks\": \"\"}}, \"type\": \"histogram\"}], \"histogram2d\": [{\"colorbar\": {\"outlinewidth\": 0, \"ticks\": \"\"}, \"colorscale\": [[0.0, \"#0d0887\"], [0.1111111111111111, \"#46039f\"], [0.2222222222222222, \"#7201a8\"], [0.3333333333333333, \"#9c179e\"], [0.4444444444444444, \"#bd3786\"], [0.5555555555555556, \"#d8576b\"], [0.6666666666666666, \"#ed7953\"], [0.7777777777777778, \"#fb9f3a\"], [0.8888888888888888, \"#fdca26\"], [1.0, \"#f0f921\"]], \"type\": \"histogram2d\"}], \"histogram2dcontour\": [{\"colorbar\": {\"outlinewidth\": 0, \"ticks\": \"\"}, \"colorscale\": [[0.0, \"#0d0887\"], [0.1111111111111111, \"#46039f\"], [0.2222222222222222, \"#7201a8\"], [0.3333333333333333, \"#9c179e\"], [0.4444444444444444, \"#bd3786\"], [0.5555555555555556, \"#d8576b\"], [0.6666666666666666, \"#ed7953\"], [0.7777777777777778, \"#fb9f3a\"], [0.8888888888888888, \"#fdca26\"], [1.0, \"#f0f921\"]], \"type\": \"histogram2dcontour\"}], \"mesh3d\": [{\"colorbar\": {\"outlinewidth\": 0, \"ticks\": \"\"}, \"type\": \"mesh3d\"}], \"parcoords\": [{\"line\": {\"colorbar\": {\"outlinewidth\": 0, \"ticks\": \"\"}}, \"type\": \"parcoords\"}], \"pie\": [{\"automargin\": true, \"type\": \"pie\"}], \"scatter\": [{\"marker\": {\"colorbar\": {\"outlinewidth\": 0, \"ticks\": \"\"}}, \"type\": \"scatter\"}], \"scatter3d\": [{\"line\": {\"colorbar\": {\"outlinewidth\": 0, \"ticks\": \"\"}}, \"marker\": {\"colorbar\": {\"outlinewidth\": 0, \"ticks\": \"\"}}, \"type\": \"scatter3d\"}], \"scattercarpet\": [{\"marker\": {\"colorbar\": {\"outlinewidth\": 0, \"ticks\": \"\"}}, \"type\": \"scattercarpet\"}], \"scattergeo\": [{\"marker\": {\"colorbar\": {\"outlinewidth\": 0, \"ticks\": \"\"}}, \"type\": \"scattergeo\"}], \"scattergl\": [{\"marker\": {\"colorbar\": {\"outlinewidth\": 0, \"ticks\": \"\"}}, \"type\": \"scattergl\"}], \"scattermapbox\": [{\"marker\": {\"colorbar\": {\"outlinewidth\": 0, \"ticks\": \"\"}}, \"type\": \"scattermapbox\"}], \"scatterpolar\": [{\"marker\": {\"colorbar\": {\"outlinewidth\": 0, \"ticks\": \"\"}}, \"type\": \"scatterpolar\"}], \"scatterpolargl\": [{\"marker\": {\"colorbar\": {\"outlinewidth\": 0, \"ticks\": \"\"}}, \"type\": \"scatterpolargl\"}], \"scatterternary\": [{\"marker\": {\"colorbar\": {\"outlinewidth\": 0, \"ticks\": \"\"}}, \"type\": \"scatterternary\"}], \"surface\": [{\"colorbar\": {\"outlinewidth\": 0, \"ticks\": \"\"}, \"colorscale\": [[0.0, \"#0d0887\"], [0.1111111111111111, \"#46039f\"], [0.2222222222222222, \"#7201a8\"], [0.3333333333333333, \"#9c179e\"], [0.4444444444444444, \"#bd3786\"], [0.5555555555555556, \"#d8576b\"], [0.6666666666666666, \"#ed7953\"], [0.7777777777777778, \"#fb9f3a\"], [0.8888888888888888, \"#fdca26\"], [1.0, \"#f0f921\"]], \"type\": \"surface\"}], \"table\": [{\"cells\": {\"fill\": {\"color\": \"#EBF0F8\"}, \"line\": {\"color\": \"white\"}}, \"header\": {\"fill\": {\"color\": \"#C8D4E3\"}, \"line\": {\"color\": \"white\"}}, \"type\": \"table\"}]}, \"layout\": {\"annotationdefaults\": {\"arrowcolor\": \"#2a3f5f\", \"arrowhead\": 0, \"arrowwidth\": 1}, \"coloraxis\": {\"colorbar\": {\"outlinewidth\": 0, \"ticks\": \"\"}}, \"colorscale\": {\"diverging\": [[0, \"#8e0152\"], [0.1, \"#c51b7d\"], [0.2, \"#de77ae\"], [0.3, \"#f1b6da\"], [0.4, \"#fde0ef\"], [0.5, \"#f7f7f7\"], [0.6, \"#e6f5d0\"], [0.7, \"#b8e186\"], [0.8, \"#7fbc41\"], [0.9, \"#4d9221\"], [1, \"#276419\"]], \"sequential\": [[0.0, \"#0d0887\"], [0.1111111111111111, \"#46039f\"], [0.2222222222222222, \"#7201a8\"], [0.3333333333333333, \"#9c179e\"], [0.4444444444444444, \"#bd3786\"], [0.5555555555555556, \"#d8576b\"], [0.6666666666666666, \"#ed7953\"], [0.7777777777777778, \"#fb9f3a\"], [0.8888888888888888, \"#fdca26\"], [1.0, \"#f0f921\"]], \"sequentialminus\": [[0.0, \"#0d0887\"], [0.1111111111111111, \"#46039f\"], [0.2222222222222222, \"#7201a8\"], [0.3333333333333333, \"#9c179e\"], [0.4444444444444444, \"#bd3786\"], [0.5555555555555556, \"#d8576b\"], [0.6666666666666666, \"#ed7953\"], [0.7777777777777778, \"#fb9f3a\"], [0.8888888888888888, \"#fdca26\"], [1.0, \"#f0f921\"]]}, \"colorway\": [\"#636efa\", \"#EF553B\", \"#00cc96\", \"#ab63fa\", \"#FFA15A\", \"#19d3f3\", \"#FF6692\", \"#B6E880\", \"#FF97FF\", \"#FECB52\"], \"font\": {\"color\": \"#2a3f5f\"}, \"geo\": {\"bgcolor\": \"white\", \"lakecolor\": \"white\", \"landcolor\": \"#E5ECF6\", \"showlakes\": true, \"showland\": true, \"subunitcolor\": \"white\"}, \"hoverlabel\": {\"align\": \"left\"}, \"hovermode\": \"closest\", \"mapbox\": {\"style\": \"light\"}, \"paper_bgcolor\": \"white\", \"plot_bgcolor\": \"#E5ECF6\", \"polar\": {\"angularaxis\": {\"gridcolor\": \"white\", \"linecolor\": \"white\", \"ticks\": \"\"}, \"bgcolor\": \"#E5ECF6\", \"radialaxis\": {\"gridcolor\": \"white\", \"linecolor\": \"white\", \"ticks\": \"\"}}, \"scene\": {\"xaxis\": {\"backgroundcolor\": \"#E5ECF6\", \"gridcolor\": \"white\", \"gridwidth\": 2, \"linecolor\": \"white\", \"showbackground\": true, \"ticks\": \"\", \"zerolinecolor\": \"white\"}, \"yaxis\": {\"backgroundcolor\": \"#E5ECF6\", \"gridcolor\": \"white\", \"gridwidth\": 2, \"linecolor\": \"white\", \"showbackground\": true, \"ticks\": \"\", \"zerolinecolor\": \"white\"}, \"zaxis\": {\"backgroundcolor\": \"#E5ECF6\", \"gridcolor\": \"white\", \"gridwidth\": 2, \"linecolor\": \"white\", \"showbackground\": true, \"ticks\": \"\", \"zerolinecolor\": \"white\"}}, \"shapedefaults\": {\"line\": {\"color\": \"#2a3f5f\"}}, \"ternary\": {\"aaxis\": {\"gridcolor\": \"white\", \"linecolor\": \"white\", \"ticks\": \"\"}, \"baxis\": {\"gridcolor\": \"white\", \"linecolor\": \"white\", \"ticks\": \"\"}, \"bgcolor\": \"#E5ECF6\", \"caxis\": {\"gridcolor\": \"white\", \"linecolor\": \"white\", \"ticks\": \"\"}}, \"title\": {\"x\": 0.05}, \"xaxis\": {\"automargin\": true, \"gridcolor\": \"white\", \"linecolor\": \"white\", \"ticks\": \"\", \"title\": {\"standoff\": 15}, \"zerolinecolor\": \"white\", \"zerolinewidth\": 2}, \"yaxis\": {\"automargin\": true, \"gridcolor\": \"white\", \"linecolor\": \"white\", \"ticks\": \"\", \"title\": {\"standoff\": 15}, \"zerolinecolor\": \"white\", \"zerolinewidth\": 2}}}, \"title\": {\"text\": \"\\uc601\\uc0c1\\ub9e4\\uccb4\"}},\n",
              "                        {\"responsive\": true}\n",
              "                    ).then(function(){\n",
              "                            \n",
              "var gd = document.getElementById('4bd2b704-c313-4db7-b4df-c583b4d79885');\n",
              "var x = new MutationObserver(function (mutations, observer) {{\n",
              "        var display = window.getComputedStyle(gd).display;\n",
              "        if (!display || display === 'none') {{\n",
              "            console.log([gd, 'removed!']);\n",
              "            Plotly.purge(gd);\n",
              "            observer.disconnect();\n",
              "        }}\n",
              "}});\n",
              "\n",
              "// Listen for the removal of the full notebook cells\n",
              "var notebookContainer = gd.closest('#notebook-container');\n",
              "if (notebookContainer) {{\n",
              "    x.observe(notebookContainer, {childList: true});\n",
              "}}\n",
              "\n",
              "// Listen for the clearing of the current output cell\n",
              "var outputEl = gd.closest('.output');\n",
              "if (outputEl) {{\n",
              "    x.observe(outputEl, {childList: true});\n",
              "}}\n",
              "\n",
              "                        })\n",
              "                };\n",
              "                \n",
              "            </script>\n",
              "        </div>\n",
              "</body>\n",
              "</html>"
            ]
          },
          "metadata": {}
        }
      ]
    }
  ]
}